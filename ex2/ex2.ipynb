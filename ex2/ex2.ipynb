{
  "cells": [
    {
      "cell_type": "code",
      "execution_count": 13,
      "metadata": {
        "colab": {
          "base_uri": "https://localhost:8080/"
        },
        "id": "_YcvUZxC5atq",
        "outputId": "025dc0e0-4bd4-40d6-b411-15500ab9f323"
      },
      "outputs": [
        {
          "name": "stdout",
          "output_type": "stream",
          "text": [
            "Requirement already satisfied: chefboost in c:\\users\\andre\\appdata\\local\\programs\\python\\python311\\lib\\site-packages (0.0.17)\n",
            "Requirement already satisfied: pandas>=0.22.0 in c:\\users\\andre\\appdata\\local\\programs\\python\\python311\\lib\\site-packages (from chefboost) (2.0.3)\n",
            "Requirement already satisfied: numpy>=1.14.0 in c:\\users\\andre\\appdata\\local\\programs\\python\\python311\\lib\\site-packages (from chefboost) (1.25.2)\n",
            "Requirement already satisfied: tqdm>=4.30.0 in c:\\users\\andre\\appdata\\local\\programs\\python\\python311\\lib\\site-packages (from chefboost) (4.66.1)\n",
            "Requirement already satisfied: psutil>=5.4.3 in c:\\users\\andre\\appdata\\local\\programs\\python\\python311\\lib\\site-packages (from chefboost) (5.9.5)\n",
            "Requirement already satisfied: python-dateutil>=2.8.2 in c:\\users\\andre\\appdata\\local\\programs\\python\\python311\\lib\\site-packages (from pandas>=0.22.0->chefboost) (2.8.2)\n",
            "Requirement already satisfied: pytz>=2020.1 in c:\\users\\andre\\appdata\\local\\programs\\python\\python311\\lib\\site-packages (from pandas>=0.22.0->chefboost) (2023.3)\n",
            "Requirement already satisfied: tzdata>=2022.1 in c:\\users\\andre\\appdata\\local\\programs\\python\\python311\\lib\\site-packages (from pandas>=0.22.0->chefboost) (2023.3)\n",
            "Requirement already satisfied: colorama in c:\\users\\andre\\appdata\\local\\programs\\python\\python311\\lib\\site-packages (from tqdm>=4.30.0->chefboost) (0.4.6)\n",
            "Requirement already satisfied: six>=1.5 in c:\\users\\andre\\appdata\\local\\programs\\python\\python311\\lib\\site-packages (from python-dateutil>=2.8.2->pandas>=0.22.0->chefboost) (1.16.0)\n",
            "Note: you may need to restart the kernel to use updated packages.\n"
          ]
        }
      ],
      "source": [
        "# installing chefboost\n",
        "%pip install chefboost"
      ]
    },
    {
      "cell_type": "code",
      "execution_count": 14,
      "metadata": {
        "id": "Mtde7t2u5EXD"
      },
      "outputs": [],
      "source": [
        "# importing chefboost and pandas\n",
        "import pandas as pd\n",
        "from chefboost import Chefboost as chef"
      ]
    },
    {
      "cell_type": "code",
      "execution_count": 15,
      "metadata": {
        "colab": {
          "base_uri": "https://localhost:8080/",
          "height": 206
        },
        "id": "NDo6Lnl95g5L",
        "outputId": "97519dc9-74d0-4916-b49a-6bbc997a84c3"
      },
      "outputs": [
        {
          "data": {
            "text/html": [
              "<div>\n",
              "<style scoped>\n",
              "    .dataframe tbody tr th:only-of-type {\n",
              "        vertical-align: middle;\n",
              "    }\n",
              "\n",
              "    .dataframe tbody tr th {\n",
              "        vertical-align: top;\n",
              "    }\n",
              "\n",
              "    .dataframe thead th {\n",
              "        text-align: right;\n",
              "    }\n",
              "</style>\n",
              "<table border=\"1\" class=\"dataframe\">\n",
              "  <thead>\n",
              "    <tr style=\"text-align: right;\">\n",
              "      <th></th>\n",
              "      <th>Historia do credito</th>\n",
              "      <th>Divida</th>\n",
              "      <th>Garantias</th>\n",
              "      <th>Renda anual</th>\n",
              "      <th>Risco</th>\n",
              "    </tr>\n",
              "  </thead>\n",
              "  <tbody>\n",
              "    <tr>\n",
              "      <th>0</th>\n",
              "      <td>Ruim</td>\n",
              "      <td>Alta</td>\n",
              "      <td>Nenhuma</td>\n",
              "      <td>&lt;15000</td>\n",
              "      <td>Alto</td>\n",
              "    </tr>\n",
              "    <tr>\n",
              "      <th>1</th>\n",
              "      <td>Desconhecida</td>\n",
              "      <td>Alta</td>\n",
              "      <td>Nenhuma</td>\n",
              "      <td>&gt;=15000 a &lt;=35000</td>\n",
              "      <td>Alto</td>\n",
              "    </tr>\n",
              "    <tr>\n",
              "      <th>2</th>\n",
              "      <td>Desconhecida</td>\n",
              "      <td>Baixa</td>\n",
              "      <td>Nenhuma</td>\n",
              "      <td>&gt;=15000 a &lt;=35000</td>\n",
              "      <td>Moderado</td>\n",
              "    </tr>\n",
              "    <tr>\n",
              "      <th>3</th>\n",
              "      <td>Desconhecida</td>\n",
              "      <td>Baixa</td>\n",
              "      <td>Nenhuma</td>\n",
              "      <td>&gt;35000</td>\n",
              "      <td>Alto</td>\n",
              "    </tr>\n",
              "    <tr>\n",
              "      <th>4</th>\n",
              "      <td>Desconhecida</td>\n",
              "      <td>Baixa</td>\n",
              "      <td>Nenhuma</td>\n",
              "      <td>&gt;35000</td>\n",
              "      <td>Baixo</td>\n",
              "    </tr>\n",
              "  </tbody>\n",
              "</table>\n",
              "</div>"
            ],
            "text/plain": [
              "  Historia do credito Divida Garantias        Renda anual     Risco\n",
              "0                Ruim   Alta   Nenhuma             <15000      Alto\n",
              "1        Desconhecida   Alta   Nenhuma  >=15000 a <=35000      Alto\n",
              "2        Desconhecida  Baixa   Nenhuma  >=15000 a <=35000  Moderado\n",
              "3        Desconhecida  Baixa   Nenhuma             >35000      Alto\n",
              "4        Desconhecida  Baixa   Nenhuma             >35000     Baixo"
            ]
          },
          "execution_count": 15,
          "metadata": {},
          "output_type": "execute_result"
        }
      ],
      "source": [
        "# importing the db\n",
        "df = pd.read_csv('sample_data/credit.csv', sep=';')\n",
        "df.head()"
      ]
    },
    {
      "cell_type": "code",
      "execution_count": 20,
      "metadata": {
        "colab": {
          "base_uri": "https://localhost:8080/"
        },
        "id": "1u6ENA3x5nsL",
        "outputId": "4fb0b862-a2ba-480f-c4dd-ce5114d5503a"
      },
      "outputs": [
        {
          "name": "stdout",
          "output_type": "stream",
          "text": [
            "[INFO]:  6 CPU cores will be allocated in parallel running\n",
            "C4.5  tree is going to be built...\n"
          ]
        },
        {
          "ename": "AttributeError",
          "evalue": "'Series' object has no attribute 'Decision'",
          "output_type": "error",
          "traceback": [
            "\u001b[1;31m---------------------------------------------------------------------------\u001b[0m",
            "\u001b[1;31mAttributeError\u001b[0m                            Traceback (most recent call last)",
            "\u001b[1;32m~\\AppData\\Local\\Temp\\ipykernel_19280\\1681744087.py\u001b[0m in \u001b[0;36m?\u001b[1;34m()\u001b[0m\n\u001b[0;32m      1\u001b[0m \u001b[1;31m# running c4.5\u001b[0m\u001b[1;33m\u001b[0m\u001b[1;33m\u001b[0m\u001b[0m\n\u001b[0;32m      2\u001b[0m \u001b[0mconfig\u001b[0m \u001b[1;33m=\u001b[0m \u001b[1;33m{\u001b[0m\u001b[1;34m'algorithm'\u001b[0m\u001b[1;33m:\u001b[0m \u001b[1;34m'C4.5'\u001b[0m\u001b[1;33m}\u001b[0m\u001b[1;33m\u001b[0m\u001b[1;33m\u001b[0m\u001b[0m\n\u001b[1;32m----> 3\u001b[1;33m \u001b[0mmodelC45\u001b[0m \u001b[1;33m=\u001b[0m \u001b[0mchef\u001b[0m\u001b[1;33m.\u001b[0m\u001b[0mfit\u001b[0m\u001b[1;33m(\u001b[0m\u001b[0mdf\u001b[0m\u001b[1;33m,\u001b[0m \u001b[0mconfig\u001b[0m \u001b[1;33m=\u001b[0m \u001b[0mconfig\u001b[0m\u001b[1;33m,\u001b[0m \u001b[0mtarget_label\u001b[0m \u001b[1;33m=\u001b[0m \u001b[1;34m'Risco'\u001b[0m\u001b[1;33m)\u001b[0m\u001b[1;33m\u001b[0m\u001b[1;33m\u001b[0m\u001b[0m\n\u001b[0m",
            "\u001b[1;32mc:\\Users\\andre\\AppData\\Local\\Programs\\Python\\Python311\\Lib\\site-packages\\chefboost\\Chefboost.py\u001b[0m in \u001b[0;36m?\u001b[1;34m(df, config, target_label, validation_df)\u001b[0m\n\u001b[0;32m    209\u001b[0m                 \u001b[1;32mif\u001b[0m \u001b[0menableParallelism\u001b[0m \u001b[1;33m==\u001b[0m \u001b[1;32mTrue\u001b[0m\u001b[1;33m:\u001b[0m\u001b[1;33m\u001b[0m\u001b[1;33m\u001b[0m\u001b[0m\n\u001b[0;32m    210\u001b[0m                         \u001b[0mjson_file\u001b[0m \u001b[1;33m=\u001b[0m \u001b[1;34m\"outputs/rules/rules.json\"\u001b[0m\u001b[1;33m\u001b[0m\u001b[1;33m\u001b[0m\u001b[0m\n\u001b[0;32m    211\u001b[0m                         \u001b[0mfunctions\u001b[0m\u001b[1;33m.\u001b[0m\u001b[0mcreateFile\u001b[0m\u001b[1;33m(\u001b[0m\u001b[0mjson_file\u001b[0m\u001b[1;33m,\u001b[0m \u001b[1;34m\"[\\n\"\u001b[0m\u001b[1;33m)\u001b[0m\u001b[1;33m\u001b[0m\u001b[1;33m\u001b[0m\u001b[0m\n\u001b[0;32m    212\u001b[0m \u001b[1;33m\u001b[0m\u001b[0m\n\u001b[1;32m--> 213\u001b[1;33m \t\ttrees = Training.buildDecisionTree(df, root = root, file = file, config = config\n\u001b[0m\u001b[0;32m    214\u001b[0m                                 \u001b[1;33m,\u001b[0m \u001b[0mdataset_features\u001b[0m \u001b[1;33m=\u001b[0m \u001b[0mdataset_features\u001b[0m\u001b[1;33m\u001b[0m\u001b[1;33m\u001b[0m\u001b[0m\n\u001b[0;32m    215\u001b[0m \t\t\t\t, parent_level = 0, leaf_id = 0, parents = 'root', validation_df = validation_df, main_process_id = process_id)\n\u001b[0;32m    216\u001b[0m \u001b[1;33m\u001b[0m\u001b[0m\n",
            "\u001b[1;32mc:\\Users\\andre\\AppData\\Local\\Programs\\Python\\Python311\\Lib\\site-packages\\chefboost\\training\\Training.py\u001b[0m in \u001b[0;36m?\u001b[1;34m(df, root, file, config, dataset_features, parent_level, leaf_id, parents, tree_id, validation_df, main_process_id)\u001b[0m\n\u001b[0;32m    432\u001b[0m                 \u001b[0mpivot\u001b[0m \u001b[1;33m=\u001b[0m \u001b[0mpd\u001b[0m\u001b[1;33m.\u001b[0m\u001b[0mDataFrame\u001b[0m\u001b[1;33m(\u001b[0m\u001b[0msubdataset\u001b[0m\u001b[1;33m.\u001b[0m\u001b[0mDecision\u001b[0m\u001b[1;33m.\u001b[0m\u001b[0mvalue_counts\u001b[0m\u001b[1;33m(\u001b[0m\u001b[1;33m)\u001b[0m\u001b[1;33m)\u001b[0m\u001b[1;33m.\u001b[0m\u001b[0mreset_index\u001b[0m\u001b[1;33m(\u001b[0m\u001b[1;33m)\u001b[0m\u001b[1;33m\u001b[0m\u001b[1;33m\u001b[0m\u001b[0m\n\u001b[0;32m    433\u001b[0m                 \u001b[0mpivot\u001b[0m \u001b[1;33m=\u001b[0m \u001b[0mpivot\u001b[0m\u001b[1;33m.\u001b[0m\u001b[0mrename\u001b[0m\u001b[1;33m(\u001b[0m\u001b[0mcolumns\u001b[0m \u001b[1;33m=\u001b[0m \u001b[1;33m{\u001b[0m\u001b[1;34m\"Decision\"\u001b[0m\u001b[1;33m:\u001b[0m \u001b[1;34m\"Instances\"\u001b[0m\u001b[1;33m,\u001b[0m\u001b[1;34m\"index\"\u001b[0m\u001b[1;33m:\u001b[0m \u001b[1;34m\"Decision\"\u001b[0m\u001b[1;33m}\u001b[0m\u001b[1;33m)\u001b[0m\u001b[1;33m\u001b[0m\u001b[1;33m\u001b[0m\u001b[0m\n\u001b[0;32m    434\u001b[0m                 \u001b[0mpivot\u001b[0m \u001b[1;33m=\u001b[0m \u001b[0mpivot\u001b[0m\u001b[1;33m.\u001b[0m\u001b[0msort_values\u001b[0m\u001b[1;33m(\u001b[0m\u001b[0mby\u001b[0m \u001b[1;33m=\u001b[0m \u001b[1;33m[\u001b[0m\u001b[1;34m\"Instances\"\u001b[0m\u001b[1;33m]\u001b[0m\u001b[1;33m,\u001b[0m \u001b[0mascending\u001b[0m \u001b[1;33m=\u001b[0m \u001b[1;32mFalse\u001b[0m\u001b[1;33m)\u001b[0m\u001b[1;33m.\u001b[0m\u001b[0mreset_index\u001b[0m\u001b[1;33m(\u001b[0m\u001b[1;33m)\u001b[0m\u001b[1;33m\u001b[0m\u001b[1;33m\u001b[0m\u001b[0m\n\u001b[0;32m    435\u001b[0m \u001b[1;33m\u001b[0m\u001b[0m\n\u001b[1;32m--> 436\u001b[1;33m                 \u001b[0melse_decision\u001b[0m \u001b[1;33m=\u001b[0m \u001b[1;34m\"return '%s'\"\u001b[0m \u001b[1;33m%\u001b[0m \u001b[1;33m(\u001b[0m\u001b[0mpivot\u001b[0m\u001b[1;33m.\u001b[0m\u001b[0miloc\u001b[0m\u001b[1;33m[\u001b[0m\u001b[1;36m0\u001b[0m\u001b[1;33m]\u001b[0m\u001b[1;33m.\u001b[0m\u001b[0mDecision\u001b[0m\u001b[1;33m)\u001b[0m\u001b[1;33m\u001b[0m\u001b[1;33m\u001b[0m\u001b[0m\n\u001b[0m\u001b[0;32m    437\u001b[0m \u001b[1;33m\u001b[0m\u001b[0m\n\u001b[0;32m    438\u001b[0m                 \u001b[1;32mif\u001b[0m \u001b[0menableParallelism\u001b[0m \u001b[1;33m!=\u001b[0m \u001b[1;32mTrue\u001b[0m\u001b[1;33m:\u001b[0m\u001b[1;33m\u001b[0m\u001b[1;33m\u001b[0m\u001b[0m\n\u001b[0;32m    439\u001b[0m                         \u001b[0mfunctions\u001b[0m\u001b[1;33m.\u001b[0m\u001b[0mstoreRule\u001b[0m\u001b[1;33m(\u001b[0m\u001b[0mfile\u001b[0m\u001b[1;33m,\u001b[0m\u001b[1;33m(\u001b[0m\u001b[0mfunctions\u001b[0m\u001b[1;33m.\u001b[0m\u001b[0mformatRule\u001b[0m\u001b[1;33m(\u001b[0m\u001b[0mroot\u001b[0m\u001b[1;33m)\u001b[0m\u001b[1;33m,\u001b[0m \u001b[1;34m\"else:\"\u001b[0m\u001b[1;33m)\u001b[0m\u001b[1;33m)\u001b[0m\u001b[1;33m\u001b[0m\u001b[1;33m\u001b[0m\u001b[0m\n",
            "\u001b[1;32mc:\\Users\\andre\\AppData\\Local\\Programs\\Python\\Python311\\Lib\\site-packages\\pandas\\core\\generic.py\u001b[0m in \u001b[0;36m?\u001b[1;34m(self, name)\u001b[0m\n\u001b[0;32m   5985\u001b[0m             \u001b[1;32mand\u001b[0m \u001b[0mname\u001b[0m \u001b[1;32mnot\u001b[0m \u001b[1;32min\u001b[0m \u001b[0mself\u001b[0m\u001b[1;33m.\u001b[0m\u001b[0m_accessors\u001b[0m\u001b[1;33m\u001b[0m\u001b[1;33m\u001b[0m\u001b[0m\n\u001b[0;32m   5986\u001b[0m             \u001b[1;32mand\u001b[0m \u001b[0mself\u001b[0m\u001b[1;33m.\u001b[0m\u001b[0m_info_axis\u001b[0m\u001b[1;33m.\u001b[0m\u001b[0m_can_hold_identifiers_and_holds_name\u001b[0m\u001b[1;33m(\u001b[0m\u001b[0mname\u001b[0m\u001b[1;33m)\u001b[0m\u001b[1;33m\u001b[0m\u001b[1;33m\u001b[0m\u001b[0m\n\u001b[0;32m   5987\u001b[0m         ):\n\u001b[0;32m   5988\u001b[0m             \u001b[1;32mreturn\u001b[0m \u001b[0mself\u001b[0m\u001b[1;33m[\u001b[0m\u001b[0mname\u001b[0m\u001b[1;33m]\u001b[0m\u001b[1;33m\u001b[0m\u001b[1;33m\u001b[0m\u001b[0m\n\u001b[1;32m-> 5989\u001b[1;33m         \u001b[1;32mreturn\u001b[0m \u001b[0mobject\u001b[0m\u001b[1;33m.\u001b[0m\u001b[0m__getattribute__\u001b[0m\u001b[1;33m(\u001b[0m\u001b[0mself\u001b[0m\u001b[1;33m,\u001b[0m \u001b[0mname\u001b[0m\u001b[1;33m)\u001b[0m\u001b[1;33m\u001b[0m\u001b[1;33m\u001b[0m\u001b[0m\n\u001b[0m",
            "\u001b[1;31mAttributeError\u001b[0m: 'Series' object has no attribute 'Decision'"
          ]
        }
      ],
      "source": [
        "# running c4.5\n",
        "config = {'algorithm': 'C4.5'}\n",
        "modelC45 = chef.fit(df, config = config, target_label = 'Risco')"
      ]
    },
    {
      "cell_type": "code",
      "execution_count": null,
      "metadata": {
        "colab": {
          "base_uri": "https://localhost:8080/",
          "height": 36
        },
        "id": "afZ0P7KqBSgZ",
        "outputId": "5934817f-f0d9-4e72-c62f-bed3f305c6d5"
      },
      "outputs": [
        {
          "data": {
            "application/vnd.google.colaboratory.intrinsic+json": {
              "type": "string"
            },
            "text/plain": [
              "'Alto'"
            ]
          },
          "execution_count": 41,
          "metadata": {},
          "output_type": "execute_result"
        }
      ],
      "source": [
        "# testing a prediction method\n",
        "chef.predict(modelC45, ['Ruim', 'Alta', 'Nenhuma', '<15000'])"
      ]
    },
    {
      "cell_type": "code",
      "execution_count": null,
      "metadata": {
        "colab": {
          "base_uri": "https://localhost:8080/"
        },
        "id": "oGBHeqg5Boev",
        "outputId": "4f8b7297-2a38-4905-dc5a-d9b464de28fd"
      },
      "outputs": [
        {
          "name": "stdout",
          "output_type": "stream",
          "text": [
            "Alto  vs  Alto\n",
            "Alto  vs  Alto\n",
            "Moderado  vs  Moderado\n",
            "Alto  vs  Alto\n",
            "Alto  vs  Baixo\n",
            "Baixo  vs  Baixo\n",
            "Alto  vs  Alto\n",
            "Moderado  vs  Moderado\n",
            "Baixo  vs  Baixo\n",
            "Baixo  vs  Baixo\n",
            "Alto  vs  Alto\n",
            "Moderado  vs  Moderado\n",
            "Baixo  vs  Baixo\n",
            "Alto  vs  Alto\n"
          ]
        }
      ],
      "source": [
        "# comparing the inputs and the outputs\n",
        "for index, instance in df.iterrows():\n",
        "  prediction = chef.predict(modelC45, instance)\n",
        "  actual = instance['Risco']\n",
        "  print(prediction, \" vs \", actual)"
      ]
    },
    {
      "cell_type": "code",
      "execution_count": null,
      "metadata": {
        "colab": {
          "base_uri": "https://localhost:8080/"
        },
        "id": "G9cdB3XNC184",
        "outputId": "6c5e4864-9867-4988-e7fe-62c9e10ad5e8"
      },
      "outputs": [
        {
          "name": "stdout",
          "output_type": "stream",
          "text": [
            "[INFO]:  1 CPU cores will be allocated in parallel running\n",
            "ID3  tree is going to be built...\n",
            "-------------------------\n",
            "finished in  1.1083428859710693  seconds\n",
            "-------------------------\n",
            "Evaluate  train set\n",
            "-------------------------\n",
            "Accuracy:  92.85714285714286 % on  14  instances\n",
            "Labels:  ['Alto' 'Moderado' 'Baixo']\n",
            "Confusion matrix:  [[6, 0, 1], [0, 3, 0], [0, 0, 4]]\n",
            "Decision  Alto  => Accuray:  92.8571 %, Precision:  85.7143 %, Recall:  100.0 %, F1:  92.3077 %\n",
            "Decision  Moderado  => Accuray:  100.0 %, Precision:  100.0 %, Recall:  100.0 %, F1:  100.0 %\n",
            "Decision  Baixo  => Accuray:  92.8571 %, Precision:  100.0 %, Recall:  80.0 %, F1:  88.8889 %\n"
          ]
        }
      ],
      "source": [
        "# running id3\n",
        "config = {'algorithm' : 'ID3'}\n",
        "modelID3 = chef.fit(df, config = config, target_label = 'Risco')"
      ]
    },
    {
      "cell_type": "code",
      "execution_count": 17,
      "metadata": {
        "colab": {
          "base_uri": "https://localhost:8080/"
        },
        "id": "MpBq8wGbDH43",
        "outputId": "1b3b0ed2-937a-4328-8ad3-02af0c9b022d"
      },
      "outputs": [
        {
          "name": "stdout",
          "output_type": "stream",
          "text": [
            "[INFO]:  6 CPU cores will be allocated in parallel running\n",
            "CART  tree is going to be built...\n"
          ]
        },
        {
          "ename": "AttributeError",
          "evalue": "'Series' object has no attribute 'Decision'",
          "output_type": "error",
          "traceback": [
            "\u001b[1;31m---------------------------------------------------------------------------\u001b[0m",
            "\u001b[1;31mAttributeError\u001b[0m                            Traceback (most recent call last)",
            "\u001b[1;32m~\\AppData\\Local\\Temp\\ipykernel_19280\\2503079358.py\u001b[0m in \u001b[0;36m?\u001b[1;34m()\u001b[0m\n\u001b[0;32m      1\u001b[0m \u001b[1;31m# running cart\u001b[0m\u001b[1;33m\u001b[0m\u001b[1;33m\u001b[0m\u001b[0m\n\u001b[0;32m      2\u001b[0m \u001b[0mconfig\u001b[0m \u001b[1;33m=\u001b[0m \u001b[1;33m{\u001b[0m\u001b[1;34m'algorithm'\u001b[0m\u001b[1;33m:\u001b[0m \u001b[1;34m'CART'\u001b[0m\u001b[1;33m}\u001b[0m\u001b[1;33m\u001b[0m\u001b[1;33m\u001b[0m\u001b[0m\n\u001b[1;32m----> 3\u001b[1;33m \u001b[0mmodelCART\u001b[0m \u001b[1;33m=\u001b[0m \u001b[0mchef\u001b[0m\u001b[1;33m.\u001b[0m\u001b[0mfit\u001b[0m\u001b[1;33m(\u001b[0m\u001b[0mdf\u001b[0m\u001b[1;33m,\u001b[0m \u001b[0mconfig\u001b[0m \u001b[1;33m=\u001b[0m \u001b[0mconfig\u001b[0m\u001b[1;33m,\u001b[0m \u001b[0mtarget_label\u001b[0m \u001b[1;33m=\u001b[0m \u001b[1;34m'Risco'\u001b[0m\u001b[1;33m)\u001b[0m\u001b[1;33m\u001b[0m\u001b[1;33m\u001b[0m\u001b[0m\n\u001b[0m",
            "\u001b[1;32mc:\\Users\\andre\\AppData\\Local\\Programs\\Python\\Python311\\Lib\\site-packages\\chefboost\\Chefboost.py\u001b[0m in \u001b[0;36m?\u001b[1;34m(df, config, target_label, validation_df)\u001b[0m\n\u001b[0;32m    209\u001b[0m                 \u001b[1;32mif\u001b[0m \u001b[0menableParallelism\u001b[0m \u001b[1;33m==\u001b[0m \u001b[1;32mTrue\u001b[0m\u001b[1;33m:\u001b[0m\u001b[1;33m\u001b[0m\u001b[1;33m\u001b[0m\u001b[0m\n\u001b[0;32m    210\u001b[0m                         \u001b[0mjson_file\u001b[0m \u001b[1;33m=\u001b[0m \u001b[1;34m\"outputs/rules/rules.json\"\u001b[0m\u001b[1;33m\u001b[0m\u001b[1;33m\u001b[0m\u001b[0m\n\u001b[0;32m    211\u001b[0m                         \u001b[0mfunctions\u001b[0m\u001b[1;33m.\u001b[0m\u001b[0mcreateFile\u001b[0m\u001b[1;33m(\u001b[0m\u001b[0mjson_file\u001b[0m\u001b[1;33m,\u001b[0m \u001b[1;34m\"[\\n\"\u001b[0m\u001b[1;33m)\u001b[0m\u001b[1;33m\u001b[0m\u001b[1;33m\u001b[0m\u001b[0m\n\u001b[0;32m    212\u001b[0m \u001b[1;33m\u001b[0m\u001b[0m\n\u001b[1;32m--> 213\u001b[1;33m \t\ttrees = Training.buildDecisionTree(df, root = root, file = file, config = config\n\u001b[0m\u001b[0;32m    214\u001b[0m                                 \u001b[1;33m,\u001b[0m \u001b[0mdataset_features\u001b[0m \u001b[1;33m=\u001b[0m \u001b[0mdataset_features\u001b[0m\u001b[1;33m\u001b[0m\u001b[1;33m\u001b[0m\u001b[0m\n\u001b[0;32m    215\u001b[0m \t\t\t\t, parent_level = 0, leaf_id = 0, parents = 'root', validation_df = validation_df, main_process_id = process_id)\n\u001b[0;32m    216\u001b[0m \u001b[1;33m\u001b[0m\u001b[0m\n",
            "\u001b[1;32mc:\\Users\\andre\\AppData\\Local\\Programs\\Python\\Python311\\Lib\\site-packages\\chefboost\\training\\Training.py\u001b[0m in \u001b[0;36m?\u001b[1;34m(df, root, file, config, dataset_features, parent_level, leaf_id, parents, tree_id, validation_df, main_process_id)\u001b[0m\n\u001b[0;32m    432\u001b[0m                 \u001b[0mpivot\u001b[0m \u001b[1;33m=\u001b[0m \u001b[0mpd\u001b[0m\u001b[1;33m.\u001b[0m\u001b[0mDataFrame\u001b[0m\u001b[1;33m(\u001b[0m\u001b[0msubdataset\u001b[0m\u001b[1;33m.\u001b[0m\u001b[0mDecision\u001b[0m\u001b[1;33m.\u001b[0m\u001b[0mvalue_counts\u001b[0m\u001b[1;33m(\u001b[0m\u001b[1;33m)\u001b[0m\u001b[1;33m)\u001b[0m\u001b[1;33m.\u001b[0m\u001b[0mreset_index\u001b[0m\u001b[1;33m(\u001b[0m\u001b[1;33m)\u001b[0m\u001b[1;33m\u001b[0m\u001b[1;33m\u001b[0m\u001b[0m\n\u001b[0;32m    433\u001b[0m                 \u001b[0mpivot\u001b[0m \u001b[1;33m=\u001b[0m \u001b[0mpivot\u001b[0m\u001b[1;33m.\u001b[0m\u001b[0mrename\u001b[0m\u001b[1;33m(\u001b[0m\u001b[0mcolumns\u001b[0m \u001b[1;33m=\u001b[0m \u001b[1;33m{\u001b[0m\u001b[1;34m\"Decision\"\u001b[0m\u001b[1;33m:\u001b[0m \u001b[1;34m\"Instances\"\u001b[0m\u001b[1;33m,\u001b[0m\u001b[1;34m\"index\"\u001b[0m\u001b[1;33m:\u001b[0m \u001b[1;34m\"Decision\"\u001b[0m\u001b[1;33m}\u001b[0m\u001b[1;33m)\u001b[0m\u001b[1;33m\u001b[0m\u001b[1;33m\u001b[0m\u001b[0m\n\u001b[0;32m    434\u001b[0m                 \u001b[0mpivot\u001b[0m \u001b[1;33m=\u001b[0m \u001b[0mpivot\u001b[0m\u001b[1;33m.\u001b[0m\u001b[0msort_values\u001b[0m\u001b[1;33m(\u001b[0m\u001b[0mby\u001b[0m \u001b[1;33m=\u001b[0m \u001b[1;33m[\u001b[0m\u001b[1;34m\"Instances\"\u001b[0m\u001b[1;33m]\u001b[0m\u001b[1;33m,\u001b[0m \u001b[0mascending\u001b[0m \u001b[1;33m=\u001b[0m \u001b[1;32mFalse\u001b[0m\u001b[1;33m)\u001b[0m\u001b[1;33m.\u001b[0m\u001b[0mreset_index\u001b[0m\u001b[1;33m(\u001b[0m\u001b[1;33m)\u001b[0m\u001b[1;33m\u001b[0m\u001b[1;33m\u001b[0m\u001b[0m\n\u001b[0;32m    435\u001b[0m \u001b[1;33m\u001b[0m\u001b[0m\n\u001b[1;32m--> 436\u001b[1;33m                 \u001b[0melse_decision\u001b[0m \u001b[1;33m=\u001b[0m \u001b[1;34m\"return '%s'\"\u001b[0m \u001b[1;33m%\u001b[0m \u001b[1;33m(\u001b[0m\u001b[0mpivot\u001b[0m\u001b[1;33m.\u001b[0m\u001b[0miloc\u001b[0m\u001b[1;33m[\u001b[0m\u001b[1;36m0\u001b[0m\u001b[1;33m]\u001b[0m\u001b[1;33m.\u001b[0m\u001b[0mDecision\u001b[0m\u001b[1;33m)\u001b[0m\u001b[1;33m\u001b[0m\u001b[1;33m\u001b[0m\u001b[0m\n\u001b[0m\u001b[0;32m    437\u001b[0m \u001b[1;33m\u001b[0m\u001b[0m\n\u001b[0;32m    438\u001b[0m                 \u001b[1;32mif\u001b[0m \u001b[0menableParallelism\u001b[0m \u001b[1;33m!=\u001b[0m \u001b[1;32mTrue\u001b[0m\u001b[1;33m:\u001b[0m\u001b[1;33m\u001b[0m\u001b[1;33m\u001b[0m\u001b[0m\n\u001b[0;32m    439\u001b[0m                         \u001b[0mfunctions\u001b[0m\u001b[1;33m.\u001b[0m\u001b[0mstoreRule\u001b[0m\u001b[1;33m(\u001b[0m\u001b[0mfile\u001b[0m\u001b[1;33m,\u001b[0m\u001b[1;33m(\u001b[0m\u001b[0mfunctions\u001b[0m\u001b[1;33m.\u001b[0m\u001b[0mformatRule\u001b[0m\u001b[1;33m(\u001b[0m\u001b[0mroot\u001b[0m\u001b[1;33m)\u001b[0m\u001b[1;33m,\u001b[0m \u001b[1;34m\"else:\"\u001b[0m\u001b[1;33m)\u001b[0m\u001b[1;33m)\u001b[0m\u001b[1;33m\u001b[0m\u001b[1;33m\u001b[0m\u001b[0m\n",
            "\u001b[1;32mc:\\Users\\andre\\AppData\\Local\\Programs\\Python\\Python311\\Lib\\site-packages\\pandas\\core\\generic.py\u001b[0m in \u001b[0;36m?\u001b[1;34m(self, name)\u001b[0m\n\u001b[0;32m   5985\u001b[0m             \u001b[1;32mand\u001b[0m \u001b[0mname\u001b[0m \u001b[1;32mnot\u001b[0m \u001b[1;32min\u001b[0m \u001b[0mself\u001b[0m\u001b[1;33m.\u001b[0m\u001b[0m_accessors\u001b[0m\u001b[1;33m\u001b[0m\u001b[1;33m\u001b[0m\u001b[0m\n\u001b[0;32m   5986\u001b[0m             \u001b[1;32mand\u001b[0m \u001b[0mself\u001b[0m\u001b[1;33m.\u001b[0m\u001b[0m_info_axis\u001b[0m\u001b[1;33m.\u001b[0m\u001b[0m_can_hold_identifiers_and_holds_name\u001b[0m\u001b[1;33m(\u001b[0m\u001b[0mname\u001b[0m\u001b[1;33m)\u001b[0m\u001b[1;33m\u001b[0m\u001b[1;33m\u001b[0m\u001b[0m\n\u001b[0;32m   5987\u001b[0m         ):\n\u001b[0;32m   5988\u001b[0m             \u001b[1;32mreturn\u001b[0m \u001b[0mself\u001b[0m\u001b[1;33m[\u001b[0m\u001b[0mname\u001b[0m\u001b[1;33m]\u001b[0m\u001b[1;33m\u001b[0m\u001b[1;33m\u001b[0m\u001b[0m\n\u001b[1;32m-> 5989\u001b[1;33m         \u001b[1;32mreturn\u001b[0m \u001b[0mobject\u001b[0m\u001b[1;33m.\u001b[0m\u001b[0m__getattribute__\u001b[0m\u001b[1;33m(\u001b[0m\u001b[0mself\u001b[0m\u001b[1;33m,\u001b[0m \u001b[0mname\u001b[0m\u001b[1;33m)\u001b[0m\u001b[1;33m\u001b[0m\u001b[1;33m\u001b[0m\u001b[0m\n\u001b[0m",
            "\u001b[1;31mAttributeError\u001b[0m: 'Series' object has no attribute 'Decision'"
          ]
        }
      ],
      "source": [
        "# running cart\n",
        "config = {'algorithm': 'CART'}\n",
        "modelCART = chef.fit(df, config = config, target_label = 'Risco')"
      ]
    },
    {
      "cell_type": "code",
      "execution_count": null,
      "metadata": {},
      "outputs": [],
      "source": [
        "# pode-se verificar as regras de criação de árvore na pasta rules\n",
        "# nota-se que as regras geradas por cada algoritmo são diferentes, mas ambas chegam a mesma acurácia e precisão."
      ]
    }
  ],
  "metadata": {
    "colab": {
      "authorship_tag": "ABX9TyP+OtcGQph8CL41N1muL4qx",
      "provenance": []
    },
    "kernelspec": {
      "display_name": "Python 3",
      "name": "python3"
    },
    "language_info": {
      "codemirror_mode": {
        "name": "ipython",
        "version": 3
      },
      "file_extension": ".py",
      "mimetype": "text/x-python",
      "name": "python",
      "nbconvert_exporter": "python",
      "pygments_lexer": "ipython3",
      "version": "3.11.4"
    }
  },
  "nbformat": 4,
  "nbformat_minor": 0
}

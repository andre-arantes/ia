{
  "cells": [
    {
      "cell_type": "markdown",
      "metadata": {
        "id": "view-in-github",
        "colab_type": "text"
      },
      "source": [
        "<a href=\"https://colab.research.google.com/github/andre-arantes/ia/blob/master/tp1/etapa4/MLP.ipynb\" target=\"_parent\"><img src=\"https://colab.research.google.com/assets/colab-badge.svg\" alt=\"Open In Colab\"/></a>"
      ]
    },
    {
      "cell_type": "markdown",
      "metadata": {
        "id": "RVuTk2Uridzv"
      },
      "source": [
        "# Projeto de Previsão de Diabetes\n",
        "\n",
        "Este projeto tem como objetivo prever a probabilidade de uma pessoa ter diabetes com base em vários fatores, como idade, nível de HbA1c, nível de glicose no sangue e gênero. O conjunto de dados usado neste projeto é o Diabetes Prediction Dataset.\n",
        "\n",
        "Usaremos o algoritmo Random Forest Classifier para treinar nosso modelo e prever a probabilidade de diabetes. Também usaremos várias técnicas de pré-processamento de dados, como subamostragem, para melhorar a precisão do nosso modelo."
      ]
    },
    {
      "cell_type": "code",
      "execution_count": null,
      "metadata": {
        "id": "WpOx-nnyopwQ"
      },
      "outputs": [],
      "source": [
        "# Importando bibliotecas\n",
        "import pandas as pd\n",
        "from sklearn import preprocessing\n",
        "import seaborn as sns\n",
        "from sklearn.model_selection import train_test_split\n",
        "from imblearn.under_sampling import RandomUnderSampler\n",
        "from sklearn.ensemble import RandomForestClassifier\n",
        "from sklearn.metrics import classification_report\n",
        "import numpy as np\n",
        "from sklearn.neural_network import MLPClassifier\n",
        "from sklearn.preprocessing import StandardScaler"
      ]
    },
    {
      "cell_type": "code",
      "execution_count": null,
      "metadata": {
        "id": "jRRreZXdovYB"
      },
      "outputs": [],
      "source": [
        "# Carregando os dados\n",
        "base = pd.read_csv('/content/sample_data/diabetes_prediction_dataset.csv')"
      ]
    },
    {
      "cell_type": "markdown",
      "metadata": {
        "id": "cgQ3ricVidzy"
      },
      "source": [
        "# Ler dados da base"
      ]
    },
    {
      "cell_type": "code",
      "execution_count": null,
      "metadata": {
        "colab": {
          "base_uri": "https://localhost:8080/",
          "height": 206
        },
        "id": "yRQC8sSeb8Wi",
        "outputId": "b6a657b2-5097-4912-d283-4d61a2be7d88"
      },
      "outputs": [
        {
          "output_type": "execute_result",
          "data": {
            "text/plain": [
              "   gender   age  hypertension  heart_disease smoking_history    bmi  \\\n",
              "0  Female  80.0             0              1           never  25.19   \n",
              "1  Female  54.0             0              0         No Info  27.32   \n",
              "2    Male  28.0             0              0           never  27.32   \n",
              "3  Female  36.0             0              0         current  23.45   \n",
              "4    Male  76.0             1              1         current  20.14   \n",
              "\n",
              "   HbA1c_level  blood_glucose_level  diabetes  \n",
              "0          6.6                  140         0  \n",
              "1          6.6                   80         0  \n",
              "2          5.7                  158         0  \n",
              "3          5.0                  155         0  \n",
              "4          4.8                  155         0  "
            ],
            "text/html": [
              "\n",
              "  <div id=\"df-a5891544-e09a-4092-aef7-577ecafb3773\" class=\"colab-df-container\">\n",
              "    <div>\n",
              "<style scoped>\n",
              "    .dataframe tbody tr th:only-of-type {\n",
              "        vertical-align: middle;\n",
              "    }\n",
              "\n",
              "    .dataframe tbody tr th {\n",
              "        vertical-align: top;\n",
              "    }\n",
              "\n",
              "    .dataframe thead th {\n",
              "        text-align: right;\n",
              "    }\n",
              "</style>\n",
              "<table border=\"1\" class=\"dataframe\">\n",
              "  <thead>\n",
              "    <tr style=\"text-align: right;\">\n",
              "      <th></th>\n",
              "      <th>gender</th>\n",
              "      <th>age</th>\n",
              "      <th>hypertension</th>\n",
              "      <th>heart_disease</th>\n",
              "      <th>smoking_history</th>\n",
              "      <th>bmi</th>\n",
              "      <th>HbA1c_level</th>\n",
              "      <th>blood_glucose_level</th>\n",
              "      <th>diabetes</th>\n",
              "    </tr>\n",
              "  </thead>\n",
              "  <tbody>\n",
              "    <tr>\n",
              "      <th>0</th>\n",
              "      <td>Female</td>\n",
              "      <td>80.0</td>\n",
              "      <td>0</td>\n",
              "      <td>1</td>\n",
              "      <td>never</td>\n",
              "      <td>25.19</td>\n",
              "      <td>6.6</td>\n",
              "      <td>140</td>\n",
              "      <td>0</td>\n",
              "    </tr>\n",
              "    <tr>\n",
              "      <th>1</th>\n",
              "      <td>Female</td>\n",
              "      <td>54.0</td>\n",
              "      <td>0</td>\n",
              "      <td>0</td>\n",
              "      <td>No Info</td>\n",
              "      <td>27.32</td>\n",
              "      <td>6.6</td>\n",
              "      <td>80</td>\n",
              "      <td>0</td>\n",
              "    </tr>\n",
              "    <tr>\n",
              "      <th>2</th>\n",
              "      <td>Male</td>\n",
              "      <td>28.0</td>\n",
              "      <td>0</td>\n",
              "      <td>0</td>\n",
              "      <td>never</td>\n",
              "      <td>27.32</td>\n",
              "      <td>5.7</td>\n",
              "      <td>158</td>\n",
              "      <td>0</td>\n",
              "    </tr>\n",
              "    <tr>\n",
              "      <th>3</th>\n",
              "      <td>Female</td>\n",
              "      <td>36.0</td>\n",
              "      <td>0</td>\n",
              "      <td>0</td>\n",
              "      <td>current</td>\n",
              "      <td>23.45</td>\n",
              "      <td>5.0</td>\n",
              "      <td>155</td>\n",
              "      <td>0</td>\n",
              "    </tr>\n",
              "    <tr>\n",
              "      <th>4</th>\n",
              "      <td>Male</td>\n",
              "      <td>76.0</td>\n",
              "      <td>1</td>\n",
              "      <td>1</td>\n",
              "      <td>current</td>\n",
              "      <td>20.14</td>\n",
              "      <td>4.8</td>\n",
              "      <td>155</td>\n",
              "      <td>0</td>\n",
              "    </tr>\n",
              "  </tbody>\n",
              "</table>\n",
              "</div>\n",
              "    <div class=\"colab-df-buttons\">\n",
              "\n",
              "  <div class=\"colab-df-container\">\n",
              "    <button class=\"colab-df-convert\" onclick=\"convertToInteractive('df-a5891544-e09a-4092-aef7-577ecafb3773')\"\n",
              "            title=\"Convert this dataframe to an interactive table.\"\n",
              "            style=\"display:none;\">\n",
              "\n",
              "  <svg xmlns=\"http://www.w3.org/2000/svg\" height=\"24px\" viewBox=\"0 -960 960 960\">\n",
              "    <path d=\"M120-120v-720h720v720H120Zm60-500h600v-160H180v160Zm220 220h160v-160H400v160Zm0 220h160v-160H400v160ZM180-400h160v-160H180v160Zm440 0h160v-160H620v160ZM180-180h160v-160H180v160Zm440 0h160v-160H620v160Z\"/>\n",
              "  </svg>\n",
              "    </button>\n",
              "\n",
              "  <style>\n",
              "    .colab-df-container {\n",
              "      display:flex;\n",
              "      gap: 12px;\n",
              "    }\n",
              "\n",
              "    .colab-df-convert {\n",
              "      background-color: #E8F0FE;\n",
              "      border: none;\n",
              "      border-radius: 50%;\n",
              "      cursor: pointer;\n",
              "      display: none;\n",
              "      fill: #1967D2;\n",
              "      height: 32px;\n",
              "      padding: 0 0 0 0;\n",
              "      width: 32px;\n",
              "    }\n",
              "\n",
              "    .colab-df-convert:hover {\n",
              "      background-color: #E2EBFA;\n",
              "      box-shadow: 0px 1px 2px rgba(60, 64, 67, 0.3), 0px 1px 3px 1px rgba(60, 64, 67, 0.15);\n",
              "      fill: #174EA6;\n",
              "    }\n",
              "\n",
              "    .colab-df-buttons div {\n",
              "      margin-bottom: 4px;\n",
              "    }\n",
              "\n",
              "    [theme=dark] .colab-df-convert {\n",
              "      background-color: #3B4455;\n",
              "      fill: #D2E3FC;\n",
              "    }\n",
              "\n",
              "    [theme=dark] .colab-df-convert:hover {\n",
              "      background-color: #434B5C;\n",
              "      box-shadow: 0px 1px 3px 1px rgba(0, 0, 0, 0.15);\n",
              "      filter: drop-shadow(0px 1px 2px rgba(0, 0, 0, 0.3));\n",
              "      fill: #FFFFFF;\n",
              "    }\n",
              "  </style>\n",
              "\n",
              "    <script>\n",
              "      const buttonEl =\n",
              "        document.querySelector('#df-a5891544-e09a-4092-aef7-577ecafb3773 button.colab-df-convert');\n",
              "      buttonEl.style.display =\n",
              "        google.colab.kernel.accessAllowed ? 'block' : 'none';\n",
              "\n",
              "      async function convertToInteractive(key) {\n",
              "        const element = document.querySelector('#df-a5891544-e09a-4092-aef7-577ecafb3773');\n",
              "        const dataTable =\n",
              "          await google.colab.kernel.invokeFunction('convertToInteractive',\n",
              "                                                    [key], {});\n",
              "        if (!dataTable) return;\n",
              "\n",
              "        const docLinkHtml = 'Like what you see? Visit the ' +\n",
              "          '<a target=\"_blank\" href=https://colab.research.google.com/notebooks/data_table.ipynb>data table notebook</a>'\n",
              "          + ' to learn more about interactive tables.';\n",
              "        element.innerHTML = '';\n",
              "        dataTable['output_type'] = 'display_data';\n",
              "        await google.colab.output.renderOutput(dataTable, element);\n",
              "        const docLink = document.createElement('div');\n",
              "        docLink.innerHTML = docLinkHtml;\n",
              "        element.appendChild(docLink);\n",
              "      }\n",
              "    </script>\n",
              "  </div>\n",
              "\n",
              "\n",
              "<div id=\"df-0099fffe-874c-4743-98e0-29e6b5b7800a\">\n",
              "  <button class=\"colab-df-quickchart\" onclick=\"quickchart('df-0099fffe-874c-4743-98e0-29e6b5b7800a')\"\n",
              "            title=\"Suggest charts.\"\n",
              "            style=\"display:none;\">\n",
              "\n",
              "<svg xmlns=\"http://www.w3.org/2000/svg\" height=\"24px\"viewBox=\"0 0 24 24\"\n",
              "     width=\"24px\">\n",
              "    <g>\n",
              "        <path d=\"M19 3H5c-1.1 0-2 .9-2 2v14c0 1.1.9 2 2 2h14c1.1 0 2-.9 2-2V5c0-1.1-.9-2-2-2zM9 17H7v-7h2v7zm4 0h-2V7h2v10zm4 0h-2v-4h2v4z\"/>\n",
              "    </g>\n",
              "</svg>\n",
              "  </button>\n",
              "\n",
              "<style>\n",
              "  .colab-df-quickchart {\n",
              "      --bg-color: #E8F0FE;\n",
              "      --fill-color: #1967D2;\n",
              "      --hover-bg-color: #E2EBFA;\n",
              "      --hover-fill-color: #174EA6;\n",
              "      --disabled-fill-color: #AAA;\n",
              "      --disabled-bg-color: #DDD;\n",
              "  }\n",
              "\n",
              "  [theme=dark] .colab-df-quickchart {\n",
              "      --bg-color: #3B4455;\n",
              "      --fill-color: #D2E3FC;\n",
              "      --hover-bg-color: #434B5C;\n",
              "      --hover-fill-color: #FFFFFF;\n",
              "      --disabled-bg-color: #3B4455;\n",
              "      --disabled-fill-color: #666;\n",
              "  }\n",
              "\n",
              "  .colab-df-quickchart {\n",
              "    background-color: var(--bg-color);\n",
              "    border: none;\n",
              "    border-radius: 50%;\n",
              "    cursor: pointer;\n",
              "    display: none;\n",
              "    fill: var(--fill-color);\n",
              "    height: 32px;\n",
              "    padding: 0;\n",
              "    width: 32px;\n",
              "  }\n",
              "\n",
              "  .colab-df-quickchart:hover {\n",
              "    background-color: var(--hover-bg-color);\n",
              "    box-shadow: 0 1px 2px rgba(60, 64, 67, 0.3), 0 1px 3px 1px rgba(60, 64, 67, 0.15);\n",
              "    fill: var(--button-hover-fill-color);\n",
              "  }\n",
              "\n",
              "  .colab-df-quickchart-complete:disabled,\n",
              "  .colab-df-quickchart-complete:disabled:hover {\n",
              "    background-color: var(--disabled-bg-color);\n",
              "    fill: var(--disabled-fill-color);\n",
              "    box-shadow: none;\n",
              "  }\n",
              "\n",
              "  .colab-df-spinner {\n",
              "    border: 2px solid var(--fill-color);\n",
              "    border-color: transparent;\n",
              "    border-bottom-color: var(--fill-color);\n",
              "    animation:\n",
              "      spin 1s steps(1) infinite;\n",
              "  }\n",
              "\n",
              "  @keyframes spin {\n",
              "    0% {\n",
              "      border-color: transparent;\n",
              "      border-bottom-color: var(--fill-color);\n",
              "      border-left-color: var(--fill-color);\n",
              "    }\n",
              "    20% {\n",
              "      border-color: transparent;\n",
              "      border-left-color: var(--fill-color);\n",
              "      border-top-color: var(--fill-color);\n",
              "    }\n",
              "    30% {\n",
              "      border-color: transparent;\n",
              "      border-left-color: var(--fill-color);\n",
              "      border-top-color: var(--fill-color);\n",
              "      border-right-color: var(--fill-color);\n",
              "    }\n",
              "    40% {\n",
              "      border-color: transparent;\n",
              "      border-right-color: var(--fill-color);\n",
              "      border-top-color: var(--fill-color);\n",
              "    }\n",
              "    60% {\n",
              "      border-color: transparent;\n",
              "      border-right-color: var(--fill-color);\n",
              "    }\n",
              "    80% {\n",
              "      border-color: transparent;\n",
              "      border-right-color: var(--fill-color);\n",
              "      border-bottom-color: var(--fill-color);\n",
              "    }\n",
              "    90% {\n",
              "      border-color: transparent;\n",
              "      border-bottom-color: var(--fill-color);\n",
              "    }\n",
              "  }\n",
              "</style>\n",
              "\n",
              "  <script>\n",
              "    async function quickchart(key) {\n",
              "      const quickchartButtonEl =\n",
              "        document.querySelector('#' + key + ' button');\n",
              "      quickchartButtonEl.disabled = true;  // To prevent multiple clicks.\n",
              "      quickchartButtonEl.classList.add('colab-df-spinner');\n",
              "      try {\n",
              "        const charts = await google.colab.kernel.invokeFunction(\n",
              "            'suggestCharts', [key], {});\n",
              "      } catch (error) {\n",
              "        console.error('Error during call to suggestCharts:', error);\n",
              "      }\n",
              "      quickchartButtonEl.classList.remove('colab-df-spinner');\n",
              "      quickchartButtonEl.classList.add('colab-df-quickchart-complete');\n",
              "    }\n",
              "    (() => {\n",
              "      let quickchartButtonEl =\n",
              "        document.querySelector('#df-0099fffe-874c-4743-98e0-29e6b5b7800a button');\n",
              "      quickchartButtonEl.style.display =\n",
              "        google.colab.kernel.accessAllowed ? 'block' : 'none';\n",
              "    })();\n",
              "  </script>\n",
              "</div>\n",
              "    </div>\n",
              "  </div>\n"
            ]
          },
          "metadata": {},
          "execution_count": 96
        }
      ],
      "source": [
        "base.head()"
      ]
    },
    {
      "cell_type": "code",
      "execution_count": null,
      "metadata": {
        "colab": {
          "base_uri": "https://localhost:8080/"
        },
        "id": "SDGgIXcRlBVT",
        "outputId": "4e8e7e2c-c168-4c74-da57-49f470d89a37"
      },
      "outputs": [
        {
          "output_type": "execute_result",
          "data": {
            "text/plain": [
              "gender                 0\n",
              "age                    0\n",
              "hypertension           0\n",
              "heart_disease          0\n",
              "smoking_history        0\n",
              "bmi                    0\n",
              "HbA1c_level            0\n",
              "blood_glucose_level    0\n",
              "diabetes               0\n",
              "dtype: int64"
            ]
          },
          "metadata": {},
          "execution_count": 97
        }
      ],
      "source": [
        "# checar existencias de campos nulos\n",
        "base.isnull().sum()"
      ]
    },
    {
      "cell_type": "code",
      "execution_count": null,
      "metadata": {
        "colab": {
          "base_uri": "https://localhost:8080/"
        },
        "id": "LC9pY84Urc7S",
        "outputId": "5e921589-9fa5-4b22-ed31-7235925f749b"
      },
      "outputs": [
        {
          "output_type": "stream",
          "name": "stdout",
          "text": [
            "Female    58552\n",
            "Male      41430\n",
            "Other        18\n",
            "Name: gender, dtype: int64\n",
            "\n",
            "\n",
            "80.00    5621\n",
            "51.00    1619\n",
            "47.00    1574\n",
            "48.00    1568\n",
            "53.00    1542\n",
            "         ... \n",
            "0.48       83\n",
            "1.00       83\n",
            "0.40       66\n",
            "0.16       59\n",
            "0.08       36\n",
            "Name: age, Length: 102, dtype: int64\n",
            "\n",
            "\n",
            "0    92515\n",
            "1     7485\n",
            "Name: hypertension, dtype: int64\n",
            "\n",
            "\n",
            "0    96058\n",
            "1     3942\n",
            "Name: heart_disease, dtype: int64\n",
            "\n",
            "\n",
            "No Info        35816\n",
            "never          35095\n",
            "former          9352\n",
            "current         9286\n",
            "not current     6447\n",
            "ever            4004\n",
            "Name: smoking_history, dtype: int64\n",
            "\n",
            "\n",
            "27.32    25495\n",
            "23.00      103\n",
            "27.12      101\n",
            "27.80      100\n",
            "24.96      100\n",
            "         ...  \n",
            "58.23        1\n",
            "48.18        1\n",
            "55.57        1\n",
            "57.07        1\n",
            "60.52        1\n",
            "Name: bmi, Length: 4247, dtype: int64\n",
            "\n",
            "\n",
            "6.6    8540\n",
            "5.7    8413\n",
            "6.5    8362\n",
            "5.8    8321\n",
            "6.0    8295\n",
            "6.2    8269\n",
            "6.1    8048\n",
            "3.5    7662\n",
            "4.8    7597\n",
            "4.5    7585\n",
            "4.0    7542\n",
            "5.0    7471\n",
            "8.8     661\n",
            "8.2     661\n",
            "9.0     654\n",
            "7.5     643\n",
            "6.8     642\n",
            "7.0     634\n",
            "Name: HbA1c_level, dtype: int64\n",
            "\n",
            "\n",
            "130    7794\n",
            "159    7759\n",
            "140    7732\n",
            "160    7712\n",
            "126    7702\n",
            "145    7679\n",
            "200    7600\n",
            "155    7575\n",
            "90     7112\n",
            "80     7106\n",
            "158    7026\n",
            "100    7025\n",
            "85     6901\n",
            "280     729\n",
            "300     674\n",
            "240     636\n",
            "260     635\n",
            "220     603\n",
            "Name: blood_glucose_level, dtype: int64\n",
            "\n",
            "\n",
            "0    91500\n",
            "1     8500\n",
            "Name: diabetes, dtype: int64\n",
            "\n",
            "\n"
          ]
        }
      ],
      "source": [
        "# checar natureza dos dados\n",
        "for i in base.columns:\n",
        "    print(base[i].value_counts())\n",
        "    print('\\n')"
      ]
    },
    {
      "cell_type": "markdown",
      "metadata": {
        "id": "UFJ93xCwcJTX"
      },
      "source": [
        "**Separando os atributos de entrada e de classe**"
      ]
    },
    {
      "cell_type": "code",
      "execution_count": null,
      "metadata": {
        "id": "ptA2GP-XcJt_"
      },
      "outputs": [],
      "source": [
        "X = base.copy()\n",
        "y = X.pop('diabetes')"
      ]
    },
    {
      "cell_type": "markdown",
      "source": [
        "**indetificação de outliers**"
      ],
      "metadata": {
        "id": "taZHM5FbRYnF"
      }
    },
    {
      "cell_type": "markdown",
      "source": [
        "Outliers de age"
      ],
      "metadata": {
        "id": "i4iPh6lsUK3r"
      }
    },
    {
      "cell_type": "code",
      "source": [
        "Q1 = X['age'].quantile(0.25)\n",
        "Q3 = X['age'].quantile(0.75)\n",
        "IQR = Q3 - Q1\n",
        "lower = Q1 - 1.5*IQR\n",
        "upper = Q3 + 1.5*IQR\n",
        "print(Q1)\n",
        "print(Q3)\n",
        "print(IQR)\n",
        "print(lower)\n",
        "print(upper)"
      ],
      "metadata": {
        "colab": {
          "base_uri": "https://localhost:8080/"
        },
        "id": "qL1OzhfNRchP",
        "outputId": "01afcf2b-4a89-4652-b0ce-88fd0646366a"
      },
      "execution_count": null,
      "outputs": [
        {
          "output_type": "stream",
          "name": "stdout",
          "text": [
            "24.0\n",
            "60.0\n",
            "36.0\n",
            "-30.0\n",
            "114.0\n"
          ]
        }
      ]
    },
    {
      "cell_type": "code",
      "source": [
        "upper_array_age = np.where(X['age']>=upper)[0]\n",
        "upper_array_age"
      ],
      "metadata": {
        "colab": {
          "base_uri": "https://localhost:8080/"
        },
        "id": "qvNNok_IZ4Z2",
        "outputId": "774b3fc3-3a47-4698-b7fa-4b6d6a8e6c83"
      },
      "execution_count": null,
      "outputs": [
        {
          "output_type": "execute_result",
          "data": {
            "text/plain": [
              "array([], dtype=int64)"
            ]
          },
          "metadata": {},
          "execution_count": 101
        }
      ]
    },
    {
      "cell_type": "markdown",
      "source": [
        "Outliers de bmi"
      ],
      "metadata": {
        "id": "z9O4-iGzUOkq"
      }
    },
    {
      "cell_type": "code",
      "source": [
        "Q1 = X['bmi'].quantile(0.25)\n",
        "Q3 = X['bmi'].quantile(0.75)\n",
        "IQR = Q3 - Q1\n",
        "lower = Q1 - 1.5*IQR\n",
        "upper = Q3 + 1.5*IQR\n",
        "print(Q1)\n",
        "print(Q3)\n",
        "print(IQR)\n",
        "print(lower)\n",
        "print(upper)"
      ],
      "metadata": {
        "colab": {
          "base_uri": "https://localhost:8080/"
        },
        "id": "6EJOALflUgF7",
        "outputId": "92864505-cea3-466b-c376-19bc79a0f7fc"
      },
      "execution_count": null,
      "outputs": [
        {
          "output_type": "stream",
          "name": "stdout",
          "text": [
            "23.63\n",
            "29.58\n",
            "5.949999999999999\n",
            "14.705\n",
            "38.504999999999995\n"
          ]
        }
      ]
    },
    {
      "cell_type": "code",
      "source": [
        "upper_array_bmi = np.where(X['bmi']>=upper)[0]\n",
        "upper_array_bmi"
      ],
      "metadata": {
        "colab": {
          "base_uri": "https://localhost:8080/"
        },
        "id": "z7PSGunWUlAq",
        "outputId": "82d93e8c-2526-4b10-ef87-843e8978c64f"
      },
      "execution_count": null,
      "outputs": [
        {
          "output_type": "execute_result",
          "data": {
            "text/plain": [
              "array([   11,    39,    59, ..., 99953, 99960, 99993])"
            ]
          },
          "metadata": {},
          "execution_count": 103
        }
      ]
    },
    {
      "cell_type": "code",
      "source": [
        "lower_array_bmi = np.where(X['bmi']<=lower)[0]\n",
        "lower_array_bmi"
      ],
      "metadata": {
        "colab": {
          "base_uri": "https://localhost:8080/"
        },
        "id": "N4p6a27NcD16",
        "outputId": "7ab4597c-d2fa-4bed-c292-56db7a8760de"
      },
      "execution_count": null,
      "outputs": [
        {
          "output_type": "execute_result",
          "data": {
            "text/plain": [
              "array([   24,   155,   221, ..., 99841, 99906, 99933])"
            ]
          },
          "metadata": {},
          "execution_count": 104
        }
      ]
    },
    {
      "cell_type": "markdown",
      "source": [
        "Outliers de HbA1c_level"
      ],
      "metadata": {
        "id": "Jo3CnSTqVXZi"
      }
    },
    {
      "cell_type": "code",
      "source": [
        "Q1 = X['HbA1c_level'].quantile(0.25)\n",
        "Q3 = X['HbA1c_level'].quantile(0.75)\n",
        "IQR = Q3 - Q1\n",
        "lower = Q1 - 1.5*IQR\n",
        "upper = Q3 + 1.5*IQR\n",
        "print(Q1)\n",
        "print(Q3)\n",
        "print(IQR)\n",
        "print(lower)\n",
        "print(upper)"
      ],
      "metadata": {
        "colab": {
          "base_uri": "https://localhost:8080/"
        },
        "id": "B7IGyfUPVc3s",
        "outputId": "01eb7b9c-6707-42bd-e9f0-aa748f54a0d4"
      },
      "execution_count": null,
      "outputs": [
        {
          "output_type": "stream",
          "name": "stdout",
          "text": [
            "4.8\n",
            "6.2\n",
            "1.4000000000000004\n",
            "2.6999999999999993\n",
            "8.3\n"
          ]
        }
      ]
    },
    {
      "cell_type": "code",
      "source": [
        "upper_array_HbA1c_level = np.where(X['HbA1c_level']>=upper)[0]\n",
        "upper_array_HbA1c_level"
      ],
      "metadata": {
        "colab": {
          "base_uri": "https://localhost:8080/"
        },
        "id": "OmTNFXoUVfUx",
        "outputId": "0b339e92-5eba-468e-82e0-c2e21607126b"
      },
      "execution_count": null,
      "outputs": [
        {
          "output_type": "execute_result",
          "data": {
            "text/plain": [
              "array([   40,    55,    59, ..., 99706, 99740, 99929])"
            ]
          },
          "metadata": {},
          "execution_count": 106
        }
      ]
    },
    {
      "cell_type": "code",
      "source": [
        "lower_array_HbA1c_level = np.where(X['HbA1c_level']<=lower)[0]\n",
        "lower_array_HbA1c_level\n"
      ],
      "metadata": {
        "colab": {
          "base_uri": "https://localhost:8080/"
        },
        "id": "4NYAgBLuVij5",
        "outputId": "82deb01a-df64-4966-e645-1307c4d11aaa"
      },
      "execution_count": null,
      "outputs": [
        {
          "output_type": "execute_result",
          "data": {
            "text/plain": [
              "array([], dtype=int64)"
            ]
          },
          "metadata": {},
          "execution_count": 107
        }
      ]
    },
    {
      "cell_type": "markdown",
      "source": [
        "Outliers de blood_glucose_level"
      ],
      "metadata": {
        "id": "l681PhhwWEWx"
      }
    },
    {
      "cell_type": "code",
      "source": [
        "Q1 = X['blood_glucose_level'].quantile(0.25)\n",
        "Q3 = X['blood_glucose_level'].quantile(0.75)\n",
        "IQR = Q3 - Q1\n",
        "lower = Q1 - 1.5*IQR\n",
        "upper = Q3 + 1.5*IQR\n",
        "print(Q1)\n",
        "print(Q3)\n",
        "print(IQR)\n",
        "print(lower)\n",
        "print(upper)"
      ],
      "metadata": {
        "colab": {
          "base_uri": "https://localhost:8080/"
        },
        "id": "Yk_TVN9uWOvb",
        "outputId": "5f4d034c-d447-4964-c869-220776b2bc7a"
      },
      "execution_count": null,
      "outputs": [
        {
          "output_type": "stream",
          "name": "stdout",
          "text": [
            "100.0\n",
            "159.0\n",
            "59.0\n",
            "11.5\n",
            "247.5\n"
          ]
        }
      ]
    },
    {
      "cell_type": "code",
      "source": [
        "upper_array_blood_glucose_level = np.where(X['blood_glucose_level']>=upper)[0]\n",
        "upper_array_blood_glucose_level"
      ],
      "metadata": {
        "colab": {
          "base_uri": "https://localhost:8080/"
        },
        "id": "zOemOYaRWT1K",
        "outputId": "8c60874f-5d09-4651-a043-dba415cda04d"
      },
      "execution_count": null,
      "outputs": [
        {
          "output_type": "execute_result",
          "data": {
            "text/plain": [
              "array([   38,    94,   104, ..., 99867, 99938, 99957])"
            ]
          },
          "metadata": {},
          "execution_count": 109
        }
      ]
    },
    {
      "cell_type": "code",
      "source": [
        "lower_array_blood_glucose_level = np.where(X['blood_glucose_level']<=lower)[0]\n",
        "lower_array_blood_glucose_level"
      ],
      "metadata": {
        "colab": {
          "base_uri": "https://localhost:8080/"
        },
        "id": "6btB_9UyczWr",
        "outputId": "379652a8-39ee-45cf-c727-0e304bb6b7ce"
      },
      "execution_count": null,
      "outputs": [
        {
          "output_type": "execute_result",
          "data": {
            "text/plain": [
              "array([], dtype=int64)"
            ]
          },
          "metadata": {},
          "execution_count": 110
        }
      ]
    },
    {
      "cell_type": "markdown",
      "source": [
        "**tratamento de outliers**"
      ],
      "metadata": {
        "id": "AopdYXfGdpcf"
      }
    },
    {
      "cell_type": "code",
      "source": [
        "\"\"\"\n",
        "temp = np.unique(np.concatenate((upper_array_age,lower_array_bmi),0))\n",
        "temp = np.unique(np.concatenate((temp,upper_array_bmi),0))\n",
        "temp = np.unique(np.concatenate((temp,upper_array_HbA1c_level),0))\n",
        "temp = np.unique(np.concatenate((temp,lower_array_HbA1c_level),0))\n",
        "temp = np.unique(np.concatenate((temp,upper_array_blood_glucose_level),0))\n",
        "temp = np.unique(np.concatenate((temp,lower_array_blood_glucose_level),0))\n",
        "X.drop(index=temp, inplace=True)\n",
        "y.drop(index=temp, inplace=True)\n",
        "\"\"\""
      ],
      "metadata": {
        "id": "SzENLD6Qdwwm"
      },
      "execution_count": null,
      "outputs": []
    },
    {
      "cell_type": "markdown",
      "metadata": {
        "id": "Cut7zYhnidzy"
      },
      "source": [
        "#Pré-processamento dos dados"
      ]
    },
    {
      "cell_type": "code",
      "execution_count": null,
      "metadata": {
        "colab": {
          "base_uri": "https://localhost:8080/"
        },
        "id": "fQie6doQxQk6",
        "outputId": "06e771b4-bb37-4702-82f1-ac5d0b138458"
      },
      "outputs": [
        {
          "output_type": "stream",
          "name": "stderr",
          "text": [
            "<ipython-input-112-2778dbb9c2a5>:7: DeprecationWarning: In a future version, `df.iloc[:, i] = newvals` will attempt to set the values inplace instead of always setting a new array. To retain the old behavior, use either `df[df.columns[i]] = newvals` or, if columns are non-unique, `df.isetitem(i, newvals)`\n",
            "  X.iloc[:,0] = label_encoder_gender.fit_transform(X.iloc[:,0])\n"
          ]
        }
      ],
      "source": [
        "# remover campo 'smoking_history' devido a quantidade de informações faltantes\n",
        "X.drop('smoking_history',axis=1,inplace=True)\n",
        "\n",
        "from sklearn.preprocessing import LabelEncoder\n",
        "label_encoder = LabelEncoder()\n",
        "label_encoder_gender = LabelEncoder()\n",
        "X.iloc[:,0] = label_encoder_gender.fit_transform(X.iloc[:,0])\n"
      ]
    },
    {
      "cell_type": "markdown",
      "metadata": {
        "id": "Z6IZInd8idzz"
      },
      "source": [
        "**Divisão dos dados em treino e teste**\n",
        "\n",
        "foi feita a divisão dos dados em 80\\% para treino e 20\\% para teste."
      ]
    },
    {
      "cell_type": "code",
      "execution_count": null,
      "metadata": {
        "id": "TK6ObUhg4wrx"
      },
      "outputs": [],
      "source": [
        "X_treino, X_teste, y_treino, y_teste = train_test_split(X, y, test_size = 0.20, random_state = 42)"
      ]
    },
    {
      "cell_type": "markdown",
      "metadata": {
        "id": "fpKA0iFxcmG9"
      },
      "source": [
        "**Balanciamento dos dados**\n",
        "\n",
        "Para o balanceamento de dados, foi verificado que haviam muitas instâncias da classe majoritária, então foi decidido implementar o undersampling na base de treino."
      ]
    },
    {
      "cell_type": "code",
      "execution_count": null,
      "metadata": {
        "id": "gXDiVsHicpnT"
      },
      "outputs": [],
      "source": [
        "from imblearn.under_sampling import RandomUnderSampler\n",
        "# balanceia a base de dados de forma que a base majoritaria fique 40% maior\n",
        "us=RandomUnderSampler(sampling_strategy=0.4)\n",
        "X_treino,y_treino = us.fit_resample(X_treino,y_treino)"
      ]
    },
    {
      "cell_type": "markdown",
      "source": [
        "**normalização de dados**"
      ],
      "metadata": {
        "id": "B37qDKk1Kk0P"
      }
    },
    {
      "cell_type": "code",
      "source": [
        "sc_X = StandardScaler()\n",
        "X_trainscaled=sc_X.fit_transform(X_treino)\n",
        "X_testscaled=sc_X.transform(X_teste)"
      ],
      "metadata": {
        "id": "LcswMesLKuQJ"
      },
      "execution_count": null,
      "outputs": []
    },
    {
      "cell_type": "markdown",
      "source": [
        "**treinamento do modelo**"
      ],
      "metadata": {
        "id": "8HBd92ONLCwK"
      }
    },
    {
      "cell_type": "code",
      "source": [
        "clf = MLPClassifier(hidden_layer_sizes=(256,128,64,32),activation=\"relu\",random_state=1).fit(X_trainscaled, y_treino)\n",
        "y_pred=clf.predict(X_testscaled)"
      ],
      "metadata": {
        "colab": {
          "base_uri": "https://localhost:8080/"
        },
        "id": "l4DgcIb2LFE1",
        "outputId": "0610c059-67e5-49aa-f2c7-a1af9503717b"
      },
      "execution_count": null,
      "outputs": [
        {
          "output_type": "stream",
          "name": "stderr",
          "text": [
            "/usr/local/lib/python3.10/dist-packages/sklearn/neural_network/_multilayer_perceptron.py:686: ConvergenceWarning: Stochastic Optimizer: Maximum iterations (200) reached and the optimization hasn't converged yet.\n",
            "  \n"
          ]
        }
      ]
    },
    {
      "cell_type": "code",
      "execution_count": null,
      "metadata": {
        "colab": {
          "base_uri": "https://localhost:8080/"
        },
        "id": "9xwjhdZ4WBes",
        "outputId": "b2982c86-b3f1-41dd-9e59-3ba84f9ce334"
      },
      "outputs": [
        {
          "output_type": "stream",
          "name": "stdout",
          "text": [
            "              precision    recall  f1-score   support\n",
            "\n",
            "           0       0.99      0.91      0.95     17177\n",
            "           1       0.31      0.75      0.44       901\n",
            "\n",
            "    accuracy                           0.91     18078\n",
            "   macro avg       0.65      0.83      0.70     18078\n",
            "weighted avg       0.95      0.91      0.92     18078\n",
            "\n"
          ]
        }
      ],
      "source": [
        "print(classification_report(y_teste, y_pred))"
      ]
    }
  ],
  "metadata": {
    "colab": {
      "provenance": [],
      "include_colab_link": true
    },
    "kernelspec": {
      "display_name": "Python 3.10.5 64-bit",
      "language": "python",
      "name": "python3"
    },
    "language_info": {
      "codemirror_mode": {
        "name": "ipython",
        "version": 3
      },
      "file_extension": ".py",
      "mimetype": "text/x-python",
      "name": "python",
      "nbconvert_exporter": "python",
      "pygments_lexer": "ipython3",
      "version": "3.10.12"
    },
    "vscode": {
      "interpreter": {
        "hash": "ed3943dba37f3ed717092a780584c496f36863d6c99891baccd6632ecc02cdda"
      }
    }
  },
  "nbformat": 4,
  "nbformat_minor": 0
}
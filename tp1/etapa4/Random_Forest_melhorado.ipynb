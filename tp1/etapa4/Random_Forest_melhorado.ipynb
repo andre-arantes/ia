{
  "cells": [
    {
      "cell_type": "markdown",
      "metadata": {
        "id": "view-in-github",
        "colab_type": "text"
      },
      "source": [
        "<a href=\"https://colab.research.google.com/github/andre-arantes/ia/blob/master/tp1/etapa4/Random_Forest_melhorado.ipynb\" target=\"_parent\"><img src=\"https://colab.research.google.com/assets/colab-badge.svg\" alt=\"Open In Colab\"/></a>"
      ]
    },
    {
      "cell_type": "markdown",
      "metadata": {
        "id": "RVuTk2Uridzv"
      },
      "source": [
        "# Projeto de Previsão de Diabetes\n",
        "\n",
        "Este projeto tem como objetivo prever a probabilidade de uma pessoa ter diabetes com base em vários fatores, como idade, nível de HbA1c, nível de glicose no sangue e gênero. O conjunto de dados usado neste projeto é o Diabetes Prediction Dataset.\n",
        "\n",
        "Usaremos o algoritmo Random Forest Classifier para treinar nosso modelo e prever a probabilidade de diabetes. Também usaremos mais diversas técnicas de pré-processamento de dados, como subamostragem, para melhorar a precisão do nosso modelo."
      ]
    },
    {
      "cell_type": "code",
      "execution_count": null,
      "metadata": {
        "id": "WpOx-nnyopwQ"
      },
      "outputs": [],
      "source": [
        "# Importando bibliotecas\n",
        "import pandas as pd\n",
        "from sklearn import preprocessing\n",
        "import seaborn as sns\n",
        "from sklearn.model_selection import train_test_split\n",
        "from imblearn.under_sampling import RandomUnderSampler\n",
        "from sklearn.ensemble import RandomForestClassifier\n",
        "from sklearn.metrics import classification_report\n",
        "import numpy as np"
      ]
    },
    {
      "cell_type": "code",
      "execution_count": null,
      "metadata": {
        "id": "jRRreZXdovYB"
      },
      "outputs": [],
      "source": [
        "# Carregando os dados\n",
        "base = pd.read_csv('/content/sample_data/diabetes_prediction_dataset.csv')"
      ]
    },
    {
      "cell_type": "markdown",
      "metadata": {
        "id": "cgQ3ricVidzy"
      },
      "source": [
        "# Ler dados da base"
      ]
    },
    {
      "cell_type": "code",
      "execution_count": null,
      "metadata": {
        "colab": {
          "base_uri": "https://localhost:8080/",
          "height": 206
        },
        "id": "yRQC8sSeb8Wi",
        "outputId": "97c98ea9-e387-483c-a4d4-9ef78663104a"
      },
      "outputs": [
        {
          "output_type": "execute_result",
          "data": {
            "text/plain": [
              "   gender   age  hypertension  heart_disease smoking_history    bmi  \\\n",
              "0  Female  80.0             0              1           never  25.19   \n",
              "1  Female  54.0             0              0         No Info  27.32   \n",
              "2    Male  28.0             0              0           never  27.32   \n",
              "3  Female  36.0             0              0         current  23.45   \n",
              "4    Male  76.0             1              1         current  20.14   \n",
              "\n",
              "   HbA1c_level  blood_glucose_level  diabetes  \n",
              "0          6.6                  140         0  \n",
              "1          6.6                   80         0  \n",
              "2          5.7                  158         0  \n",
              "3          5.0                  155         0  \n",
              "4          4.8                  155         0  "
            ],
            "text/html": [
              "\n",
              "  <div id=\"df-b5b80263-0811-4713-b8f0-5e8734e395eb\" class=\"colab-df-container\">\n",
              "    <div>\n",
              "<style scoped>\n",
              "    .dataframe tbody tr th:only-of-type {\n",
              "        vertical-align: middle;\n",
              "    }\n",
              "\n",
              "    .dataframe tbody tr th {\n",
              "        vertical-align: top;\n",
              "    }\n",
              "\n",
              "    .dataframe thead th {\n",
              "        text-align: right;\n",
              "    }\n",
              "</style>\n",
              "<table border=\"1\" class=\"dataframe\">\n",
              "  <thead>\n",
              "    <tr style=\"text-align: right;\">\n",
              "      <th></th>\n",
              "      <th>gender</th>\n",
              "      <th>age</th>\n",
              "      <th>hypertension</th>\n",
              "      <th>heart_disease</th>\n",
              "      <th>smoking_history</th>\n",
              "      <th>bmi</th>\n",
              "      <th>HbA1c_level</th>\n",
              "      <th>blood_glucose_level</th>\n",
              "      <th>diabetes</th>\n",
              "    </tr>\n",
              "  </thead>\n",
              "  <tbody>\n",
              "    <tr>\n",
              "      <th>0</th>\n",
              "      <td>Female</td>\n",
              "      <td>80.0</td>\n",
              "      <td>0</td>\n",
              "      <td>1</td>\n",
              "      <td>never</td>\n",
              "      <td>25.19</td>\n",
              "      <td>6.6</td>\n",
              "      <td>140</td>\n",
              "      <td>0</td>\n",
              "    </tr>\n",
              "    <tr>\n",
              "      <th>1</th>\n",
              "      <td>Female</td>\n",
              "      <td>54.0</td>\n",
              "      <td>0</td>\n",
              "      <td>0</td>\n",
              "      <td>No Info</td>\n",
              "      <td>27.32</td>\n",
              "      <td>6.6</td>\n",
              "      <td>80</td>\n",
              "      <td>0</td>\n",
              "    </tr>\n",
              "    <tr>\n",
              "      <th>2</th>\n",
              "      <td>Male</td>\n",
              "      <td>28.0</td>\n",
              "      <td>0</td>\n",
              "      <td>0</td>\n",
              "      <td>never</td>\n",
              "      <td>27.32</td>\n",
              "      <td>5.7</td>\n",
              "      <td>158</td>\n",
              "      <td>0</td>\n",
              "    </tr>\n",
              "    <tr>\n",
              "      <th>3</th>\n",
              "      <td>Female</td>\n",
              "      <td>36.0</td>\n",
              "      <td>0</td>\n",
              "      <td>0</td>\n",
              "      <td>current</td>\n",
              "      <td>23.45</td>\n",
              "      <td>5.0</td>\n",
              "      <td>155</td>\n",
              "      <td>0</td>\n",
              "    </tr>\n",
              "    <tr>\n",
              "      <th>4</th>\n",
              "      <td>Male</td>\n",
              "      <td>76.0</td>\n",
              "      <td>1</td>\n",
              "      <td>1</td>\n",
              "      <td>current</td>\n",
              "      <td>20.14</td>\n",
              "      <td>4.8</td>\n",
              "      <td>155</td>\n",
              "      <td>0</td>\n",
              "    </tr>\n",
              "  </tbody>\n",
              "</table>\n",
              "</div>\n",
              "    <div class=\"colab-df-buttons\">\n",
              "\n",
              "  <div class=\"colab-df-container\">\n",
              "    <button class=\"colab-df-convert\" onclick=\"convertToInteractive('df-b5b80263-0811-4713-b8f0-5e8734e395eb')\"\n",
              "            title=\"Convert this dataframe to an interactive table.\"\n",
              "            style=\"display:none;\">\n",
              "\n",
              "  <svg xmlns=\"http://www.w3.org/2000/svg\" height=\"24px\" viewBox=\"0 -960 960 960\">\n",
              "    <path d=\"M120-120v-720h720v720H120Zm60-500h600v-160H180v160Zm220 220h160v-160H400v160Zm0 220h160v-160H400v160ZM180-400h160v-160H180v160Zm440 0h160v-160H620v160ZM180-180h160v-160H180v160Zm440 0h160v-160H620v160Z\"/>\n",
              "  </svg>\n",
              "    </button>\n",
              "\n",
              "  <style>\n",
              "    .colab-df-container {\n",
              "      display:flex;\n",
              "      gap: 12px;\n",
              "    }\n",
              "\n",
              "    .colab-df-convert {\n",
              "      background-color: #E8F0FE;\n",
              "      border: none;\n",
              "      border-radius: 50%;\n",
              "      cursor: pointer;\n",
              "      display: none;\n",
              "      fill: #1967D2;\n",
              "      height: 32px;\n",
              "      padding: 0 0 0 0;\n",
              "      width: 32px;\n",
              "    }\n",
              "\n",
              "    .colab-df-convert:hover {\n",
              "      background-color: #E2EBFA;\n",
              "      box-shadow: 0px 1px 2px rgba(60, 64, 67, 0.3), 0px 1px 3px 1px rgba(60, 64, 67, 0.15);\n",
              "      fill: #174EA6;\n",
              "    }\n",
              "\n",
              "    .colab-df-buttons div {\n",
              "      margin-bottom: 4px;\n",
              "    }\n",
              "\n",
              "    [theme=dark] .colab-df-convert {\n",
              "      background-color: #3B4455;\n",
              "      fill: #D2E3FC;\n",
              "    }\n",
              "\n",
              "    [theme=dark] .colab-df-convert:hover {\n",
              "      background-color: #434B5C;\n",
              "      box-shadow: 0px 1px 3px 1px rgba(0, 0, 0, 0.15);\n",
              "      filter: drop-shadow(0px 1px 2px rgba(0, 0, 0, 0.3));\n",
              "      fill: #FFFFFF;\n",
              "    }\n",
              "  </style>\n",
              "\n",
              "    <script>\n",
              "      const buttonEl =\n",
              "        document.querySelector('#df-b5b80263-0811-4713-b8f0-5e8734e395eb button.colab-df-convert');\n",
              "      buttonEl.style.display =\n",
              "        google.colab.kernel.accessAllowed ? 'block' : 'none';\n",
              "\n",
              "      async function convertToInteractive(key) {\n",
              "        const element = document.querySelector('#df-b5b80263-0811-4713-b8f0-5e8734e395eb');\n",
              "        const dataTable =\n",
              "          await google.colab.kernel.invokeFunction('convertToInteractive',\n",
              "                                                    [key], {});\n",
              "        if (!dataTable) return;\n",
              "\n",
              "        const docLinkHtml = 'Like what you see? Visit the ' +\n",
              "          '<a target=\"_blank\" href=https://colab.research.google.com/notebooks/data_table.ipynb>data table notebook</a>'\n",
              "          + ' to learn more about interactive tables.';\n",
              "        element.innerHTML = '';\n",
              "        dataTable['output_type'] = 'display_data';\n",
              "        await google.colab.output.renderOutput(dataTable, element);\n",
              "        const docLink = document.createElement('div');\n",
              "        docLink.innerHTML = docLinkHtml;\n",
              "        element.appendChild(docLink);\n",
              "      }\n",
              "    </script>\n",
              "  </div>\n",
              "\n",
              "\n",
              "<div id=\"df-37ccc77e-62be-4449-85be-9106cce10259\">\n",
              "  <button class=\"colab-df-quickchart\" onclick=\"quickchart('df-37ccc77e-62be-4449-85be-9106cce10259')\"\n",
              "            title=\"Suggest charts.\"\n",
              "            style=\"display:none;\">\n",
              "\n",
              "<svg xmlns=\"http://www.w3.org/2000/svg\" height=\"24px\"viewBox=\"0 0 24 24\"\n",
              "     width=\"24px\">\n",
              "    <g>\n",
              "        <path d=\"M19 3H5c-1.1 0-2 .9-2 2v14c0 1.1.9 2 2 2h14c1.1 0 2-.9 2-2V5c0-1.1-.9-2-2-2zM9 17H7v-7h2v7zm4 0h-2V7h2v10zm4 0h-2v-4h2v4z\"/>\n",
              "    </g>\n",
              "</svg>\n",
              "  </button>\n",
              "\n",
              "<style>\n",
              "  .colab-df-quickchart {\n",
              "      --bg-color: #E8F0FE;\n",
              "      --fill-color: #1967D2;\n",
              "      --hover-bg-color: #E2EBFA;\n",
              "      --hover-fill-color: #174EA6;\n",
              "      --disabled-fill-color: #AAA;\n",
              "      --disabled-bg-color: #DDD;\n",
              "  }\n",
              "\n",
              "  [theme=dark] .colab-df-quickchart {\n",
              "      --bg-color: #3B4455;\n",
              "      --fill-color: #D2E3FC;\n",
              "      --hover-bg-color: #434B5C;\n",
              "      --hover-fill-color: #FFFFFF;\n",
              "      --disabled-bg-color: #3B4455;\n",
              "      --disabled-fill-color: #666;\n",
              "  }\n",
              "\n",
              "  .colab-df-quickchart {\n",
              "    background-color: var(--bg-color);\n",
              "    border: none;\n",
              "    border-radius: 50%;\n",
              "    cursor: pointer;\n",
              "    display: none;\n",
              "    fill: var(--fill-color);\n",
              "    height: 32px;\n",
              "    padding: 0;\n",
              "    width: 32px;\n",
              "  }\n",
              "\n",
              "  .colab-df-quickchart:hover {\n",
              "    background-color: var(--hover-bg-color);\n",
              "    box-shadow: 0 1px 2px rgba(60, 64, 67, 0.3), 0 1px 3px 1px rgba(60, 64, 67, 0.15);\n",
              "    fill: var(--button-hover-fill-color);\n",
              "  }\n",
              "\n",
              "  .colab-df-quickchart-complete:disabled,\n",
              "  .colab-df-quickchart-complete:disabled:hover {\n",
              "    background-color: var(--disabled-bg-color);\n",
              "    fill: var(--disabled-fill-color);\n",
              "    box-shadow: none;\n",
              "  }\n",
              "\n",
              "  .colab-df-spinner {\n",
              "    border: 2px solid var(--fill-color);\n",
              "    border-color: transparent;\n",
              "    border-bottom-color: var(--fill-color);\n",
              "    animation:\n",
              "      spin 1s steps(1) infinite;\n",
              "  }\n",
              "\n",
              "  @keyframes spin {\n",
              "    0% {\n",
              "      border-color: transparent;\n",
              "      border-bottom-color: var(--fill-color);\n",
              "      border-left-color: var(--fill-color);\n",
              "    }\n",
              "    20% {\n",
              "      border-color: transparent;\n",
              "      border-left-color: var(--fill-color);\n",
              "      border-top-color: var(--fill-color);\n",
              "    }\n",
              "    30% {\n",
              "      border-color: transparent;\n",
              "      border-left-color: var(--fill-color);\n",
              "      border-top-color: var(--fill-color);\n",
              "      border-right-color: var(--fill-color);\n",
              "    }\n",
              "    40% {\n",
              "      border-color: transparent;\n",
              "      border-right-color: var(--fill-color);\n",
              "      border-top-color: var(--fill-color);\n",
              "    }\n",
              "    60% {\n",
              "      border-color: transparent;\n",
              "      border-right-color: var(--fill-color);\n",
              "    }\n",
              "    80% {\n",
              "      border-color: transparent;\n",
              "      border-right-color: var(--fill-color);\n",
              "      border-bottom-color: var(--fill-color);\n",
              "    }\n",
              "    90% {\n",
              "      border-color: transparent;\n",
              "      border-bottom-color: var(--fill-color);\n",
              "    }\n",
              "  }\n",
              "</style>\n",
              "\n",
              "  <script>\n",
              "    async function quickchart(key) {\n",
              "      const quickchartButtonEl =\n",
              "        document.querySelector('#' + key + ' button');\n",
              "      quickchartButtonEl.disabled = true;  // To prevent multiple clicks.\n",
              "      quickchartButtonEl.classList.add('colab-df-spinner');\n",
              "      try {\n",
              "        const charts = await google.colab.kernel.invokeFunction(\n",
              "            'suggestCharts', [key], {});\n",
              "      } catch (error) {\n",
              "        console.error('Error during call to suggestCharts:', error);\n",
              "      }\n",
              "      quickchartButtonEl.classList.remove('colab-df-spinner');\n",
              "      quickchartButtonEl.classList.add('colab-df-quickchart-complete');\n",
              "    }\n",
              "    (() => {\n",
              "      let quickchartButtonEl =\n",
              "        document.querySelector('#df-37ccc77e-62be-4449-85be-9106cce10259 button');\n",
              "      quickchartButtonEl.style.display =\n",
              "        google.colab.kernel.accessAllowed ? 'block' : 'none';\n",
              "    })();\n",
              "  </script>\n",
              "</div>\n",
              "    </div>\n",
              "  </div>\n"
            ]
          },
          "metadata": {},
          "execution_count": 34
        }
      ],
      "source": [
        "base.head()"
      ]
    },
    {
      "cell_type": "code",
      "execution_count": null,
      "metadata": {
        "colab": {
          "base_uri": "https://localhost:8080/"
        },
        "id": "SDGgIXcRlBVT",
        "outputId": "9129021c-372a-40ae-d67e-eb7025b40dc5"
      },
      "outputs": [
        {
          "output_type": "execute_result",
          "data": {
            "text/plain": [
              "gender                 0\n",
              "age                    0\n",
              "hypertension           0\n",
              "heart_disease          0\n",
              "smoking_history        0\n",
              "bmi                    0\n",
              "HbA1c_level            0\n",
              "blood_glucose_level    0\n",
              "diabetes               0\n",
              "dtype: int64"
            ]
          },
          "metadata": {},
          "execution_count": 35
        }
      ],
      "source": [
        "# checar existencias de campos nulos\n",
        "base.isnull().sum()"
      ]
    },
    {
      "cell_type": "code",
      "execution_count": null,
      "metadata": {
        "colab": {
          "base_uri": "https://localhost:8080/"
        },
        "id": "LC9pY84Urc7S",
        "outputId": "347290b4-90fd-4f64-bba5-dd80113cdd9e"
      },
      "outputs": [
        {
          "output_type": "stream",
          "name": "stdout",
          "text": [
            "Female    58552\n",
            "Male      41430\n",
            "Other        18\n",
            "Name: gender, dtype: int64\n",
            "\n",
            "\n",
            "80.00    5621\n",
            "51.00    1619\n",
            "47.00    1574\n",
            "48.00    1568\n",
            "53.00    1542\n",
            "         ... \n",
            "0.48       83\n",
            "1.00       83\n",
            "0.40       66\n",
            "0.16       59\n",
            "0.08       36\n",
            "Name: age, Length: 102, dtype: int64\n",
            "\n",
            "\n",
            "0    92515\n",
            "1     7485\n",
            "Name: hypertension, dtype: int64\n",
            "\n",
            "\n",
            "0    96058\n",
            "1     3942\n",
            "Name: heart_disease, dtype: int64\n",
            "\n",
            "\n",
            "No Info        35816\n",
            "never          35095\n",
            "former          9352\n",
            "current         9286\n",
            "not current     6447\n",
            "ever            4004\n",
            "Name: smoking_history, dtype: int64\n",
            "\n",
            "\n",
            "27.32    25495\n",
            "23.00      103\n",
            "27.12      101\n",
            "27.80      100\n",
            "24.96      100\n",
            "         ...  \n",
            "58.23        1\n",
            "48.18        1\n",
            "55.57        1\n",
            "57.07        1\n",
            "60.52        1\n",
            "Name: bmi, Length: 4247, dtype: int64\n",
            "\n",
            "\n",
            "6.6    8540\n",
            "5.7    8413\n",
            "6.5    8362\n",
            "5.8    8321\n",
            "6.0    8295\n",
            "6.2    8269\n",
            "6.1    8048\n",
            "3.5    7662\n",
            "4.8    7597\n",
            "4.5    7585\n",
            "4.0    7542\n",
            "5.0    7471\n",
            "8.8     661\n",
            "8.2     661\n",
            "9.0     654\n",
            "7.5     643\n",
            "6.8     642\n",
            "7.0     634\n",
            "Name: HbA1c_level, dtype: int64\n",
            "\n",
            "\n",
            "130    7794\n",
            "159    7759\n",
            "140    7732\n",
            "160    7712\n",
            "126    7702\n",
            "145    7679\n",
            "200    7600\n",
            "155    7575\n",
            "90     7112\n",
            "80     7106\n",
            "158    7026\n",
            "100    7025\n",
            "85     6901\n",
            "280     729\n",
            "300     674\n",
            "240     636\n",
            "260     635\n",
            "220     603\n",
            "Name: blood_glucose_level, dtype: int64\n",
            "\n",
            "\n",
            "0    91500\n",
            "1     8500\n",
            "Name: diabetes, dtype: int64\n",
            "\n",
            "\n"
          ]
        }
      ],
      "source": [
        "# checar natureza dos dados\n",
        "for i in base.columns:\n",
        "    print(base[i].value_counts())\n",
        "    print('\\n')"
      ]
    },
    {
      "cell_type": "markdown",
      "metadata": {
        "id": "UFJ93xCwcJTX"
      },
      "source": [
        "**Separando os atributos de entrada e de classe**"
      ]
    },
    {
      "cell_type": "code",
      "execution_count": null,
      "metadata": {
        "id": "ptA2GP-XcJt_"
      },
      "outputs": [],
      "source": [
        "X = base.copy()\n",
        "y = X.pop('diabetes')"
      ]
    },
    {
      "cell_type": "markdown",
      "source": [
        "**indetificação de outliers**"
      ],
      "metadata": {
        "id": "taZHM5FbRYnF"
      }
    },
    {
      "cell_type": "markdown",
      "source": [
        "Outliers de age"
      ],
      "metadata": {
        "id": "i4iPh6lsUK3r"
      }
    },
    {
      "cell_type": "code",
      "source": [
        "Q1 = X['age'].quantile(0.25)\n",
        "Q3 = X['age'].quantile(0.75)\n",
        "IQR = Q3 - Q1\n",
        "lower = Q1 - 1.5*IQR\n",
        "upper = Q3 + 1.5*IQR\n",
        "print(Q1)\n",
        "print(Q3)\n",
        "print(IQR)\n",
        "print(lower)\n",
        "print(upper)"
      ],
      "metadata": {
        "colab": {
          "base_uri": "https://localhost:8080/"
        },
        "id": "qL1OzhfNRchP",
        "outputId": "8bd23053-40d4-4ea5-d4d5-adb8229ce804"
      },
      "execution_count": null,
      "outputs": [
        {
          "output_type": "stream",
          "name": "stdout",
          "text": [
            "24.0\n",
            "60.0\n",
            "36.0\n",
            "-30.0\n",
            "114.0\n"
          ]
        }
      ]
    },
    {
      "cell_type": "code",
      "source": [
        "upper_array_age = np.where(X['age']>=upper)[0]\n",
        "upper_array_age"
      ],
      "metadata": {
        "colab": {
          "base_uri": "https://localhost:8080/"
        },
        "id": "qvNNok_IZ4Z2",
        "outputId": "d3398c9f-018a-439c-99d1-f878e112a4c8"
      },
      "execution_count": null,
      "outputs": [
        {
          "output_type": "execute_result",
          "data": {
            "text/plain": [
              "array([], dtype=int64)"
            ]
          },
          "metadata": {},
          "execution_count": 39
        }
      ]
    },
    {
      "cell_type": "markdown",
      "source": [
        "Outliers de bmi"
      ],
      "metadata": {
        "id": "z9O4-iGzUOkq"
      }
    },
    {
      "cell_type": "code",
      "source": [
        "Q1 = X['bmi'].quantile(0.25)\n",
        "Q3 = X['bmi'].quantile(0.75)\n",
        "IQR = Q3 - Q1\n",
        "lower = Q1 - 1.5*IQR\n",
        "upper = Q3 + 1.5*IQR\n",
        "print(Q1)\n",
        "print(Q3)\n",
        "print(IQR)\n",
        "print(lower)\n",
        "print(upper)"
      ],
      "metadata": {
        "colab": {
          "base_uri": "https://localhost:8080/"
        },
        "id": "6EJOALflUgF7",
        "outputId": "1f730f6d-ce69-463e-c2cc-da4a2fdb17cb"
      },
      "execution_count": null,
      "outputs": [
        {
          "output_type": "stream",
          "name": "stdout",
          "text": [
            "23.63\n",
            "29.58\n",
            "5.949999999999999\n",
            "14.705\n",
            "38.504999999999995\n"
          ]
        }
      ]
    },
    {
      "cell_type": "code",
      "source": [
        "upper_array_bmi = np.where(X['bmi']>=upper)[0]\n",
        "upper_array_bmi"
      ],
      "metadata": {
        "colab": {
          "base_uri": "https://localhost:8080/"
        },
        "id": "z7PSGunWUlAq",
        "outputId": "9ff17fb6-f534-4573-f9b6-3636aee9b8f7"
      },
      "execution_count": null,
      "outputs": [
        {
          "output_type": "execute_result",
          "data": {
            "text/plain": [
              "array([   11,    39,    59, ..., 99953, 99960, 99993])"
            ]
          },
          "metadata": {},
          "execution_count": 41
        }
      ]
    },
    {
      "cell_type": "code",
      "source": [
        "lower_array_bmi = np.where(X['bmi']<=lower)[0]\n",
        "lower_array_bmi"
      ],
      "metadata": {
        "colab": {
          "base_uri": "https://localhost:8080/"
        },
        "id": "N4p6a27NcD16",
        "outputId": "50450de5-d1cb-4f04-e193-5dbbf82fc548"
      },
      "execution_count": null,
      "outputs": [
        {
          "output_type": "execute_result",
          "data": {
            "text/plain": [
              "array([   24,   155,   221, ..., 99841, 99906, 99933])"
            ]
          },
          "metadata": {},
          "execution_count": 42
        }
      ]
    },
    {
      "cell_type": "markdown",
      "source": [
        "Outliers de HbA1c_level"
      ],
      "metadata": {
        "id": "Jo3CnSTqVXZi"
      }
    },
    {
      "cell_type": "code",
      "source": [
        "Q1 = X['HbA1c_level'].quantile(0.25)\n",
        "Q3 = X['HbA1c_level'].quantile(0.75)\n",
        "IQR = Q3 - Q1\n",
        "lower = Q1 - 1.5*IQR\n",
        "upper = Q3 + 1.5*IQR\n",
        "print(Q1)\n",
        "print(Q3)\n",
        "print(IQR)\n",
        "print(lower)\n",
        "print(upper)"
      ],
      "metadata": {
        "colab": {
          "base_uri": "https://localhost:8080/"
        },
        "id": "B7IGyfUPVc3s",
        "outputId": "f1c6aa2a-a147-4a77-eea9-12d3ce764ba3"
      },
      "execution_count": null,
      "outputs": [
        {
          "output_type": "stream",
          "name": "stdout",
          "text": [
            "4.8\n",
            "6.2\n",
            "1.4000000000000004\n",
            "2.6999999999999993\n",
            "8.3\n"
          ]
        }
      ]
    },
    {
      "cell_type": "code",
      "source": [
        "upper_array_HbA1c_level = np.where(X['HbA1c_level']>=upper)[0]\n",
        "upper_array_HbA1c_level"
      ],
      "metadata": {
        "colab": {
          "base_uri": "https://localhost:8080/"
        },
        "id": "OmTNFXoUVfUx",
        "outputId": "43809df3-159b-4e17-f887-baa32686c70f"
      },
      "execution_count": null,
      "outputs": [
        {
          "output_type": "execute_result",
          "data": {
            "text/plain": [
              "array([   40,    55,    59, ..., 99706, 99740, 99929])"
            ]
          },
          "metadata": {},
          "execution_count": 44
        }
      ]
    },
    {
      "cell_type": "code",
      "source": [
        "lower_array_HbA1c_level = np.where(X['HbA1c_level']<=lower)[0]\n",
        "lower_array_HbA1c_level\n"
      ],
      "metadata": {
        "colab": {
          "base_uri": "https://localhost:8080/"
        },
        "id": "4NYAgBLuVij5",
        "outputId": "4f60219b-d881-4647-af0e-ae688655d02c"
      },
      "execution_count": null,
      "outputs": [
        {
          "output_type": "execute_result",
          "data": {
            "text/plain": [
              "array([], dtype=int64)"
            ]
          },
          "metadata": {},
          "execution_count": 45
        }
      ]
    },
    {
      "cell_type": "markdown",
      "source": [
        "Outliers de blood_glucose_level"
      ],
      "metadata": {
        "id": "l681PhhwWEWx"
      }
    },
    {
      "cell_type": "code",
      "source": [
        "Q1 = X['blood_glucose_level'].quantile(0.25)\n",
        "Q3 = X['blood_glucose_level'].quantile(0.75)\n",
        "IQR = Q3 - Q1\n",
        "lower = Q1 - 1.5*IQR\n",
        "upper = Q3 + 1.5*IQR\n",
        "print(Q1)\n",
        "print(Q3)\n",
        "print(IQR)\n",
        "print(lower)\n",
        "print(upper)"
      ],
      "metadata": {
        "colab": {
          "base_uri": "https://localhost:8080/"
        },
        "id": "Yk_TVN9uWOvb",
        "outputId": "17435ee7-1611-4dd5-9907-cf9c36fc4a6f"
      },
      "execution_count": null,
      "outputs": [
        {
          "output_type": "stream",
          "name": "stdout",
          "text": [
            "100.0\n",
            "159.0\n",
            "59.0\n",
            "11.5\n",
            "247.5\n"
          ]
        }
      ]
    },
    {
      "cell_type": "code",
      "source": [
        "upper_array_blood_glucose_level = np.where(X['blood_glucose_level']>=upper)[0]\n",
        "upper_array_blood_glucose_level"
      ],
      "metadata": {
        "colab": {
          "base_uri": "https://localhost:8080/"
        },
        "id": "zOemOYaRWT1K",
        "outputId": "37c4aaee-00cf-427e-c6af-d441018831a5"
      },
      "execution_count": null,
      "outputs": [
        {
          "output_type": "execute_result",
          "data": {
            "text/plain": [
              "array([   38,    94,   104, ..., 99867, 99938, 99957])"
            ]
          },
          "metadata": {},
          "execution_count": 47
        }
      ]
    },
    {
      "cell_type": "code",
      "source": [
        "lower_array_blood_glucose_level = np.where(X['blood_glucose_level']<=lower)[0]\n",
        "lower_array_blood_glucose_level"
      ],
      "metadata": {
        "colab": {
          "base_uri": "https://localhost:8080/"
        },
        "id": "6btB_9UyczWr",
        "outputId": "ecdd6585-6bee-46a5-c6c3-2d0f0d735e7d"
      },
      "execution_count": null,
      "outputs": [
        {
          "output_type": "execute_result",
          "data": {
            "text/plain": [
              "array([], dtype=int64)"
            ]
          },
          "metadata": {},
          "execution_count": 48
        }
      ]
    },
    {
      "cell_type": "markdown",
      "source": [
        "**tratamento de outliers**"
      ],
      "metadata": {
        "id": "AopdYXfGdpcf"
      }
    },
    {
      "cell_type": "code",
      "source": [
        "\"\"\"\n",
        "temp = np.unique(np.concatenate((upper_array_age,lower_array_bmi),0))\n",
        "temp = np.unique(np.concatenate((temp,upper_array_bmi),0))\n",
        "temp = np.unique(np.concatenate((temp,upper_array_HbA1c_level),0))\n",
        "temp = np.unique(np.concatenate((temp,lower_array_HbA1c_level),0))\n",
        "temp = np.unique(np.concatenate((temp,upper_array_blood_glucose_level),0))\n",
        "temp = np.unique(np.concatenate((temp,lower_array_blood_glucose_level),0))\n",
        "X.drop(index=temp, inplace=True)\n",
        "y.drop(index=temp, inplace=True)\n",
        "\"\"\""
      ],
      "metadata": {
        "id": "SzENLD6Qdwwm"
      },
      "execution_count": null,
      "outputs": []
    },
    {
      "cell_type": "markdown",
      "metadata": {
        "id": "Cut7zYhnidzy"
      },
      "source": [
        "#Pré-processamento dos dados"
      ]
    },
    {
      "cell_type": "code",
      "execution_count": null,
      "metadata": {
        "colab": {
          "base_uri": "https://localhost:8080/"
        },
        "id": "fQie6doQxQk6",
        "outputId": "1fa7ea82-11fa-4b83-870f-7ec29c81f414"
      },
      "outputs": [
        {
          "output_type": "stream",
          "name": "stderr",
          "text": [
            "<ipython-input-50-2778dbb9c2a5>:7: DeprecationWarning: In a future version, `df.iloc[:, i] = newvals` will attempt to set the values inplace instead of always setting a new array. To retain the old behavior, use either `df[df.columns[i]] = newvals` or, if columns are non-unique, `df.isetitem(i, newvals)`\n",
            "  X.iloc[:,0] = label_encoder_gender.fit_transform(X.iloc[:,0])\n"
          ]
        }
      ],
      "source": [
        "# remover campo 'smoking_history' devido a quantidade de informações faltantes\n",
        "X.drop('smoking_history',axis=1,inplace=True)\n",
        "\n",
        "from sklearn.preprocessing import LabelEncoder\n",
        "label_encoder = LabelEncoder()\n",
        "label_encoder_gender = LabelEncoder()\n",
        "X.iloc[:,0] = label_encoder_gender.fit_transform(X.iloc[:,0])\n"
      ]
    },
    {
      "cell_type": "markdown",
      "metadata": {
        "id": "Z6IZInd8idzz"
      },
      "source": [
        "**Divisão dos dados em treino e teste**\n",
        "\n",
        "foi feita a divisão dos dados em 80\\% para treino e 20\\% para teste."
      ]
    },
    {
      "cell_type": "code",
      "execution_count": null,
      "metadata": {
        "id": "TK6ObUhg4wrx"
      },
      "outputs": [],
      "source": [
        "X_treino, X_teste, y_treino, y_teste = train_test_split(X, y, test_size = 0.20, random_state = 42)"
      ]
    },
    {
      "cell_type": "markdown",
      "metadata": {
        "id": "fpKA0iFxcmG9"
      },
      "source": [
        "**Balanciamento dos dados**\n",
        "\n",
        "Para o balanceamento de dados, foi verificado que haviam muitas instâncias da classe majoritária, então foi decidido implementar o undersampling na base de treino."
      ]
    },
    {
      "cell_type": "code",
      "execution_count": null,
      "metadata": {
        "id": "gXDiVsHicpnT"
      },
      "outputs": [],
      "source": [
        "from imblearn.under_sampling import RandomUnderSampler\n",
        "# balanceia a base de dados de forma que a base majoritaria fique 40% maior\n",
        "us=RandomUnderSampler(sampling_strategy=0.4)\n",
        "X_treino,y_treino = us.fit_resample(X_treino,y_treino)"
      ]
    },
    {
      "cell_type": "markdown",
      "metadata": {
        "id": "O-ryWFtVc1EZ"
      },
      "source": [
        "**Examine o Random Forest Padrão para Determinar Parâmetros.**"
      ]
    },
    {
      "cell_type": "code",
      "execution_count": null,
      "metadata": {
        "colab": {
          "base_uri": "https://localhost:8080/"
        },
        "id": "TyT7CTwhc2Hr",
        "outputId": "817d9777-82d2-4645-8605-9baa46dabc52"
      },
      "outputs": [
        {
          "output_type": "stream",
          "name": "stdout",
          "text": [
            "Parameters currently in use:\n",
            "\n",
            "{'bootstrap': True,\n",
            " 'ccp_alpha': 0.0,\n",
            " 'class_weight': None,\n",
            " 'criterion': 'gini',\n",
            " 'max_depth': None,\n",
            " 'max_features': 'sqrt',\n",
            " 'max_leaf_nodes': None,\n",
            " 'max_samples': None,\n",
            " 'min_impurity_decrease': 0.0,\n",
            " 'min_samples_leaf': 1,\n",
            " 'min_samples_split': 2,\n",
            " 'min_weight_fraction_leaf': 0.0,\n",
            " 'n_estimators': 100,\n",
            " 'n_jobs': None,\n",
            " 'oob_score': False,\n",
            " 'random_state': 0,\n",
            " 'verbose': 0,\n",
            " 'warm_start': False}\n"
          ]
        }
      ],
      "source": [
        "modelo = RandomForestClassifier(random_state = 0)\n",
        "from pprint import pprint\n",
        "\n",
        "# Look at parameters used by our current forest\n",
        "print('Parameters currently in use:\\n')\n",
        "pprint(modelo.get_params())"
      ]
    },
    {
      "cell_type": "markdown",
      "metadata": {
        "id": "jP-fSz5xeGfQ"
      },
      "source": [
        "#Random Search com Cross Validation\n",
        "\n",
        "Para montagem do RandomGrid, foi utilizado os seguintes parametros: quantidade de árvores (40 a 400), cálculo para quantidade de atributos (log2 ou sqrt), profundidade máxima da árvore (1 a 20 ou sem limite), mínimo de samples para dividir um nó (2 3 ou 5), numero mínimo de samples em cada folha da árvore (1, 2 ou 4) e uso de bootstrap (verdadeiro ou falso)."
      ]
    },
    {
      "cell_type": "code",
      "execution_count": null,
      "metadata": {
        "colab": {
          "base_uri": "https://localhost:8080/"
        },
        "id": "5UYuydNLeJ1p",
        "outputId": "46d968ed-5470-42f0-869f-0bd78a0271a1"
      },
      "outputs": [
        {
          "output_type": "stream",
          "name": "stdout",
          "text": [
            "{'bootstrap': [True, False],\n",
            " 'max_depth': [1, 10, 20, None],\n",
            " 'max_features': ['log2', 'sqrt'],\n",
            " 'min_samples_leaf': [1, 2, 4],\n",
            " 'min_samples_split': [2, 5, 10],\n",
            " 'n_estimators': [40, 80, 120, 160, 200, 240, 280, 320, 360, 400]}\n"
          ]
        }
      ],
      "source": [
        "from sklearn.model_selection import RandomizedSearchCV\n",
        "import numpy as np\n",
        "\n",
        "# Number of trees in random forest\n",
        "n_estimators = [int(x) for x in np.linspace(start = 40, stop = 400, num = 10)]\n",
        "# Number of features to consider at every split\n",
        "max_features = ['log2', 'sqrt']\n",
        "# Maximum number of levels in tree\n",
        "max_depth = [int(x) for x in np.linspace(1, 20, num = 3)]\n",
        "max_depth.append(None)\n",
        "# Minimum number of samples required to split a node\n",
        "min_samples_split = [2, 5, 10]\n",
        "# Minimum number of samples required at each leaf node\n",
        "min_samples_leaf = [1, 2, 4]\n",
        "# Method of selecting samples for training each tree\n",
        "bootstrap = [True, False]\n",
        "\n",
        "# Create the random grid\n",
        "random_grid = {'n_estimators': n_estimators,\n",
        "               'max_features': max_features,\n",
        "               'max_depth': max_depth,\n",
        "               'min_samples_split': min_samples_split,\n",
        "               'min_samples_leaf': min_samples_leaf,\n",
        "               'bootstrap': bootstrap}\n",
        "\n",
        "pprint(random_grid)"
      ]
    },
    {
      "cell_type": "markdown",
      "source": [
        "**RandomSerach com cross validation**\n",
        "\n",
        "RandomizedSearchCV com o RandomGrid como um de seus parâmetros, além do kfold (5) percorrendo 100 combinações e com o scoring buscando o melhor recall da classe 1."
      ],
      "metadata": {
        "id": "ULMl2XAdwMXm"
      }
    },
    {
      "cell_type": "code",
      "execution_count": null,
      "metadata": {
        "colab": {
          "base_uri": "https://localhost:8080/",
          "height": 135
        },
        "id": "uk6OErjZgCa_",
        "outputId": "24aff4f5-4cfc-4f27-f06c-91fd7f155364"
      },
      "outputs": [
        {
          "output_type": "stream",
          "name": "stdout",
          "text": [
            "Fitting 5 folds for each of 100 candidates, totalling 500 fits\n"
          ]
        },
        {
          "output_type": "execute_result",
          "data": {
            "text/plain": [
              "RandomizedSearchCV(cv=5, estimator=RandomForestClassifier(random_state=0),\n",
              "                   n_iter=100, n_jobs=-1,\n",
              "                   param_distributions={'bootstrap': [True, False],\n",
              "                                        'max_depth': [1, 10, 20, None],\n",
              "                                        'max_features': ['log2', 'sqrt'],\n",
              "                                        'min_samples_leaf': [1, 2, 4],\n",
              "                                        'min_samples_split': [2, 5, 10],\n",
              "                                        'n_estimators': [40, 80, 120, 160, 200,\n",
              "                                                         240, 280, 320, 360,\n",
              "                                                         400]},\n",
              "                   random_state=0, refit='Recall_Class1',\n",
              "                   return_train_score=True,\n",
              "                   scoring={'Recall_Class1': make_scorer(recall_score, pos_label=1)},\n",
              "                   verbose=2)"
            ],
            "text/html": [
              "<style>#sk-container-id-2 {color: black;background-color: white;}#sk-container-id-2 pre{padding: 0;}#sk-container-id-2 div.sk-toggleable {background-color: white;}#sk-container-id-2 label.sk-toggleable__label {cursor: pointer;display: block;width: 100%;margin-bottom: 0;padding: 0.3em;box-sizing: border-box;text-align: center;}#sk-container-id-2 label.sk-toggleable__label-arrow:before {content: \"▸\";float: left;margin-right: 0.25em;color: #696969;}#sk-container-id-2 label.sk-toggleable__label-arrow:hover:before {color: black;}#sk-container-id-2 div.sk-estimator:hover label.sk-toggleable__label-arrow:before {color: black;}#sk-container-id-2 div.sk-toggleable__content {max-height: 0;max-width: 0;overflow: hidden;text-align: left;background-color: #f0f8ff;}#sk-container-id-2 div.sk-toggleable__content pre {margin: 0.2em;color: black;border-radius: 0.25em;background-color: #f0f8ff;}#sk-container-id-2 input.sk-toggleable__control:checked~div.sk-toggleable__content {max-height: 200px;max-width: 100%;overflow: auto;}#sk-container-id-2 input.sk-toggleable__control:checked~label.sk-toggleable__label-arrow:before {content: \"▾\";}#sk-container-id-2 div.sk-estimator input.sk-toggleable__control:checked~label.sk-toggleable__label {background-color: #d4ebff;}#sk-container-id-2 div.sk-label input.sk-toggleable__control:checked~label.sk-toggleable__label {background-color: #d4ebff;}#sk-container-id-2 input.sk-hidden--visually {border: 0;clip: rect(1px 1px 1px 1px);clip: rect(1px, 1px, 1px, 1px);height: 1px;margin: -1px;overflow: hidden;padding: 0;position: absolute;width: 1px;}#sk-container-id-2 div.sk-estimator {font-family: monospace;background-color: #f0f8ff;border: 1px dotted black;border-radius: 0.25em;box-sizing: border-box;margin-bottom: 0.5em;}#sk-container-id-2 div.sk-estimator:hover {background-color: #d4ebff;}#sk-container-id-2 div.sk-parallel-item::after {content: \"\";width: 100%;border-bottom: 1px solid gray;flex-grow: 1;}#sk-container-id-2 div.sk-label:hover label.sk-toggleable__label {background-color: #d4ebff;}#sk-container-id-2 div.sk-serial::before {content: \"\";position: absolute;border-left: 1px solid gray;box-sizing: border-box;top: 0;bottom: 0;left: 50%;z-index: 0;}#sk-container-id-2 div.sk-serial {display: flex;flex-direction: column;align-items: center;background-color: white;padding-right: 0.2em;padding-left: 0.2em;position: relative;}#sk-container-id-2 div.sk-item {position: relative;z-index: 1;}#sk-container-id-2 div.sk-parallel {display: flex;align-items: stretch;justify-content: center;background-color: white;position: relative;}#sk-container-id-2 div.sk-item::before, #sk-container-id-2 div.sk-parallel-item::before {content: \"\";position: absolute;border-left: 1px solid gray;box-sizing: border-box;top: 0;bottom: 0;left: 50%;z-index: -1;}#sk-container-id-2 div.sk-parallel-item {display: flex;flex-direction: column;z-index: 1;position: relative;background-color: white;}#sk-container-id-2 div.sk-parallel-item:first-child::after {align-self: flex-end;width: 50%;}#sk-container-id-2 div.sk-parallel-item:last-child::after {align-self: flex-start;width: 50%;}#sk-container-id-2 div.sk-parallel-item:only-child::after {width: 0;}#sk-container-id-2 div.sk-dashed-wrapped {border: 1px dashed gray;margin: 0 0.4em 0.5em 0.4em;box-sizing: border-box;padding-bottom: 0.4em;background-color: white;}#sk-container-id-2 div.sk-label label {font-family: monospace;font-weight: bold;display: inline-block;line-height: 1.2em;}#sk-container-id-2 div.sk-label-container {text-align: center;}#sk-container-id-2 div.sk-container {/* jupyter's `normalize.less` sets `[hidden] { display: none; }` but bootstrap.min.css set `[hidden] { display: none !important; }` so we also need the `!important` here to be able to override the default hidden behavior on the sphinx rendered scikit-learn.org. See: https://github.com/scikit-learn/scikit-learn/issues/21755 */display: inline-block !important;position: relative;}#sk-container-id-2 div.sk-text-repr-fallback {display: none;}</style><div id=\"sk-container-id-2\" class=\"sk-top-container\"><div class=\"sk-text-repr-fallback\"><pre>RandomizedSearchCV(cv=5, estimator=RandomForestClassifier(random_state=0),\n",
              "                   n_iter=100, n_jobs=-1,\n",
              "                   param_distributions={&#x27;bootstrap&#x27;: [True, False],\n",
              "                                        &#x27;max_depth&#x27;: [1, 10, 20, None],\n",
              "                                        &#x27;max_features&#x27;: [&#x27;log2&#x27;, &#x27;sqrt&#x27;],\n",
              "                                        &#x27;min_samples_leaf&#x27;: [1, 2, 4],\n",
              "                                        &#x27;min_samples_split&#x27;: [2, 5, 10],\n",
              "                                        &#x27;n_estimators&#x27;: [40, 80, 120, 160, 200,\n",
              "                                                         240, 280, 320, 360,\n",
              "                                                         400]},\n",
              "                   random_state=0, refit=&#x27;Recall_Class1&#x27;,\n",
              "                   return_train_score=True,\n",
              "                   scoring={&#x27;Recall_Class1&#x27;: make_scorer(recall_score, pos_label=1)},\n",
              "                   verbose=2)</pre><b>In a Jupyter environment, please rerun this cell to show the HTML representation or trust the notebook. <br />On GitHub, the HTML representation is unable to render, please try loading this page with nbviewer.org.</b></div><div class=\"sk-container\" hidden><div class=\"sk-item sk-dashed-wrapped\"><div class=\"sk-label-container\"><div class=\"sk-label sk-toggleable\"><input class=\"sk-toggleable__control sk-hidden--visually\" id=\"sk-estimator-id-4\" type=\"checkbox\" ><label for=\"sk-estimator-id-4\" class=\"sk-toggleable__label sk-toggleable__label-arrow\">RandomizedSearchCV</label><div class=\"sk-toggleable__content\"><pre>RandomizedSearchCV(cv=5, estimator=RandomForestClassifier(random_state=0),\n",
              "                   n_iter=100, n_jobs=-1,\n",
              "                   param_distributions={&#x27;bootstrap&#x27;: [True, False],\n",
              "                                        &#x27;max_depth&#x27;: [1, 10, 20, None],\n",
              "                                        &#x27;max_features&#x27;: [&#x27;log2&#x27;, &#x27;sqrt&#x27;],\n",
              "                                        &#x27;min_samples_leaf&#x27;: [1, 2, 4],\n",
              "                                        &#x27;min_samples_split&#x27;: [2, 5, 10],\n",
              "                                        &#x27;n_estimators&#x27;: [40, 80, 120, 160, 200,\n",
              "                                                         240, 280, 320, 360,\n",
              "                                                         400]},\n",
              "                   random_state=0, refit=&#x27;Recall_Class1&#x27;,\n",
              "                   return_train_score=True,\n",
              "                   scoring={&#x27;Recall_Class1&#x27;: make_scorer(recall_score, pos_label=1)},\n",
              "                   verbose=2)</pre></div></div></div><div class=\"sk-parallel\"><div class=\"sk-parallel-item\"><div class=\"sk-item\"><div class=\"sk-label-container\"><div class=\"sk-label sk-toggleable\"><input class=\"sk-toggleable__control sk-hidden--visually\" id=\"sk-estimator-id-5\" type=\"checkbox\" ><label for=\"sk-estimator-id-5\" class=\"sk-toggleable__label sk-toggleable__label-arrow\">estimator: RandomForestClassifier</label><div class=\"sk-toggleable__content\"><pre>RandomForestClassifier(random_state=0)</pre></div></div></div><div class=\"sk-serial\"><div class=\"sk-item\"><div class=\"sk-estimator sk-toggleable\"><input class=\"sk-toggleable__control sk-hidden--visually\" id=\"sk-estimator-id-6\" type=\"checkbox\" ><label for=\"sk-estimator-id-6\" class=\"sk-toggleable__label sk-toggleable__label-arrow\">RandomForestClassifier</label><div class=\"sk-toggleable__content\"><pre>RandomForestClassifier(random_state=0)</pre></div></div></div></div></div></div></div></div></div></div>"
            ]
          },
          "metadata": {},
          "execution_count": 55
        }
      ],
      "source": [
        "\n",
        "from sklearn.metrics import make_scorer, recall_score\n",
        "\n",
        "# Create a custom scoring function for recall of class 1\n",
        "scoring = {'Recall_Class1': make_scorer(recall_score, pos_label=1)}\n",
        "\n",
        "# Random search of parameters, using 5 fold cross validation,\n",
        "# search across 100 different combinations, and use all available cores\n",
        "rf_random = RandomizedSearchCV(estimator=modelo, param_distributions=random_grid,\n",
        "                              n_iter = 100, scoring=scoring,refit='Recall_Class1',\n",
        "                              cv = 5, verbose=2, random_state=0, n_jobs=-1,\n",
        "                              return_train_score=True)\n",
        "\n",
        "# Fit the random search model\n",
        "rf_random.fit(X_treino, y_treino)"
      ]
    },
    {
      "cell_type": "markdown",
      "metadata": {
        "id": "wjga0YzUkjGO"
      },
      "source": [
        "**Avaliação do modelo base**\n",
        "\n",
        "A avaliação do modelo é feita a partir do recall da classe verdadeira (tem diabetes)"
      ]
    },
    {
      "cell_type": "code",
      "execution_count": null,
      "metadata": {
        "id": "bRxBgYXvkpRm"
      },
      "outputs": [],
      "source": [
        "def evaluate(model, test_features, test_labels):\n",
        "    previsoes = model.predict(test_features)\n",
        "    cr = classification_report(test_labels, previsoes, output_dict=True)['1']['recall']\n",
        "    return cr"
      ]
    },
    {
      "cell_type": "code",
      "execution_count": null,
      "metadata": {
        "colab": {
          "base_uri": "https://localhost:8080/"
        },
        "id": "Wu7aGKIoClS_",
        "outputId": "49952616-05e3-4be6-a822-8469aca43f36"
      },
      "outputs": [
        {
          "output_type": "execute_result",
          "data": {
            "text/plain": [
              "0.7869034406215316"
            ]
          },
          "metadata": {},
          "execution_count": 57
        }
      ],
      "source": [
        "base_model = RandomForestClassifier(random_state = 0)\n",
        "base_model.fit(X_treino, y_treino)\n",
        "base_recall = evaluate(base_model, X_teste, y_teste)\n",
        "base_recall"
      ]
    },
    {
      "cell_type": "markdown",
      "metadata": {
        "id": "zaWTqyQeJVXY"
      },
      "source": [
        "**avaliação do melhor modelo**"
      ]
    },
    {
      "cell_type": "code",
      "execution_count": null,
      "metadata": {
        "colab": {
          "base_uri": "https://localhost:8080/"
        },
        "id": "lIoza3s3JaAr",
        "outputId": "da22dea0-16c7-4e93-8b54-c5a4106a7d76"
      },
      "outputs": [
        {
          "output_type": "execute_result",
          "data": {
            "text/plain": [
              "0.7902330743618202"
            ]
          },
          "metadata": {},
          "execution_count": 58
        }
      ],
      "source": [
        "best_random = rf_random.best_estimator_\n",
        "random_recall = evaluate(best_random, X_teste, y_teste)\n",
        "random_recall"
      ]
    },
    {
      "cell_type": "code",
      "execution_count": null,
      "metadata": {
        "colab": {
          "base_uri": "https://localhost:8080/"
        },
        "id": "jq_Sam5pKS5T",
        "outputId": "ecc7844d-3ecf-4b74-e1e4-e53c512b3eac"
      },
      "outputs": [
        {
          "output_type": "stream",
          "name": "stdout",
          "text": [
            "Improvement of 0.42%.\n"
          ]
        }
      ],
      "source": [
        "print('Improvement of {:0.2f}%.'.format( 100 * (random_recall - base_recall) / base_recall))"
      ]
    },
    {
      "cell_type": "code",
      "execution_count": null,
      "metadata": {
        "colab": {
          "base_uri": "https://localhost:8080/"
        },
        "id": "9QgK_vtpMgYv",
        "outputId": "dcbd4319-b286-4b1f-a68e-80206f8bbb80"
      },
      "outputs": [
        {
          "output_type": "execute_result",
          "data": {
            "text/plain": [
              "{'n_estimators': 400,\n",
              " 'min_samples_split': 10,\n",
              " 'min_samples_leaf': 1,\n",
              " 'max_features': 'sqrt',\n",
              " 'max_depth': 20,\n",
              " 'bootstrap': True}"
            ]
          },
          "metadata": {},
          "execution_count": 60
        }
      ],
      "source": [
        "rf_random.best_params_"
      ]
    },
    {
      "cell_type": "code",
      "execution_count": null,
      "metadata": {
        "colab": {
          "base_uri": "https://localhost:8080/"
        },
        "id": "EXzQS1S5Glx7",
        "outputId": "71761172-6f75-402d-d072-b4745730d26c"
      },
      "outputs": [
        {
          "output_type": "execute_result",
          "data": {
            "text/plain": [
              "{'mean_fit_time': array([1.42092104, 2.40872097, 4.07161951, 1.69082551, 0.35537739,\n",
              "        2.66045961, 4.93203568, 3.40545125, 4.13605814, 4.86502256,\n",
              "        5.17103109, 1.61038837, 0.51621094, 3.62801394, 0.56761117,\n",
              "        3.79745078, 3.15368185, 2.19826188, 2.47385607, 5.51624675,\n",
              "        1.08194294, 2.14122396, 1.08071132, 1.06363382, 5.69269676,\n",
              "        0.55381236, 0.76934533, 1.76270037, 2.6333292 , 1.42588072,\n",
              "        0.34533219, 1.07691879, 3.41352296, 4.04760742, 4.28455343,\n",
              "        1.66580119, 4.45827274, 1.76748791, 1.37853913, 4.09993787,\n",
              "        0.86027517, 0.5146379 , 4.59117875, 1.13858676, 4.60861654,\n",
              "        3.63439937, 1.92487535, 3.37886105, 0.68546953, 0.83530984,\n",
              "        1.16930075, 4.51348767, 0.29879065, 2.29940109, 0.3587543 ,\n",
              "        2.99033909, 4.76246552, 2.21906462, 5.6668736 , 2.36212854,\n",
              "        0.56131115, 1.76192107, 2.11684484, 0.15597372, 1.0298666 ,\n",
              "        4.53954759, 0.70007892, 4.2153677 , 4.29895549, 1.98612289,\n",
              "        1.29365392, 1.64236331, 2.60577989, 1.53776293, 3.85911236,\n",
              "        1.2928606 , 3.86336226, 2.98322449, 3.07812791, 3.92511039,\n",
              "        3.10459909, 0.83893132, 2.59197469, 0.59119911, 1.25453863,\n",
              "        2.65258889, 0.46665335, 0.18206639, 0.57801909, 1.33330336,\n",
              "        0.28559885, 3.25494485, 4.79405804, 1.59144969, 5.278126  ,\n",
              "        5.04116149, 0.37852359, 4.4580122 , 5.7339808 , 2.85604706]),\n",
              " 'std_fit_time': array([0.15153383, 0.51699528, 0.57065523, 0.5234594 , 0.00963478,\n",
              "        0.65067209, 0.78608071, 0.32757105, 0.60604545, 0.58791112,\n",
              "        0.7338429 , 0.46639111, 0.00921359, 0.75988955, 0.00731039,\n",
              "        0.74892313, 0.32289827, 0.21442272, 0.53354744, 1.15044951,\n",
              "        0.0153775 , 0.70215961, 0.30397718, 0.01214206, 0.28338362,\n",
              "        0.006398  , 0.22420374, 0.02124415, 0.72624206, 0.01056076,\n",
              "        0.00317167, 0.00481031, 0.65567522, 0.54865288, 0.74175041,\n",
              "        0.01446573, 0.76696426, 0.52622781, 0.01434045, 0.77443261,\n",
              "        0.00949647, 0.01067472, 0.51742627, 0.39741813, 0.6616842 ,\n",
              "        0.6072941 , 0.31212329, 0.56764949, 0.21269348, 0.00457112,\n",
              "        0.0100525 , 0.36413431, 0.00966793, 0.48741947, 0.00564817,\n",
              "        0.59969567, 0.7492428 , 0.33352243, 0.45630771, 0.29383986,\n",
              "        0.0048906 , 0.26766579, 0.32271629, 0.00875038, 0.01300085,\n",
              "        0.89134458, 0.01655869, 0.72783709, 0.76956439, 0.50306217,\n",
              "        0.45007652, 0.01566635, 0.54965646, 0.01269441, 0.50180627,\n",
              "        0.02209695, 0.76113224, 0.51274093, 0.60261431, 0.63708117,\n",
              "        0.67282279, 0.01261928, 0.31896569, 0.01685516, 0.01250282,\n",
              "        0.55541151, 0.07514157, 0.008477  , 0.00821611, 0.1866281 ,\n",
              "        0.0205716 , 0.31771365, 0.57256012, 0.29833484, 0.54146618,\n",
              "        0.18091265, 0.00632013, 0.25713206, 0.67884511, 0.57244274]),\n",
              " 'mean_score_time': array([0.089783  , 0.13880076, 0.15162735, 0.07878208, 0.02553287,\n",
              "        0.12031355, 0.2253109 , 0.18694987, 0.2093349 , 0.21338282,\n",
              "        0.22078328, 0.08635945, 0.03521895, 0.14705353, 0.02932043,\n",
              "        0.17154026, 0.19906702, 0.08868771, 0.12399259, 0.26258063,\n",
              "        0.05495195, 0.09090567, 0.05532508, 0.04744706, 0.3164804 ,\n",
              "        0.0466538 , 0.05532079, 0.0966177 , 0.10535345, 0.07189698,\n",
              "        0.02557497, 0.05520029, 0.14452677, 0.2013473 , 0.15500813,\n",
              "        0.08813224, 0.1650352 , 0.13291359, 0.08808942, 0.17342238,\n",
              "        0.05530596, 0.03629451, 0.2733037 , 0.07530122, 0.17171721,\n",
              "        0.14344778, 0.09722476, 0.13367224, 0.05427322, 0.03840718,\n",
              "        0.05395975, 0.28108726, 0.02583976, 0.12432466, 0.02858944,\n",
              "        0.13331361, 0.22922583, 0.08825192, 0.28821836, 0.13123393,\n",
              "        0.02888107, 0.08540139, 0.10707951, 0.01678982, 0.06577587,\n",
              "        0.2494009 , 0.05351667, 0.22264371, 0.15522957, 0.11610465,\n",
              "        0.05988283, 0.06919847, 0.11890507, 0.06801977, 0.21229863,\n",
              "        0.09543128, 0.13745022, 0.17212486, 0.11720428, 0.16155376,\n",
              "        0.13483577, 0.0392715 , 0.1463479 , 0.03052344, 0.06515384,\n",
              "        0.10768232, 0.03623438, 0.01628904, 0.02799501, 0.06619544,\n",
              "        0.03037972, 0.12864985, 0.24746103, 0.0827898 , 0.28628879,\n",
              "        0.28173866, 0.02319026, 0.23261776, 0.23655839, 0.11676283]),\n",
              " 'std_score_time': array([0.02521674, 0.04453021, 0.00203291, 0.01704323, 0.00082324,\n",
              "        0.00714355, 0.03773684, 0.05996922, 0.06786376, 0.06942758,\n",
              "        0.00636639, 0.0285367 , 0.00070239, 0.00304985, 0.00090783,\n",
              "        0.02469859, 0.06901924, 0.0042775 , 0.04338931, 0.09544543,\n",
              "        0.00143541, 0.00321336, 0.01627931, 0.0008478 , 0.08831044,\n",
              "        0.00799375, 0.01568478, 0.00939621, 0.03240467, 0.00157414,\n",
              "        0.00042247, 0.00073189, 0.04599764, 0.06319553, 0.00591798,\n",
              "        0.00772426, 0.00919659, 0.04707133, 0.00553792, 0.00874277,\n",
              "        0.00161329, 0.00088356, 0.0655191 , 0.0264449 , 0.00986089,\n",
              "        0.00634916, 0.03315676, 0.00639779, 0.01757184, 0.00131063,\n",
              "        0.00346474, 0.09211838, 0.00073214, 0.03827146, 0.00514218,\n",
              "        0.00289199, 0.055945  , 0.00087014, 0.07876673, 0.04969692,\n",
              "        0.00184199, 0.03248359, 0.03602074, 0.00124354, 0.00054357,\n",
              "        0.08985814, 0.00093094, 0.05264512, 0.00830426, 0.02113007,\n",
              "        0.00806864, 0.00154923, 0.03699448, 0.00346557, 0.07190457,\n",
              "        0.00501681, 0.00434007, 0.06208689, 0.0020732 , 0.0220183 ,\n",
              "        0.01128441, 0.00182034, 0.05381677, 0.00276772, 0.00182436,\n",
              "        0.02874161, 0.00074724, 0.00067003, 0.00011691, 0.01872018,\n",
              "        0.00944845, 0.00119395, 0.0794238 , 0.02344725, 0.10191996,\n",
              "        0.09546221, 0.00082345, 0.07580116, 0.03766533, 0.04496728]),\n",
              " 'param_n_estimators': masked_array(data=[200, 80, 280, 160, 80, 200, 360, 360, 320, 320, 400,\n",
              "                    120, 120, 280, 40, 360, 280, 200, 200, 320, 120, 200,\n",
              "                    80, 80, 400, 160, 120, 200, 200, 160, 80, 120, 280,\n",
              "                    400, 360, 160, 280, 360, 320, 320, 200, 120, 400, 200,\n",
              "                    400, 240, 160, 240, 120, 80, 80, 400, 80, 200, 80, 240,\n",
              "                    400, 200, 400, 240, 40, 120, 160, 40, 240, 320, 200,\n",
              "                    320, 360, 400, 120, 160, 160, 120, 320, 360, 320, 240,\n",
              "                    200, 280, 240, 80, 240, 40, 120, 160, 120, 40, 40, 120,\n",
              "                    40, 200, 400, 120, 360, 360, 40, 400, 400, 240],\n",
              "              mask=[False, False, False, False, False, False, False, False,\n",
              "                    False, False, False, False, False, False, False, False,\n",
              "                    False, False, False, False, False, False, False, False,\n",
              "                    False, False, False, False, False, False, False, False,\n",
              "                    False, False, False, False, False, False, False, False,\n",
              "                    False, False, False, False, False, False, False, False,\n",
              "                    False, False, False, False, False, False, False, False,\n",
              "                    False, False, False, False, False, False, False, False,\n",
              "                    False, False, False, False, False, False, False, False,\n",
              "                    False, False, False, False, False, False, False, False,\n",
              "                    False, False, False, False, False, False, False, False,\n",
              "                    False, False, False, False, False, False, False, False,\n",
              "                    False, False, False, False],\n",
              "        fill_value='?',\n",
              "             dtype=object),\n",
              " 'param_min_samples_split': masked_array(data=[2, 5, 10, 2, 10, 2, 2, 2, 5, 5, 5, 5, 2, 10, 2, 10, 10,\n",
              "                    10, 10, 2, 2, 5, 10, 5, 10, 5, 10, 5, 2, 5, 2, 10, 2,\n",
              "                    10, 2, 10, 2, 10, 5, 10, 2, 10, 2, 10, 5, 5, 5, 5, 10,\n",
              "                    5, 2, 5, 2, 10, 5, 2, 10, 10, 10, 5, 10, 10, 2, 2, 10,\n",
              "                    2, 5, 5, 2, 2, 10, 5, 2, 10, 10, 10, 10, 2, 2, 5, 10,\n",
              "                    2, 10, 5, 10, 2, 5, 10, 5, 2, 5, 2, 10, 5, 10, 10, 2,\n",
              "                    2, 5, 10],\n",
              "              mask=[False, False, False, False, False, False, False, False,\n",
              "                    False, False, False, False, False, False, False, False,\n",
              "                    False, False, False, False, False, False, False, False,\n",
              "                    False, False, False, False, False, False, False, False,\n",
              "                    False, False, False, False, False, False, False, False,\n",
              "                    False, False, False, False, False, False, False, False,\n",
              "                    False, False, False, False, False, False, False, False,\n",
              "                    False, False, False, False, False, False, False, False,\n",
              "                    False, False, False, False, False, False, False, False,\n",
              "                    False, False, False, False, False, False, False, False,\n",
              "                    False, False, False, False, False, False, False, False,\n",
              "                    False, False, False, False, False, False, False, False,\n",
              "                    False, False, False, False],\n",
              "        fill_value='?',\n",
              "             dtype=object),\n",
              " 'param_min_samples_leaf': masked_array(data=[2, 4, 4, 4, 2, 1, 1, 1, 1, 2, 2, 1, 4, 2, 2, 4, 4, 4,\n",
              "                    1, 2, 1, 4, 1, 4, 2, 2, 2, 2, 4, 2, 2, 1, 2, 1, 4, 4,\n",
              "                    2, 1, 1, 1, 1, 2, 1, 2, 2, 1, 4, 4, 1, 4, 1, 4, 2, 1,\n",
              "                    4, 2, 4, 2, 4, 2, 1, 1, 2, 4, 4, 2, 1, 1, 1, 4, 2, 2,\n",
              "                    4, 4, 2, 1, 4, 4, 2, 4, 1, 2, 1, 1, 4, 1, 2, 4, 1, 1,\n",
              "                    4, 1, 1, 4, 1, 2, 1, 4, 4, 2],\n",
              "              mask=[False, False, False, False, False, False, False, False,\n",
              "                    False, False, False, False, False, False, False, False,\n",
              "                    False, False, False, False, False, False, False, False,\n",
              "                    False, False, False, False, False, False, False, False,\n",
              "                    False, False, False, False, False, False, False, False,\n",
              "                    False, False, False, False, False, False, False, False,\n",
              "                    False, False, False, False, False, False, False, False,\n",
              "                    False, False, False, False, False, False, False, False,\n",
              "                    False, False, False, False, False, False, False, False,\n",
              "                    False, False, False, False, False, False, False, False,\n",
              "                    False, False, False, False, False, False, False, False,\n",
              "                    False, False, False, False, False, False, False, False,\n",
              "                    False, False, False, False],\n",
              "        fill_value='?',\n",
              "             dtype=object),\n",
              " 'param_max_features': masked_array(data=['log2', 'sqrt', 'sqrt', 'sqrt', 'sqrt', 'log2', 'log2',\n",
              "                    'sqrt', 'sqrt', 'log2', 'sqrt', 'sqrt', 'sqrt', 'sqrt',\n",
              "                    'sqrt', 'log2', 'sqrt', 'log2', 'sqrt', 'log2', 'log2',\n",
              "                    'log2', 'sqrt', 'sqrt', 'sqrt', 'sqrt', 'sqrt', 'log2',\n",
              "                    'sqrt', 'log2', 'log2', 'log2', 'sqrt', 'sqrt', 'sqrt',\n",
              "                    'sqrt', 'log2', 'sqrt', 'sqrt', 'sqrt', 'log2', 'log2',\n",
              "                    'sqrt', 'log2', 'sqrt', 'log2', 'log2', 'log2', 'log2',\n",
              "                    'log2', 'log2', 'sqrt', 'sqrt', 'log2', 'sqrt', 'sqrt',\n",
              "                    'sqrt', 'sqrt', 'log2', 'sqrt', 'log2', 'log2', 'log2',\n",
              "                    'sqrt', 'sqrt', 'sqrt', 'sqrt', 'log2', 'sqrt', 'sqrt',\n",
              "                    'sqrt', 'log2', 'sqrt', 'log2', 'log2', 'log2', 'log2',\n",
              "                    'log2', 'sqrt', 'log2', 'log2', 'sqrt', 'sqrt', 'log2',\n",
              "                    'log2', 'sqrt', 'log2', 'log2', 'sqrt', 'log2', 'log2',\n",
              "                    'log2', 'sqrt', 'sqrt', 'log2', 'log2', 'sqrt', 'log2',\n",
              "                    'log2', 'log2'],\n",
              "              mask=[False, False, False, False, False, False, False, False,\n",
              "                    False, False, False, False, False, False, False, False,\n",
              "                    False, False, False, False, False, False, False, False,\n",
              "                    False, False, False, False, False, False, False, False,\n",
              "                    False, False, False, False, False, False, False, False,\n",
              "                    False, False, False, False, False, False, False, False,\n",
              "                    False, False, False, False, False, False, False, False,\n",
              "                    False, False, False, False, False, False, False, False,\n",
              "                    False, False, False, False, False, False, False, False,\n",
              "                    False, False, False, False, False, False, False, False,\n",
              "                    False, False, False, False, False, False, False, False,\n",
              "                    False, False, False, False, False, False, False, False,\n",
              "                    False, False, False, False],\n",
              "        fill_value='?',\n",
              "             dtype=object),\n",
              " 'param_max_depth': masked_array(data=[1, 10, 20, 10, 1, 20, None, 10, 20, 20, None, None, 1,\n",
              "                    None, None, 10, None, 10, 10, None, 10, 10, None, None,\n",
              "                    None, 1, 1, 10, 10, 10, 1, 10, 10, 10, 10, None, 20, 1,\n",
              "                    1, 20, 1, 1, 10, 1, 10, 20, 10, None, 1, 10, 20, 20, 1,\n",
              "                    10, 1, None, 20, 10, 20, 10, None, None, 20, 1, 1,\n",
              "                    None, 1, None, 10, 1, 10, 10, 20, None, None, 1, 10,\n",
              "                    20, None, 20, None, 10, 10, None, 20, 10, 1, 1, 20, 10,\n",
              "                    1, None, 20, 10, None, None, 10, 10, None, 10],\n",
              "              mask=[False, False, False, False, False, False, False, False,\n",
              "                    False, False, False, False, False, False, False, False,\n",
              "                    False, False, False, False, False, False, False, False,\n",
              "                    False, False, False, False, False, False, False, False,\n",
              "                    False, False, False, False, False, False, False, False,\n",
              "                    False, False, False, False, False, False, False, False,\n",
              "                    False, False, False, False, False, False, False, False,\n",
              "                    False, False, False, False, False, False, False, False,\n",
              "                    False, False, False, False, False, False, False, False,\n",
              "                    False, False, False, False, False, False, False, False,\n",
              "                    False, False, False, False, False, False, False, False,\n",
              "                    False, False, False, False, False, False, False, False,\n",
              "                    False, False, False, False],\n",
              "        fill_value='?',\n",
              "             dtype=object),\n",
              " 'param_bootstrap': masked_array(data=[True, False, False, True, True, True, True, True, True,\n",
              "                    False, True, True, True, True, False, True, True,\n",
              "                    False, False, False, True, True, True, False, False,\n",
              "                    False, True, True, False, True, True, True, False,\n",
              "                    True, False, True, False, False, True, True, True,\n",
              "                    True, True, True, False, False, True, False, False,\n",
              "                    False, False, True, False, True, True, True, True,\n",
              "                    False, False, True, False, False, True, False, True,\n",
              "                    True, False, True, False, True, True, False, False,\n",
              "                    False, True, False, False, True, False, False, True,\n",
              "                    False, True, False, True, False, False, True, False,\n",
              "                    False, False, False, True, True, False, False, True,\n",
              "                    False, False, False],\n",
              "              mask=[False, False, False, False, False, False, False, False,\n",
              "                    False, False, False, False, False, False, False, False,\n",
              "                    False, False, False, False, False, False, False, False,\n",
              "                    False, False, False, False, False, False, False, False,\n",
              "                    False, False, False, False, False, False, False, False,\n",
              "                    False, False, False, False, False, False, False, False,\n",
              "                    False, False, False, False, False, False, False, False,\n",
              "                    False, False, False, False, False, False, False, False,\n",
              "                    False, False, False, False, False, False, False, False,\n",
              "                    False, False, False, False, False, False, False, False,\n",
              "                    False, False, False, False, False, False, False, False,\n",
              "                    False, False, False, False, False, False, False, False,\n",
              "                    False, False, False, False],\n",
              "        fill_value='?',\n",
              "             dtype=object),\n",
              " 'params': [{'n_estimators': 200,\n",
              "   'min_samples_split': 2,\n",
              "   'min_samples_leaf': 2,\n",
              "   'max_features': 'log2',\n",
              "   'max_depth': 1,\n",
              "   'bootstrap': True},\n",
              "  {'n_estimators': 80,\n",
              "   'min_samples_split': 5,\n",
              "   'min_samples_leaf': 4,\n",
              "   'max_features': 'sqrt',\n",
              "   'max_depth': 10,\n",
              "   'bootstrap': False},\n",
              "  {'n_estimators': 280,\n",
              "   'min_samples_split': 10,\n",
              "   'min_samples_leaf': 4,\n",
              "   'max_features': 'sqrt',\n",
              "   'max_depth': 20,\n",
              "   'bootstrap': False},\n",
              "  {'n_estimators': 160,\n",
              "   'min_samples_split': 2,\n",
              "   'min_samples_leaf': 4,\n",
              "   'max_features': 'sqrt',\n",
              "   'max_depth': 10,\n",
              "   'bootstrap': True},\n",
              "  {'n_estimators': 80,\n",
              "   'min_samples_split': 10,\n",
              "   'min_samples_leaf': 2,\n",
              "   'max_features': 'sqrt',\n",
              "   'max_depth': 1,\n",
              "   'bootstrap': True},\n",
              "  {'n_estimators': 200,\n",
              "   'min_samples_split': 2,\n",
              "   'min_samples_leaf': 1,\n",
              "   'max_features': 'log2',\n",
              "   'max_depth': 20,\n",
              "   'bootstrap': True},\n",
              "  {'n_estimators': 360,\n",
              "   'min_samples_split': 2,\n",
              "   'min_samples_leaf': 1,\n",
              "   'max_features': 'log2',\n",
              "   'max_depth': None,\n",
              "   'bootstrap': True},\n",
              "  {'n_estimators': 360,\n",
              "   'min_samples_split': 2,\n",
              "   'min_samples_leaf': 1,\n",
              "   'max_features': 'sqrt',\n",
              "   'max_depth': 10,\n",
              "   'bootstrap': True},\n",
              "  {'n_estimators': 320,\n",
              "   'min_samples_split': 5,\n",
              "   'min_samples_leaf': 1,\n",
              "   'max_features': 'sqrt',\n",
              "   'max_depth': 20,\n",
              "   'bootstrap': True},\n",
              "  {'n_estimators': 320,\n",
              "   'min_samples_split': 5,\n",
              "   'min_samples_leaf': 2,\n",
              "   'max_features': 'log2',\n",
              "   'max_depth': 20,\n",
              "   'bootstrap': False},\n",
              "  {'n_estimators': 400,\n",
              "   'min_samples_split': 5,\n",
              "   'min_samples_leaf': 2,\n",
              "   'max_features': 'sqrt',\n",
              "   'max_depth': None,\n",
              "   'bootstrap': True},\n",
              "  {'n_estimators': 120,\n",
              "   'min_samples_split': 5,\n",
              "   'min_samples_leaf': 1,\n",
              "   'max_features': 'sqrt',\n",
              "   'max_depth': None,\n",
              "   'bootstrap': True},\n",
              "  {'n_estimators': 120,\n",
              "   'min_samples_split': 2,\n",
              "   'min_samples_leaf': 4,\n",
              "   'max_features': 'sqrt',\n",
              "   'max_depth': 1,\n",
              "   'bootstrap': True},\n",
              "  {'n_estimators': 280,\n",
              "   'min_samples_split': 10,\n",
              "   'min_samples_leaf': 2,\n",
              "   'max_features': 'sqrt',\n",
              "   'max_depth': None,\n",
              "   'bootstrap': True},\n",
              "  {'n_estimators': 40,\n",
              "   'min_samples_split': 2,\n",
              "   'min_samples_leaf': 2,\n",
              "   'max_features': 'sqrt',\n",
              "   'max_depth': None,\n",
              "   'bootstrap': False},\n",
              "  {'n_estimators': 360,\n",
              "   'min_samples_split': 10,\n",
              "   'min_samples_leaf': 4,\n",
              "   'max_features': 'log2',\n",
              "   'max_depth': 10,\n",
              "   'bootstrap': True},\n",
              "  {'n_estimators': 280,\n",
              "   'min_samples_split': 10,\n",
              "   'min_samples_leaf': 4,\n",
              "   'max_features': 'sqrt',\n",
              "   'max_depth': None,\n",
              "   'bootstrap': True},\n",
              "  {'n_estimators': 200,\n",
              "   'min_samples_split': 10,\n",
              "   'min_samples_leaf': 4,\n",
              "   'max_features': 'log2',\n",
              "   'max_depth': 10,\n",
              "   'bootstrap': False},\n",
              "  {'n_estimators': 200,\n",
              "   'min_samples_split': 10,\n",
              "   'min_samples_leaf': 1,\n",
              "   'max_features': 'sqrt',\n",
              "   'max_depth': 10,\n",
              "   'bootstrap': False},\n",
              "  {'n_estimators': 320,\n",
              "   'min_samples_split': 2,\n",
              "   'min_samples_leaf': 2,\n",
              "   'max_features': 'log2',\n",
              "   'max_depth': None,\n",
              "   'bootstrap': False},\n",
              "  {'n_estimators': 120,\n",
              "   'min_samples_split': 2,\n",
              "   'min_samples_leaf': 1,\n",
              "   'max_features': 'log2',\n",
              "   'max_depth': 10,\n",
              "   'bootstrap': True},\n",
              "  {'n_estimators': 200,\n",
              "   'min_samples_split': 5,\n",
              "   'min_samples_leaf': 4,\n",
              "   'max_features': 'log2',\n",
              "   'max_depth': 10,\n",
              "   'bootstrap': True},\n",
              "  {'n_estimators': 80,\n",
              "   'min_samples_split': 10,\n",
              "   'min_samples_leaf': 1,\n",
              "   'max_features': 'sqrt',\n",
              "   'max_depth': None,\n",
              "   'bootstrap': True},\n",
              "  {'n_estimators': 80,\n",
              "   'min_samples_split': 5,\n",
              "   'min_samples_leaf': 4,\n",
              "   'max_features': 'sqrt',\n",
              "   'max_depth': None,\n",
              "   'bootstrap': False},\n",
              "  {'n_estimators': 400,\n",
              "   'min_samples_split': 10,\n",
              "   'min_samples_leaf': 2,\n",
              "   'max_features': 'sqrt',\n",
              "   'max_depth': None,\n",
              "   'bootstrap': False},\n",
              "  {'n_estimators': 160,\n",
              "   'min_samples_split': 5,\n",
              "   'min_samples_leaf': 2,\n",
              "   'max_features': 'sqrt',\n",
              "   'max_depth': 1,\n",
              "   'bootstrap': False},\n",
              "  {'n_estimators': 120,\n",
              "   'min_samples_split': 10,\n",
              "   'min_samples_leaf': 2,\n",
              "   'max_features': 'sqrt',\n",
              "   'max_depth': 1,\n",
              "   'bootstrap': True},\n",
              "  {'n_estimators': 200,\n",
              "   'min_samples_split': 5,\n",
              "   'min_samples_leaf': 2,\n",
              "   'max_features': 'log2',\n",
              "   'max_depth': 10,\n",
              "   'bootstrap': True},\n",
              "  {'n_estimators': 200,\n",
              "   'min_samples_split': 2,\n",
              "   'min_samples_leaf': 4,\n",
              "   'max_features': 'sqrt',\n",
              "   'max_depth': 10,\n",
              "   'bootstrap': False},\n",
              "  {'n_estimators': 160,\n",
              "   'min_samples_split': 5,\n",
              "   'min_samples_leaf': 2,\n",
              "   'max_features': 'log2',\n",
              "   'max_depth': 10,\n",
              "   'bootstrap': True},\n",
              "  {'n_estimators': 80,\n",
              "   'min_samples_split': 2,\n",
              "   'min_samples_leaf': 2,\n",
              "   'max_features': 'log2',\n",
              "   'max_depth': 1,\n",
              "   'bootstrap': True},\n",
              "  {'n_estimators': 120,\n",
              "   'min_samples_split': 10,\n",
              "   'min_samples_leaf': 1,\n",
              "   'max_features': 'log2',\n",
              "   'max_depth': 10,\n",
              "   'bootstrap': True},\n",
              "  {'n_estimators': 280,\n",
              "   'min_samples_split': 2,\n",
              "   'min_samples_leaf': 2,\n",
              "   'max_features': 'sqrt',\n",
              "   'max_depth': 10,\n",
              "   'bootstrap': False},\n",
              "  {'n_estimators': 400,\n",
              "   'min_samples_split': 10,\n",
              "   'min_samples_leaf': 1,\n",
              "   'max_features': 'sqrt',\n",
              "   'max_depth': 10,\n",
              "   'bootstrap': True},\n",
              "  {'n_estimators': 360,\n",
              "   'min_samples_split': 2,\n",
              "   'min_samples_leaf': 4,\n",
              "   'max_features': 'sqrt',\n",
              "   'max_depth': 10,\n",
              "   'bootstrap': False},\n",
              "  {'n_estimators': 160,\n",
              "   'min_samples_split': 10,\n",
              "   'min_samples_leaf': 4,\n",
              "   'max_features': 'sqrt',\n",
              "   'max_depth': None,\n",
              "   'bootstrap': True},\n",
              "  {'n_estimators': 280,\n",
              "   'min_samples_split': 2,\n",
              "   'min_samples_leaf': 2,\n",
              "   'max_features': 'log2',\n",
              "   'max_depth': 20,\n",
              "   'bootstrap': False},\n",
              "  {'n_estimators': 360,\n",
              "   'min_samples_split': 10,\n",
              "   'min_samples_leaf': 1,\n",
              "   'max_features': 'sqrt',\n",
              "   'max_depth': 1,\n",
              "   'bootstrap': False},\n",
              "  {'n_estimators': 320,\n",
              "   'min_samples_split': 5,\n",
              "   'min_samples_leaf': 1,\n",
              "   'max_features': 'sqrt',\n",
              "   'max_depth': 1,\n",
              "   'bootstrap': True},\n",
              "  {'n_estimators': 320,\n",
              "   'min_samples_split': 10,\n",
              "   'min_samples_leaf': 1,\n",
              "   'max_features': 'sqrt',\n",
              "   'max_depth': 20,\n",
              "   'bootstrap': True},\n",
              "  {'n_estimators': 200,\n",
              "   'min_samples_split': 2,\n",
              "   'min_samples_leaf': 1,\n",
              "   'max_features': 'log2',\n",
              "   'max_depth': 1,\n",
              "   'bootstrap': True},\n",
              "  {'n_estimators': 120,\n",
              "   'min_samples_split': 10,\n",
              "   'min_samples_leaf': 2,\n",
              "   'max_features': 'log2',\n",
              "   'max_depth': 1,\n",
              "   'bootstrap': True},\n",
              "  {'n_estimators': 400,\n",
              "   'min_samples_split': 2,\n",
              "   'min_samples_leaf': 1,\n",
              "   'max_features': 'sqrt',\n",
              "   'max_depth': 10,\n",
              "   'bootstrap': True},\n",
              "  {'n_estimators': 200,\n",
              "   'min_samples_split': 10,\n",
              "   'min_samples_leaf': 2,\n",
              "   'max_features': 'log2',\n",
              "   'max_depth': 1,\n",
              "   'bootstrap': True},\n",
              "  {'n_estimators': 400,\n",
              "   'min_samples_split': 5,\n",
              "   'min_samples_leaf': 2,\n",
              "   'max_features': 'sqrt',\n",
              "   'max_depth': 10,\n",
              "   'bootstrap': False},\n",
              "  {'n_estimators': 240,\n",
              "   'min_samples_split': 5,\n",
              "   'min_samples_leaf': 1,\n",
              "   'max_features': 'log2',\n",
              "   'max_depth': 20,\n",
              "   'bootstrap': False},\n",
              "  {'n_estimators': 160,\n",
              "   'min_samples_split': 5,\n",
              "   'min_samples_leaf': 4,\n",
              "   'max_features': 'log2',\n",
              "   'max_depth': 10,\n",
              "   'bootstrap': True},\n",
              "  {'n_estimators': 240,\n",
              "   'min_samples_split': 5,\n",
              "   'min_samples_leaf': 4,\n",
              "   'max_features': 'log2',\n",
              "   'max_depth': None,\n",
              "   'bootstrap': False},\n",
              "  {'n_estimators': 120,\n",
              "   'min_samples_split': 10,\n",
              "   'min_samples_leaf': 1,\n",
              "   'max_features': 'log2',\n",
              "   'max_depth': 1,\n",
              "   'bootstrap': False},\n",
              "  {'n_estimators': 80,\n",
              "   'min_samples_split': 5,\n",
              "   'min_samples_leaf': 4,\n",
              "   'max_features': 'log2',\n",
              "   'max_depth': 10,\n",
              "   'bootstrap': False},\n",
              "  {'n_estimators': 80,\n",
              "   'min_samples_split': 2,\n",
              "   'min_samples_leaf': 1,\n",
              "   'max_features': 'log2',\n",
              "   'max_depth': 20,\n",
              "   'bootstrap': False},\n",
              "  {'n_estimators': 400,\n",
              "   'min_samples_split': 5,\n",
              "   'min_samples_leaf': 4,\n",
              "   'max_features': 'sqrt',\n",
              "   'max_depth': 20,\n",
              "   'bootstrap': True},\n",
              "  {'n_estimators': 80,\n",
              "   'min_samples_split': 2,\n",
              "   'min_samples_leaf': 2,\n",
              "   'max_features': 'sqrt',\n",
              "   'max_depth': 1,\n",
              "   'bootstrap': False},\n",
              "  {'n_estimators': 200,\n",
              "   'min_samples_split': 10,\n",
              "   'min_samples_leaf': 1,\n",
              "   'max_features': 'log2',\n",
              "   'max_depth': 10,\n",
              "   'bootstrap': True},\n",
              "  {'n_estimators': 80,\n",
              "   'min_samples_split': 5,\n",
              "   'min_samples_leaf': 4,\n",
              "   'max_features': 'sqrt',\n",
              "   'max_depth': 1,\n",
              "   'bootstrap': True},\n",
              "  {'n_estimators': 240,\n",
              "   'min_samples_split': 2,\n",
              "   'min_samples_leaf': 2,\n",
              "   'max_features': 'sqrt',\n",
              "   'max_depth': None,\n",
              "   'bootstrap': True},\n",
              "  {'n_estimators': 400,\n",
              "   'min_samples_split': 10,\n",
              "   'min_samples_leaf': 4,\n",
              "   'max_features': 'sqrt',\n",
              "   'max_depth': 20,\n",
              "   'bootstrap': True},\n",
              "  {'n_estimators': 200,\n",
              "   'min_samples_split': 10,\n",
              "   'min_samples_leaf': 2,\n",
              "   'max_features': 'sqrt',\n",
              "   'max_depth': 10,\n",
              "   'bootstrap': False},\n",
              "  {'n_estimators': 400,\n",
              "   'min_samples_split': 10,\n",
              "   'min_samples_leaf': 4,\n",
              "   'max_features': 'log2',\n",
              "   'max_depth': 20,\n",
              "   'bootstrap': False},\n",
              "  {'n_estimators': 240,\n",
              "   'min_samples_split': 5,\n",
              "   'min_samples_leaf': 2,\n",
              "   'max_features': 'sqrt',\n",
              "   'max_depth': 10,\n",
              "   'bootstrap': True},\n",
              "  {'n_estimators': 40,\n",
              "   'min_samples_split': 10,\n",
              "   'min_samples_leaf': 1,\n",
              "   'max_features': 'log2',\n",
              "   'max_depth': None,\n",
              "   'bootstrap': False},\n",
              "  {'n_estimators': 120,\n",
              "   'min_samples_split': 10,\n",
              "   'min_samples_leaf': 1,\n",
              "   'max_features': 'log2',\n",
              "   'max_depth': None,\n",
              "   'bootstrap': False},\n",
              "  {'n_estimators': 160,\n",
              "   'min_samples_split': 2,\n",
              "   'min_samples_leaf': 2,\n",
              "   'max_features': 'log2',\n",
              "   'max_depth': 20,\n",
              "   'bootstrap': True},\n",
              "  {'n_estimators': 40,\n",
              "   'min_samples_split': 2,\n",
              "   'min_samples_leaf': 4,\n",
              "   'max_features': 'sqrt',\n",
              "   'max_depth': 1,\n",
              "   'bootstrap': False},\n",
              "  {'n_estimators': 240,\n",
              "   'min_samples_split': 10,\n",
              "   'min_samples_leaf': 4,\n",
              "   'max_features': 'sqrt',\n",
              "   'max_depth': 1,\n",
              "   'bootstrap': True},\n",
              "  {'n_estimators': 320,\n",
              "   'min_samples_split': 2,\n",
              "   'min_samples_leaf': 2,\n",
              "   'max_features': 'sqrt',\n",
              "   'max_depth': None,\n",
              "   'bootstrap': True},\n",
              "  {'n_estimators': 200,\n",
              "   'min_samples_split': 5,\n",
              "   'min_samples_leaf': 1,\n",
              "   'max_features': 'sqrt',\n",
              "   'max_depth': 1,\n",
              "   'bootstrap': False},\n",
              "  {'n_estimators': 320,\n",
              "   'min_samples_split': 5,\n",
              "   'min_samples_leaf': 1,\n",
              "   'max_features': 'log2',\n",
              "   'max_depth': None,\n",
              "   'bootstrap': True},\n",
              "  {'n_estimators': 360,\n",
              "   'min_samples_split': 2,\n",
              "   'min_samples_leaf': 1,\n",
              "   'max_features': 'sqrt',\n",
              "   'max_depth': 10,\n",
              "   'bootstrap': False},\n",
              "  {'n_estimators': 400,\n",
              "   'min_samples_split': 2,\n",
              "   'min_samples_leaf': 4,\n",
              "   'max_features': 'sqrt',\n",
              "   'max_depth': 1,\n",
              "   'bootstrap': True},\n",
              "  {'n_estimators': 120,\n",
              "   'min_samples_split': 10,\n",
              "   'min_samples_leaf': 2,\n",
              "   'max_features': 'sqrt',\n",
              "   'max_depth': 10,\n",
              "   'bootstrap': True},\n",
              "  {'n_estimators': 160,\n",
              "   'min_samples_split': 5,\n",
              "   'min_samples_leaf': 2,\n",
              "   'max_features': 'log2',\n",
              "   'max_depth': 10,\n",
              "   'bootstrap': False},\n",
              "  {'n_estimators': 160,\n",
              "   'min_samples_split': 2,\n",
              "   'min_samples_leaf': 4,\n",
              "   'max_features': 'sqrt',\n",
              "   'max_depth': 20,\n",
              "   'bootstrap': False},\n",
              "  {'n_estimators': 120,\n",
              "   'min_samples_split': 10,\n",
              "   'min_samples_leaf': 4,\n",
              "   'max_features': 'log2',\n",
              "   'max_depth': None,\n",
              "   'bootstrap': False},\n",
              "  {'n_estimators': 320,\n",
              "   'min_samples_split': 10,\n",
              "   'min_samples_leaf': 2,\n",
              "   'max_features': 'log2',\n",
              "   'max_depth': None,\n",
              "   'bootstrap': True},\n",
              "  {'n_estimators': 360,\n",
              "   'min_samples_split': 10,\n",
              "   'min_samples_leaf': 1,\n",
              "   'max_features': 'log2',\n",
              "   'max_depth': 1,\n",
              "   'bootstrap': False},\n",
              "  {'n_estimators': 320,\n",
              "   'min_samples_split': 10,\n",
              "   'min_samples_leaf': 4,\n",
              "   'max_features': 'log2',\n",
              "   'max_depth': 10,\n",
              "   'bootstrap': False},\n",
              "  {'n_estimators': 240,\n",
              "   'min_samples_split': 2,\n",
              "   'min_samples_leaf': 4,\n",
              "   'max_features': 'log2',\n",
              "   'max_depth': 20,\n",
              "   'bootstrap': True},\n",
              "  {'n_estimators': 200,\n",
              "   'min_samples_split': 2,\n",
              "   'min_samples_leaf': 2,\n",
              "   'max_features': 'sqrt',\n",
              "   'max_depth': None,\n",
              "   'bootstrap': False},\n",
              "  {'n_estimators': 280,\n",
              "   'min_samples_split': 5,\n",
              "   'min_samples_leaf': 4,\n",
              "   'max_features': 'log2',\n",
              "   'max_depth': 20,\n",
              "   'bootstrap': False},\n",
              "  {'n_estimators': 240,\n",
              "   'min_samples_split': 10,\n",
              "   'min_samples_leaf': 1,\n",
              "   'max_features': 'log2',\n",
              "   'max_depth': None,\n",
              "   'bootstrap': True},\n",
              "  {'n_estimators': 80,\n",
              "   'min_samples_split': 2,\n",
              "   'min_samples_leaf': 2,\n",
              "   'max_features': 'sqrt',\n",
              "   'max_depth': 10,\n",
              "   'bootstrap': False},\n",
              "  {'n_estimators': 240,\n",
              "   'min_samples_split': 10,\n",
              "   'min_samples_leaf': 1,\n",
              "   'max_features': 'sqrt',\n",
              "   'max_depth': 10,\n",
              "   'bootstrap': True},\n",
              "  {'n_estimators': 40,\n",
              "   'min_samples_split': 5,\n",
              "   'min_samples_leaf': 1,\n",
              "   'max_features': 'log2',\n",
              "   'max_depth': None,\n",
              "   'bootstrap': False},\n",
              "  {'n_estimators': 120,\n",
              "   'min_samples_split': 10,\n",
              "   'min_samples_leaf': 4,\n",
              "   'max_features': 'log2',\n",
              "   'max_depth': 20,\n",
              "   'bootstrap': True},\n",
              "  {'n_estimators': 160,\n",
              "   'min_samples_split': 2,\n",
              "   'min_samples_leaf': 1,\n",
              "   'max_features': 'sqrt',\n",
              "   'max_depth': 10,\n",
              "   'bootstrap': False},\n",
              "  {'n_estimators': 120,\n",
              "   'min_samples_split': 5,\n",
              "   'min_samples_leaf': 2,\n",
              "   'max_features': 'log2',\n",
              "   'max_depth': 1,\n",
              "   'bootstrap': False},\n",
              "  {'n_estimators': 40,\n",
              "   'min_samples_split': 10,\n",
              "   'min_samples_leaf': 4,\n",
              "   'max_features': 'log2',\n",
              "   'max_depth': 1,\n",
              "   'bootstrap': True},\n",
              "  {'n_estimators': 40,\n",
              "   'min_samples_split': 5,\n",
              "   'min_samples_leaf': 1,\n",
              "   'max_features': 'sqrt',\n",
              "   'max_depth': 20,\n",
              "   'bootstrap': False},\n",
              "  {'n_estimators': 120,\n",
              "   'min_samples_split': 2,\n",
              "   'min_samples_leaf': 1,\n",
              "   'max_features': 'log2',\n",
              "   'max_depth': 10,\n",
              "   'bootstrap': False},\n",
              "  {'n_estimators': 40,\n",
              "   'min_samples_split': 5,\n",
              "   'min_samples_leaf': 4,\n",
              "   'max_features': 'log2',\n",
              "   'max_depth': 1,\n",
              "   'bootstrap': False},\n",
              "  {'n_estimators': 200,\n",
              "   'min_samples_split': 2,\n",
              "   'min_samples_leaf': 1,\n",
              "   'max_features': 'log2',\n",
              "   'max_depth': None,\n",
              "   'bootstrap': False},\n",
              "  {'n_estimators': 400,\n",
              "   'min_samples_split': 10,\n",
              "   'min_samples_leaf': 1,\n",
              "   'max_features': 'sqrt',\n",
              "   'max_depth': 20,\n",
              "   'bootstrap': True},\n",
              "  {'n_estimators': 120,\n",
              "   'min_samples_split': 5,\n",
              "   'min_samples_leaf': 4,\n",
              "   'max_features': 'sqrt',\n",
              "   'max_depth': 10,\n",
              "   'bootstrap': True},\n",
              "  {'n_estimators': 360,\n",
              "   'min_samples_split': 10,\n",
              "   'min_samples_leaf': 1,\n",
              "   'max_features': 'log2',\n",
              "   'max_depth': None,\n",
              "   'bootstrap': False},\n",
              "  {'n_estimators': 360,\n",
              "   'min_samples_split': 10,\n",
              "   'min_samples_leaf': 2,\n",
              "   'max_features': 'log2',\n",
              "   'max_depth': None,\n",
              "   'bootstrap': False},\n",
              "  {'n_estimators': 40,\n",
              "   'min_samples_split': 2,\n",
              "   'min_samples_leaf': 1,\n",
              "   'max_features': 'sqrt',\n",
              "   'max_depth': 10,\n",
              "   'bootstrap': True},\n",
              "  {'n_estimators': 400,\n",
              "   'min_samples_split': 2,\n",
              "   'min_samples_leaf': 4,\n",
              "   'max_features': 'log2',\n",
              "   'max_depth': 10,\n",
              "   'bootstrap': False},\n",
              "  {'n_estimators': 400,\n",
              "   'min_samples_split': 5,\n",
              "   'min_samples_leaf': 4,\n",
              "   'max_features': 'log2',\n",
              "   'max_depth': None,\n",
              "   'bootstrap': False},\n",
              "  {'n_estimators': 240,\n",
              "   'min_samples_split': 10,\n",
              "   'min_samples_leaf': 2,\n",
              "   'max_features': 'log2',\n",
              "   'max_depth': 10,\n",
              "   'bootstrap': False}],\n",
              " 'split0_test_Recall_Class1': array([0.26981919, 0.78025035, 0.78998609, 0.77468707, 0.19471488,\n",
              "        0.77746871, 0.77329624, 0.78998609, 0.78164117, 0.77190542,\n",
              "        0.77746871, 0.77746871, 0.25591099, 0.78859527, 0.76912378,\n",
              "        0.77607789, 0.79276773, 0.78164117, 0.78164117, 0.76495132,\n",
              "        0.78581363, 0.77746871, 0.78303199, 0.78720445, 0.77885953,\n",
              "        0.32684284, 0.25591099, 0.78303199, 0.78303199, 0.77885953,\n",
              "        0.19471488, 0.78859527, 0.78303199, 0.77746871, 0.78164117,\n",
              "        0.79137691, 0.77746871, 0.32684284, 0.32127955, 0.79415855,\n",
              "        0.26981919, 0.25591099, 0.78998609, 0.26981919, 0.78164117,\n",
              "        0.78025035, 0.77468707, 0.78303199, 0.26842837, 0.78025035,\n",
              "        0.7705146 , 0.78859527, 0.18080668, 0.78442281, 0.19471488,\n",
              "        0.77885953, 0.79415855, 0.78025035, 0.78998609, 0.78025035,\n",
              "        0.77885953, 0.77885953, 0.78442281, 0.18497914, 0.25869263,\n",
              "        0.77885953, 0.26703755, 0.77190542, 0.77885953, 0.32127955,\n",
              "        0.78581363, 0.78720445, 0.78025035, 0.79137691, 0.78859527,\n",
              "        0.32684284, 0.78025035, 0.78859527, 0.76634214, 0.78581363,\n",
              "        0.78859527, 0.78581363, 0.78303199, 0.76495132, 0.79415855,\n",
              "        0.77885953, 0.26842837, 0.17941586, 0.77468707, 0.78303199,\n",
              "        0.18497914, 0.76077886, 0.79137691, 0.78581363, 0.78442281,\n",
              "        0.78164117, 0.78581363, 0.77885953, 0.78164117, 0.78164117]),\n",
              " 'split1_test_Recall_Class1': array([0.17802503, 0.76495132, 0.79972184, 0.76773296, 0.15159944,\n",
              "        0.79276773, 0.78859527, 0.7705146 , 0.79972184, 0.79137691,\n",
              "        0.79415855, 0.79833102, 0.24756606, 0.80250348, 0.79137691,\n",
              "        0.76912378, 0.80528512, 0.76495132, 0.76773296, 0.78998609,\n",
              "        0.78303199, 0.76773296, 0.79972184, 0.79694019, 0.79972184,\n",
              "        0.24756606, 0.24756606, 0.77190542, 0.7635605 , 0.7705146 ,\n",
              "        0.15159944, 0.76773296, 0.76773296, 0.7635605 , 0.76216968,\n",
              "        0.8108484 , 0.78998609, 0.32545202, 0.32823366, 0.79694019,\n",
              "        0.17802503, 0.24756606, 0.76912378, 0.17802503, 0.76634214,\n",
              "        0.79554937, 0.76773296, 0.79276773, 0.24756606, 0.76495132,\n",
              "        0.78581363, 0.79554937, 0.15577191, 0.76495132, 0.15159944,\n",
              "        0.79137691, 0.79833102, 0.76773296, 0.79554937, 0.76912378,\n",
              "        0.78998609, 0.80250348, 0.80250348, 0.18358832, 0.25452017,\n",
              "        0.79137691, 0.24617524, 0.79554937, 0.76634214, 0.32823366,\n",
              "        0.76773296, 0.76495132, 0.79554937, 0.79554937, 0.80111266,\n",
              "        0.32545202, 0.7635605 , 0.79694019, 0.78859527, 0.79554937,\n",
              "        0.80667594, 0.7705146 , 0.76495132, 0.78859527, 0.79694019,\n",
              "        0.76634214, 0.24756606, 0.18358832, 0.78998609, 0.76773296,\n",
              "        0.18358832, 0.78164117, 0.79554937, 0.7705146 , 0.80250348,\n",
              "        0.79972184, 0.78025035, 0.76216968, 0.79554937, 0.7635605 ]),\n",
              " 'split2_test_Recall_Class1': array([0.17246175, 0.73018081, 0.75382476, 0.72461752, 0.13769124,\n",
              "        0.76077886, 0.7566064 , 0.72461752, 0.76216968, 0.74826147,\n",
              "        0.7635605 , 0.76495132, 0.20862309, 0.75938804, 0.76773296,\n",
              "        0.72600834, 0.76077886, 0.7232267 , 0.72461752, 0.75938804,\n",
              "        0.7232267 , 0.72461752, 0.75521558, 0.75938804, 0.75938804,\n",
              "        0.20584145, 0.20862309, 0.71905424, 0.72044506, 0.72044506,\n",
              "        0.13769124, 0.73157163, 0.72461752, 0.72600834, 0.72739917,\n",
              "        0.76216968, 0.7566064 , 0.27816412, 0.27538248, 0.76077886,\n",
              "        0.17246175, 0.20862309, 0.72600834, 0.17246175, 0.7232267 ,\n",
              "        0.7566064 , 0.72461752, 0.75938804, 0.20584145, 0.73018081,\n",
              "        0.76495132, 0.75382476, 0.13769124, 0.72878999, 0.13769124,\n",
              "        0.76216968, 0.75243394, 0.72739917, 0.75799722, 0.72183588,\n",
              "        0.75938804, 0.75382476, 0.75938804, 0.17941586, 0.21001391,\n",
              "        0.76077886, 0.20445063, 0.75799722, 0.72461752, 0.27538248,\n",
              "        0.71905424, 0.72183588, 0.7566064 , 0.75938804, 0.76216968,\n",
              "        0.27816412, 0.72739917, 0.75521558, 0.76077886, 0.75799722,\n",
              "        0.76495132, 0.72600834, 0.72739917, 0.76077886, 0.75521558,\n",
              "        0.71766342, 0.20584145, 0.16550765, 0.7635605 , 0.71766342,\n",
              "        0.17941586, 0.76634214, 0.76634214, 0.72739917, 0.75799722,\n",
              "        0.75799722, 0.72739917, 0.72878999, 0.7566064 , 0.72600834]),\n",
              " 'split3_test_Recall_Class1': array([0.24756606, 0.74687065, 0.76634214, 0.74547983, 0.16272601,\n",
              "        0.77746871, 0.77746871, 0.74547983, 0.77329624, 0.76773296,\n",
              "        0.76912378, 0.77468707, 0.25173853, 0.77329624, 0.75938804,\n",
              "        0.74408901, 0.77746871, 0.74130737, 0.75243394, 0.76495132,\n",
              "        0.74826147, 0.74269819, 0.76912378, 0.77468707, 0.7705146 ,\n",
              "        0.31293463, 0.25173853, 0.74547983, 0.74408901, 0.74408901,\n",
              "        0.16272601, 0.74130737, 0.74547983, 0.74547983, 0.74687065,\n",
              "        0.77329624, 0.77329624, 0.32267038, 0.32545202, 0.77746871,\n",
              "        0.24756606, 0.25173853, 0.74547983, 0.24756606, 0.74826147,\n",
              "        0.7705146 , 0.74547983, 0.77190542, 0.24617524, 0.74687065,\n",
              "        0.76634214, 0.77746871, 0.16272601, 0.74408901, 0.16272601,\n",
              "        0.76912378, 0.77468707, 0.75243394, 0.76773296, 0.74408901,\n",
              "        0.78025035, 0.7705146 , 0.77190542, 0.19749652, 0.25591099,\n",
              "        0.7705146 , 0.24756606, 0.77190542, 0.74547983, 0.32545202,\n",
              "        0.74826147, 0.74408901, 0.77468707, 0.77190542, 0.77329624,\n",
              "        0.32267038, 0.74408901, 0.77468707, 0.76216968, 0.77607789,\n",
              "        0.76773296, 0.74826147, 0.74130737, 0.76495132, 0.7705146 ,\n",
              "        0.74687065, 0.24617524, 0.20584145, 0.7705146 , 0.74687065,\n",
              "        0.19749652, 0.77190542, 0.78164117, 0.74408901, 0.76495132,\n",
              "        0.77329624, 0.74547983, 0.74687065, 0.77329624, 0.75243394]),\n",
              " 'split4_test_Recall_Class1': array([0.18384401, 0.78412256, 0.81197772, 0.78830084, 0.1643454 ,\n",
              "        0.80083565, 0.80083565, 0.78969359, 0.80222841, 0.80222841,\n",
              "        0.80501393, 0.79805014, 0.24512535, 0.80222841, 0.79247911,\n",
              "        0.78969359, 0.80362117, 0.79108635, 0.79526462, 0.80083565,\n",
              "        0.7994429 , 0.78690808, 0.80362117, 0.80640669, 0.8091922 ,\n",
              "        0.25208914, 0.24512535, 0.78412256, 0.78551532, 0.78551532,\n",
              "        0.1643454 , 0.79247911, 0.78830084, 0.79247911, 0.78551532,\n",
              "        0.80083565, 0.80222841, 0.32869081, 0.32729805, 0.81754875,\n",
              "        0.18384401, 0.24512535, 0.78830084, 0.18384401, 0.78690808,\n",
              "        0.79805014, 0.78830084, 0.80640669, 0.25208914, 0.78412256,\n",
              "        0.80083565, 0.81337047, 0.15598886, 0.79387187, 0.1643454 ,\n",
              "        0.80501393, 0.80501393, 0.79526462, 0.81197772, 0.78412256,\n",
              "        0.80640669, 0.81337047, 0.80083565, 0.18245125, 0.24512535,\n",
              "        0.80640669, 0.25208914, 0.80501393, 0.79108635, 0.32590529,\n",
              "        0.79108635, 0.79108635, 0.8091922 , 0.8091922 , 0.80779944,\n",
              "        0.32869081, 0.78830084, 0.81058496, 0.79805014, 0.80779944,\n",
              "        0.80779944, 0.78690808, 0.79526462, 0.79805014, 0.80640669,\n",
              "        0.79247911, 0.25208914, 0.18384401, 0.79108635, 0.79247911,\n",
              "        0.18245125, 0.79387187, 0.81476323, 0.78830084, 0.81754875,\n",
              "        0.8091922 , 0.78830084, 0.78690808, 0.80640669, 0.79665738]),\n",
              " 'mean_test_Recall_Class1': array([0.21034321, 0.76127514, 0.78437051, 0.76016364, 0.1622154 ,\n",
              "        0.78186393, 0.77936045, 0.76405833, 0.78381147, 0.77630104,\n",
              "        0.78186509, 0.78269765, 0.2417928 , 0.78520229, 0.77602016,\n",
              "        0.76099852, 0.78798432, 0.76044258, 0.76433804, 0.77602249,\n",
              "        0.76795534, 0.75988509, 0.78214287, 0.78492529, 0.78353524,\n",
              "        0.26905482, 0.2417928 , 0.76071881, 0.75932838, 0.75988471,\n",
              "        0.1622154 , 0.76433727, 0.76183263, 0.7609993 , 0.7607192 ,\n",
              "        0.78770538, 0.77991717, 0.31636403, 0.31552915, 0.78937901,\n",
              "        0.21034321, 0.2417928 , 0.76377978, 0.21034321, 0.76127591,\n",
              "        0.78019417, 0.76016364, 0.78269997, 0.24402005, 0.76127514,\n",
              "        0.77769147, 0.78576172, 0.15859694, 0.763225  , 0.1622154 ,\n",
              "        0.78130877, 0.7849249 , 0.76461621, 0.78464867, 0.75988432,\n",
              "        0.78297814, 0.78381457, 0.78381108, 0.18558622, 0.24485261,\n",
              "        0.78158732, 0.24346372, 0.78047427, 0.76127708, 0.3152506 ,\n",
              "        0.76238973, 0.7618334 , 0.78325708, 0.78548239, 0.78659466,\n",
              "        0.31636403, 0.76071997, 0.78520461, 0.77518722, 0.78464751,\n",
              "        0.78715099, 0.76350123, 0.76239089, 0.77546538, 0.78464712,\n",
              "        0.76044297, 0.24402005, 0.18363946, 0.77796692, 0.76155563,\n",
              "        0.18558622, 0.77490789, 0.78993457, 0.76322345, 0.78548471,\n",
              "        0.78436973, 0.76544876, 0.76071959, 0.78269997, 0.76406027]),\n",
              " 'std_test_Recall_Class1': array([0.04026068, 0.02034662, 0.02138888, 0.02253471, 0.01884222,\n",
              "        0.01387109, 0.01486315, 0.0255806 , 0.01533604, 0.0188598 ,\n",
              "        0.01551596, 0.01331574, 0.01698768, 0.01678608, 0.01341337,\n",
              "        0.02292186, 0.01683701, 0.02513932, 0.02444097, 0.01632496,\n",
              "        0.0280221 , 0.02297914, 0.01825214, 0.01654071, 0.01841071,\n",
              "        0.04474466, 0.01698768, 0.0250556 , 0.02453438, 0.0242279 ,\n",
              "        0.01884222, 0.02447819, 0.02382088, 0.02338376, 0.02171031,\n",
              "        0.01778302, 0.01544279, 0.01920078, 0.02021483, 0.01914875,\n",
              "        0.04026068, 0.01698768, 0.02481202, 0.04026068, 0.02330037,\n",
              "        0.01552223, 0.02253471, 0.01626928, 0.02066737, 0.02034662,\n",
              "        0.01374226, 0.01977278, 0.01387193, 0.0242632 , 0.01884222,\n",
              "        0.01538882, 0.01912605, 0.02335372, 0.01944547, 0.02360004,\n",
              "        0.01535516, 0.02155763, 0.01660027, 0.00623084, 0.01800614,\n",
              "        0.01596794, 0.02086301, 0.01721349, 0.02373548, 0.02005974,\n",
              "        0.02637536, 0.02616796, 0.01798041, 0.01768329, 0.01695786,\n",
              "        0.01920078, 0.02252587, 0.01899128, 0.01521697, 0.01696997,\n",
              "        0.01832787, 0.02337896, 0.02522788, 0.01496162, 0.01887331,\n",
              "        0.02613267, 0.02066737, 0.01295819, 0.01086664, 0.02682473,\n",
              "        0.00623084, 0.01172165, 0.01597155, 0.02384055, 0.02234301,\n",
              "        0.01831622, 0.02450535, 0.02111061, 0.01730631, 0.02431062]),\n",
              " 'rank_test_Recall_Class1': array([ 91,  63,  17,  73,  97,  30,  36,  51,  20,  39,  29,  27,  88,\n",
              "         11,  41,  66,   3,  72,  48,  40,  45,  75,  28,  12,  22,  83,\n",
              "         88,  70,  78,  76,  97,  49,  59,  65,  69,   4,  35,  79,  81,\n",
              "          2,  91,  88,  52,  91,  62,  34,  73,  25,  85,  63,  38,   7,\n",
              "        100,  54,  97,  32,  13,  47,  14,  77,  24,  19,  21,  94,  84,\n",
              "         31,  87,  33,  61,  82,  57,  58,  23,   9,   6,  79,  67,  10,\n",
              "         43,  15,   5,  53,  56,  42,  16,  71,  85,  96,  37,  60,  94,\n",
              "         44,   1,  55,   8,  18,  46,  68,  25,  50], dtype=int32),\n",
              " 'split0_train_Recall_Class1': array([0.2386087 , 0.776     , 0.89217391, 0.76626087, 0.16869565,\n",
              "        0.98991304, 0.99478261, 0.78330435, 0.936     , 0.95686957,\n",
              "        0.91304348, 0.94121739, 0.22921739, 0.88      , 0.97147826,\n",
              "        0.7693913 , 0.85878261, 0.76695652, 0.77217391, 0.97286957,\n",
              "        0.78365217, 0.76904348, 0.88765217, 0.90191304, 0.92417391,\n",
              "        0.30469565, 0.22921739, 0.78052174, 0.76626087, 0.78121739,\n",
              "        0.16869565, 0.78365217, 0.77217391, 0.77217391, 0.7666087 ,\n",
              "        0.85878261, 0.96521739, 0.30469565, 0.30469565, 0.88904348,\n",
              "        0.2386087 , 0.22921739, 0.78504348, 0.2386087 , 0.77008696,\n",
              "        0.984     , 0.76626087, 0.90086957, 0.24104348, 0.776     ,\n",
              "        0.99443478, 0.86052174, 0.15547826, 0.7773913 , 0.16869565,\n",
              "        0.91930435, 0.85913043, 0.76904348, 0.89182609, 0.77947826,\n",
              "        0.94573913, 0.94504348, 0.91652174, 0.17078261, 0.23617391,\n",
              "        0.92      , 0.23965217, 0.94469565, 0.77321739, 0.30156522,\n",
              "        0.77913043, 0.77913043, 0.89773913, 0.89078261, 0.88      ,\n",
              "        0.30469565, 0.76626087, 0.86191304, 0.97356522, 0.89808696,\n",
              "        0.8866087 , 0.78226087, 0.776     , 0.99130435, 0.85426087,\n",
              "        0.76973913, 0.24104348, 0.16730435, 0.97982609, 0.77704348,\n",
              "        0.17078261, 0.99165217, 0.88730435, 0.77634783, 0.94573913,\n",
              "        0.92347826, 0.78295652, 0.7666087 , 0.90017391, 0.76869565]),\n",
              " 'split1_train_Recall_Class1': array([0.19095652, 0.78226087, 0.8973913 , 0.7826087 , 0.15582609,\n",
              "        0.99026087, 0.99547826, 0.78713043, 0.93843478, 0.95686957,\n",
              "        0.91582609, 0.94365217, 0.24278261, 0.87652174, 0.97008696,\n",
              "        0.78121739, 0.85843478, 0.77913043, 0.78086957, 0.97356522,\n",
              "        0.7906087 , 0.77982609, 0.888     , 0.90713043, 0.92869565,\n",
              "        0.24173913, 0.24278261, 0.78226087, 0.77495652, 0.7826087 ,\n",
              "        0.15582609, 0.78052174, 0.77878261, 0.77982609, 0.77426087,\n",
              "        0.86017391, 0.96521739, 0.31582609, 0.31686957, 0.88973913,\n",
              "        0.19095652, 0.24278261, 0.78504348, 0.19095652, 0.776     ,\n",
              "        0.98191304, 0.7826087 , 0.90365217, 0.24173913, 0.78226087,\n",
              "        0.99408696, 0.86573913, 0.1613913 , 0.7773913 , 0.15582609,\n",
              "        0.92069565, 0.85773913, 0.7773913 , 0.89704348, 0.78365217,\n",
              "        0.94782609, 0.94643478, 0.9213913 , 0.19791304, 0.248     ,\n",
              "        0.92243478, 0.24034783, 0.94469565, 0.78052174, 0.31652174,\n",
              "        0.77947826, 0.77808696, 0.90295652, 0.8973913 , 0.87721739,\n",
              "        0.31582609, 0.77773913, 0.86365217, 0.97391304, 0.90191304,\n",
              "        0.89078261, 0.77704348, 0.77808696, 0.9906087 , 0.856     ,\n",
              "        0.77947826, 0.24173913, 0.19721739, 0.98017391, 0.78156522,\n",
              "        0.19791304, 0.99269565, 0.8893913 , 0.78782609, 0.94678261,\n",
              "        0.92904348, 0.79234783, 0.77530435, 0.90330435, 0.77808696]),\n",
              " 'split2_train_Recall_Class1': array([0.19826087, 0.78504348, 0.896     , 0.77878261, 0.16626087,\n",
              "        0.98956522, 0.99513043, 0.77947826, 0.93913043, 0.96313043,\n",
              "        0.91443478, 0.94713043, 0.25286957, 0.88      , 0.976     ,\n",
              "        0.77773913, 0.85878261, 0.77495652, 0.77913043, 0.97843478,\n",
              "        0.77773913, 0.77878261, 0.89217391, 0.90017391, 0.92417391,\n",
              "        0.25669565, 0.25286957, 0.77704348, 0.77843478, 0.77773913,\n",
              "        0.16626087, 0.77878261, 0.78086957, 0.77843478, 0.78191304,\n",
              "        0.85669565, 0.97182609, 0.328     , 0.32556522, 0.88869565,\n",
              "        0.19826087, 0.25286957, 0.77878261, 0.19826087, 0.78052174,\n",
              "        0.984     , 0.77878261, 0.89947826, 0.25669565, 0.78504348,\n",
              "        0.99304348, 0.86295652, 0.16626087, 0.77634783, 0.16626087,\n",
              "        0.92243478, 0.85878261, 0.78052174, 0.89530435, 0.77704348,\n",
              "        0.94817391, 0.94643478, 0.9133913 , 0.20069565, 0.25704348,\n",
              "        0.92208696, 0.25530435, 0.94713043, 0.77982609, 0.32417391,\n",
              "        0.77808696, 0.78052174, 0.89808696, 0.89634783, 0.87895652,\n",
              "        0.328     , 0.776     , 0.86052174, 0.97843478, 0.90052174,\n",
              "        0.89252174, 0.78017391, 0.77808696, 0.99130435, 0.856     ,\n",
              "        0.77808696, 0.25669565, 0.1773913 , 0.98191304, 0.77913043,\n",
              "        0.20069565, 0.99304348, 0.89008696, 0.78017391, 0.94852174,\n",
              "        0.92452174, 0.78086957, 0.7826087 , 0.90121739, 0.78017391]),\n",
              " 'split3_train_Recall_Class1': array([0.23756522, 0.77843478, 0.89391304, 0.7853913 , 0.15895652,\n",
              "        0.99269565, 0.99721739, 0.78991304, 0.93808696, 0.96347826,\n",
              "        0.91165217, 0.94573913, 0.24417391, 0.88104348, 0.97947826,\n",
              "        0.78121739, 0.85913043, 0.77356522, 0.78330435, 0.98086957,\n",
              "        0.79026087, 0.784     , 0.89008696, 0.90434783, 0.9266087 ,\n",
              "        0.30817391, 0.24417391, 0.78017391, 0.77704348, 0.77913043,\n",
              "        0.15895652, 0.78434783, 0.784     , 0.7826087 , 0.78017391,\n",
              "        0.86121739, 0.97078261, 0.31478261, 0.31756522, 0.89008696,\n",
              "        0.23756522, 0.24417391, 0.78852174, 0.23756522, 0.78226087,\n",
              "        0.98365217, 0.7853913 , 0.90295652, 0.23443478, 0.77843478,\n",
              "        0.99582609, 0.8653913 , 0.1586087 , 0.78156522, 0.15895652,\n",
              "        0.9213913 , 0.85982609, 0.784     , 0.89530435, 0.77878261,\n",
              "        0.95095652, 0.94956522, 0.91965217, 0.18852174, 0.24556522,\n",
              "        0.9213913 , 0.23826087, 0.94817391, 0.78226087, 0.31756522,\n",
              "        0.78678261, 0.78330435, 0.90086957, 0.89391304, 0.88208696,\n",
              "        0.31478261, 0.776     , 0.86469565, 0.97982609, 0.90121739,\n",
              "        0.89252174, 0.79130435, 0.78330435, 0.9933913 , 0.86226087,\n",
              "        0.78017391, 0.23443478, 0.19408696, 0.98156522, 0.78365217,\n",
              "        0.18852174, 0.99513043, 0.88869565, 0.78886957, 0.94991304,\n",
              "        0.92556522, 0.7853913 , 0.78017391, 0.90295652, 0.7853913 ]),\n",
              " 'split4_train_Recall_Class1': array([0.19123783, 0.77573018, 0.9050765 , 0.78511822, 0.15924896,\n",
              "        0.99269819, 0.99826147, 0.78755216, 0.94541029, 0.96210014,\n",
              "        0.92420028, 0.94888734, 0.24478442, 0.88004172, 0.97635605,\n",
              "        0.78929068, 0.86335188, 0.79276773, 0.79659249, 0.97705146,\n",
              "        0.79694019, 0.78233658, 0.89638387, 0.90785814, 0.93150209,\n",
              "        0.24200278, 0.24478442, 0.78233658, 0.77573018, 0.7840751 ,\n",
              "        0.15924896, 0.79346314, 0.78963839, 0.79207232, 0.78059805,\n",
              "        0.85917942, 0.97009736, 0.31502086, 0.31710709, 0.89603616,\n",
              "        0.19123783, 0.24478442, 0.78789986, 0.19123783, 0.78963839,\n",
              "        0.98783032, 0.78511822, 0.90994437, 0.24200278, 0.77573018,\n",
              "        0.99721836, 0.86787204, 0.15438108, 0.79276773, 0.15924896,\n",
              "        0.92906815, 0.86404729, 0.79589708, 0.90472879, 0.78616134,\n",
              "        0.95062587, 0.95166898, 0.92628651, 0.168637  , 0.24513213,\n",
              "        0.93150209, 0.24026426, 0.95166898, 0.79207232, 0.31432545,\n",
              "        0.79415855, 0.79137691, 0.90785814, 0.90333797, 0.88073713,\n",
              "        0.31502086, 0.79311544, 0.86856745, 0.97774687, 0.90924896,\n",
              "        0.89638387, 0.78963839, 0.79207232, 0.9933936 , 0.86265647,\n",
              "        0.79207232, 0.24200278, 0.17107093, 0.98504868, 0.79554937,\n",
              "        0.168637  , 0.99582754, 0.89742698, 0.78546592, 0.95201669,\n",
              "        0.93184979, 0.78929068, 0.78477051, 0.9123783 , 0.79624478]),\n",
              " 'mean_train_Recall_Class1': array([0.21132583, 0.77949386, 0.89691095, 0.77963234, 0.16179762,\n",
              "        0.99102659, 0.99617403, 0.78547565, 0.93941249, 0.96048959,\n",
              "        0.91583136, 0.94532529, 0.24276558, 0.87952139, 0.97467991,\n",
              "        0.77977118, 0.85969646, 0.77747529, 0.78241415, 0.97655812,\n",
              "        0.78784021, 0.77879775, 0.89085938, 0.90428467, 0.92703085,\n",
              "        0.27066143, 0.24276558, 0.78046732, 0.77448517, 0.78095415,\n",
              "        0.16179762, 0.7841535 , 0.78109289, 0.78102316, 0.77671091,\n",
              "        0.8592098 , 0.96862817, 0.31566504, 0.31636055, 0.89072028,\n",
              "        0.21132583, 0.24276558, 0.78505823, 0.21132583, 0.77970159,\n",
              "        0.98427911, 0.77963234, 0.90338018, 0.24318317, 0.77949386,\n",
              "        0.99492193, 0.86449615, 0.15922404, 0.78109268, 0.16179762,\n",
              "        0.92257885, 0.85990511, 0.78137072, 0.89684141, 0.78102357,\n",
              "        0.9486643 , 0.94782945, 0.91944861, 0.18531001, 0.24638295,\n",
              "        0.92348303, 0.24276589, 0.94727293, 0.78157968, 0.31483031,\n",
              "        0.78352736, 0.78248408, 0.90150206, 0.89635455, 0.8797996 ,\n",
              "        0.31566504, 0.77782309, 0.86387001, 0.9766972 , 0.90219762,\n",
              "        0.89176373, 0.7840842 , 0.78151012, 0.99200046, 0.85823564,\n",
              "        0.77991012, 0.24318317, 0.18141419, 0.98170539, 0.78338814,\n",
              "        0.18531001, 0.99366986, 0.89058105, 0.78373666, 0.94859464,\n",
              "        0.9268917 , 0.78617118, 0.77789323, 0.9040061 , 0.78171852]),\n",
              " 'std_train_Recall_Class1': array([0.02200904, 0.00363177, 0.0044534 , 0.00709419, 0.00485243,\n",
              "        0.00138144, 0.0013383 , 0.00367216, 0.00317526, 0.00299029,\n",
              "        0.0044097 , 0.00267553, 0.00763811, 0.001552  , 0.00343284,\n",
              "        0.00642923, 0.0018409 , 0.00858925, 0.00799811, 0.00299722,\n",
              "        0.00657123, 0.00521134, 0.00320334, 0.00294601, 0.00280235,\n",
              "        0.02972667, 0.00763811, 0.00192472, 0.00427915, 0.00228952,\n",
              "        0.00485243, 0.00507927, 0.00576909, 0.00649676, 0.005696  ,\n",
              "        0.00151422, 0.00283879, 0.00739863, 0.00667927, 0.00270308,\n",
              "        0.02200904, 0.00763811, 0.00344832, 0.02200904, 0.00651315,\n",
              "        0.00193692, 0.00709419, 0.00360195, 0.00730997, 0.00363177,\n",
              "        0.00145287, 0.00252624, 0.00429133, 0.00610646, 0.00485243,\n",
              "        0.00340032, 0.00217787, 0.00879142, 0.00429256, 0.00336325,\n",
              "        0.00192882, 0.00242515, 0.0043779 , 0.01337837, 0.00667412,\n",
              "        0.00409536, 0.00631361, 0.0025862 , 0.00607753, 0.00740083,\n",
              "        0.00614728, 0.00477886, 0.00370777, 0.00416775, 0.00164498,\n",
              "        0.00739863, 0.00865096, 0.00275085, 0.00250886, 0.00375418,\n",
              "        0.00316328, 0.00549848, 0.00580649, 0.0011646 , 0.00350831,\n",
              "        0.0071407 , 0.00730997, 0.0121045 , 0.00185027, 0.00647566,\n",
              "        0.01337837, 0.00156214, 0.00354451, 0.00476127, 0.0022312 ,\n",
              "        0.00310614, 0.00416969, 0.00646184, 0.00433936, 0.00905175])}"
            ]
          },
          "metadata": {},
          "execution_count": 61
        }
      ],
      "source": [
        "rf_random.cv_results_"
      ]
    },
    {
      "cell_type": "markdown",
      "metadata": {
        "id": "h7RIARiLTUdR"
      },
      "source": [
        "#Resultados"
      ]
    },
    {
      "cell_type": "code",
      "execution_count": null,
      "metadata": {
        "colab": {
          "base_uri": "https://localhost:8080/"
        },
        "id": "9xwjhdZ4WBes",
        "outputId": "0377664a-13ed-4462-a833-835d6a89d69d"
      },
      "outputs": [
        {
          "output_type": "stream",
          "name": "stdout",
          "text": [
            "              precision    recall  f1-score   support\n",
            "\n",
            "           0       0.99      0.93      0.96     17177\n",
            "           1       0.37      0.79      0.51       901\n",
            "\n",
            "    accuracy                           0.92     18078\n",
            "   macro avg       0.68      0.86      0.73     18078\n",
            "weighted avg       0.96      0.92      0.94     18078\n",
            "\n"
          ]
        }
      ],
      "source": [
        "previsoes = best_random.predict(X_teste)\n",
        "print(classification_report(y_teste, previsoes))"
      ]
    }
  ],
  "metadata": {
    "colab": {
      "provenance": [],
      "include_colab_link": true
    },
    "kernelspec": {
      "display_name": "Python 3.10.5 64-bit",
      "language": "python",
      "name": "python3"
    },
    "language_info": {
      "codemirror_mode": {
        "name": "ipython",
        "version": 3
      },
      "file_extension": ".py",
      "mimetype": "text/x-python",
      "name": "python",
      "nbconvert_exporter": "python",
      "pygments_lexer": "ipython3",
      "version": "3.10.12"
    },
    "vscode": {
      "interpreter": {
        "hash": "ed3943dba37f3ed717092a780584c496f36863d6c99891baccd6632ecc02cdda"
      }
    }
  },
  "nbformat": 4,
  "nbformat_minor": 0
}
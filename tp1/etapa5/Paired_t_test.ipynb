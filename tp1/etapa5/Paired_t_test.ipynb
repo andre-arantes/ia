{
  "nbformat": 4,
  "nbformat_minor": 0,
  "metadata": {
    "colab": {
      "provenance": [],
      "include_colab_link": true
    },
    "kernelspec": {
      "name": "python3",
      "display_name": "Python 3"
    },
    "language_info": {
      "name": "python"
    }
  },
  "cells": [
    {
      "cell_type": "markdown",
      "metadata": {
        "id": "view-in-github",
        "colab_type": "text"
      },
      "source": [
        "<a href=\"https://colab.research.google.com/github/andre-arantes/ia/blob/master/tp1/etapa5/Paired_t_test.ipynb\" target=\"_parent\"><img src=\"https://colab.research.google.com/assets/colab-badge.svg\" alt=\"Open In Colab\"/></a>"
      ]
    },
    {
      "cell_type": "code",
      "source": [
        "import pickle\n",
        "with open('/content/sample_data/relatorioRandomForest.pkl', 'rb') as f:\n",
        "  relatorio_random_forest = pickle.load(f)"
      ],
      "metadata": {
        "id": "URrFGHs43NkJ"
      },
      "execution_count": null,
      "outputs": []
    },
    {
      "cell_type": "code",
      "source": [
        "with open('/content/sample_data/RelatorioArvore.pkl', 'rb') as f:\n",
        "  relatorio_arvore = pickle.load(f)"
      ],
      "metadata": {
        "id": "KJ2Kn6Qv4icB"
      },
      "execution_count": null,
      "outputs": []
    },
    {
      "cell_type": "code",
      "source": [
        "with open('/content/sample_data/RelatorioKmeans.pkl', 'rb') as f:\n",
        "  relatorio_Kmeans = pickle.load(f)"
      ],
      "metadata": {
        "id": "IhK065684vmr"
      },
      "execution_count": null,
      "outputs": []
    },
    {
      "cell_type": "code",
      "source": [
        "with open('/content/sample_data/RelatorioMLP.pkl', 'rb') as f:\n",
        "  relatorio_MLP = pickle.load(f)"
      ],
      "metadata": {
        "id": "bxb8OkKG4qEu"
      },
      "execution_count": null,
      "outputs": []
    },
    {
      "cell_type": "code",
      "source": [
        "with open('/content/sample_data/DadosBase.pkl', 'rb') as f:\n",
        "  X,y = pickle.load(f)"
      ],
      "metadata": {
        "id": "rL_1s74x1yhd"
      },
      "execution_count": null,
      "outputs": []
    },
    {
      "cell_type": "code",
      "source": [
        "import pickle\n",
        "with open('/content/sample_data/PreProcessamento.pkl', 'rb') as f:\n",
        "  X_trainscaled, X_testscaled, y_treino, y_teste = pickle.load(f)"
      ],
      "metadata": {
        "id": "Sr9lQAfv6Q3W"
      },
      "execution_count": null,
      "outputs": []
    },
    {
      "cell_type": "code",
      "source": [
        "relatorio_random_forest = relatorio_random_forest[0]\n",
        "relatorio_arvore = relatorio_arvore[0]\n",
        "relatorio_Kmeans = relatorio_Kmeans[0]\n",
        "relatorio_MLP = relatorio_MLP[0]\n",
        "print(relatorio_random_forest)\n",
        "print(relatorio_arvore)\n",
        "print(relatorio_Kmeans)\n",
        "print(relatorio_MLP)"
      ],
      "metadata": {
        "colab": {
          "base_uri": "https://localhost:8080/"
        },
        "id": "X1SBX73g2Mge",
        "outputId": "39dd5b1f-6c9a-4c35-b7e7-a3962d739717"
      },
      "execution_count": null,
      "outputs": [
        {
          "output_type": "stream",
          "name": "stdout",
          "text": [
            "0.7846836847946725\n",
            "0.8856825749167592\n",
            "0.755826859045505\n",
            "0.7835738068812431\n"
          ]
        }
      ]
    },
    {
      "cell_type": "markdown",
      "source": [],
      "metadata": {
        "id": "j7MDdBtn4hAz"
      }
    },
    {
      "cell_type": "markdown",
      "source": [
        "Comparar Decision tree com random forest"
      ],
      "metadata": {
        "id": "jqlcIAcV2ipd"
      }
    },
    {
      "cell_type": "code",
      "execution_count": null,
      "metadata": {
        "id": "qpOir3yt2W0O",
        "colab": {
          "base_uri": "https://localhost:8080/"
        },
        "outputId": "486451eb-594f-486e-959f-f1229eaef2ef"
      },
      "outputs": [
        {
          "output_type": "stream",
          "name": "stdout",
          "text": [
            "0.8351831298557159\n",
            "0.002550193951473332\n",
            "12579\n",
            "18078\n",
            "90387\n",
            "0.0036650577280186816\n",
            "13.795622549935587\n",
            "1.0\n"
          ]
        },
        {
          "output_type": "execute_result",
          "data": {
            "text/plain": [
              "0.0"
            ]
          },
          "metadata": {},
          "execution_count": 52
        }
      ],
      "source": [
        "import numpy as np\n",
        "#Compute the difference between the results\n",
        "diff = [relatorio_arvore, relatorio_random_forest]\n",
        "#Comopute the mean of differences\n",
        "d_bar = np.mean(diff)\n",
        "print(d_bar)\n",
        "#compute the variance of differences\n",
        "sigma2 = np.var(diff)\n",
        "print(sigma2)\n",
        "#compute the number of data points used for training\n",
        "n1 = len(y_treino)\n",
        "print(n1)\n",
        "#compute the number of data points used for testing\n",
        "n2 = len(y_teste)\n",
        "print(n2)\n",
        "#compute the total number of data points\n",
        "n = len(y)\n",
        "print(n)\n",
        "#compute the modified variance\n",
        "sigma2_mod = sigma2 * (1/n + n2/n1)\n",
        "print(sigma2_mod)\n",
        "#compute the t_static\n",
        "t_static =  d_bar / np.sqrt(sigma2_mod)\n",
        "print(t_static)\n",
        "from scipy.stats import t\n",
        "#Compute p-value and plot the results\n",
        "print(t.cdf(t_static, n-1))\n",
        "Pvalue = ((1 - t.cdf(t_static, n-1))*200)\n",
        "Pvalue"
      ]
    },
    {
      "cell_type": "markdown",
      "source": [
        "Comparar Decision tree com MLP"
      ],
      "metadata": {
        "id": "EvGM3SFt2ubN"
      }
    },
    {
      "cell_type": "code",
      "execution_count": null,
      "metadata": {
        "id": "Y8L1xAp02ubN",
        "colab": {
          "base_uri": "https://localhost:8080/"
        },
        "outputId": "70cc570b-ce57-4242-e794-f483511b4233"
      },
      "outputs": [
        {
          "output_type": "stream",
          "name": "stdout",
          "text": [
            "0.8346281908990012\n",
            "0.002606550127432706\n",
            "12579\n",
            "18078\n",
            "90387\n",
            "0.003746051033685552\n",
            "13.63660324046213\n",
            "1.0\n"
          ]
        },
        {
          "output_type": "execute_result",
          "data": {
            "text/plain": [
              "0.0"
            ]
          },
          "metadata": {},
          "execution_count": 53
        }
      ],
      "source": [
        "import numpy as np\n",
        "#Compute the difference between the results\n",
        "diff = [relatorio_arvore, relatorio_MLP]\n",
        "#Comopute the mean of differences\n",
        "d_bar = np.mean(diff)\n",
        "print(d_bar)\n",
        "#compute the variance of differences\n",
        "sigma2 = np.var(diff)\n",
        "print(sigma2)\n",
        "#compute the number of data points used for training\n",
        "n1 = len(y_treino)\n",
        "print(n1)\n",
        "#compute the number of data points used for testing\n",
        "n2 = len(y_teste)\n",
        "print(n2)\n",
        "#compute the total number of data points\n",
        "n = len(y)\n",
        "print(n)\n",
        "#compute the modified variance\n",
        "sigma2_mod = sigma2 * (1/n + n2/n1)\n",
        "print(sigma2_mod)\n",
        "#compute the t_static\n",
        "t_static =  d_bar / np.sqrt(sigma2_mod)\n",
        "print(t_static)\n",
        "from scipy.stats import t\n",
        "#Compute p-value and plot the results\n",
        "print(t.cdf(t_static, n-1))\n",
        "Pvalue = ((1 - t.cdf(t_static, n-1))*200)\n",
        "Pvalue"
      ]
    },
    {
      "cell_type": "markdown",
      "source": [
        "Comparar Decision tree com K-Nearest Neighbors"
      ],
      "metadata": {
        "id": "0Q1y-1Au2zEa"
      }
    },
    {
      "cell_type": "code",
      "execution_count": null,
      "metadata": {
        "id": "Ch3hfAD_2zEa",
        "colab": {
          "base_uri": "https://localhost:8080/"
        },
        "outputId": "f79c3146-2be7-49de-c958-164ba0336779"
      },
      "outputs": [
        {
          "output_type": "stream",
          "name": "stdout",
          "text": [
            "0.820754716981132\n",
            "0.004215626736108976\n",
            "12579\n",
            "18078\n",
            "90387\n",
            "0.006058564815704349\n",
            "10.544561111811234\n",
            "1.0\n"
          ]
        },
        {
          "output_type": "execute_result",
          "data": {
            "text/plain": [
              "0.0"
            ]
          },
          "metadata": {},
          "execution_count": 55
        }
      ],
      "source": [
        "import numpy as np\n",
        "#Compute the difference between the results\n",
        "diff = [relatorio_arvore, relatorio_Kmeans]\n",
        "#Comopute the mean of differences\n",
        "d_bar = np.mean(diff)\n",
        "print(d_bar)\n",
        "#compute the variance of differences\n",
        "sigma2 = np.var(diff)\n",
        "print(sigma2)\n",
        "#compute the number of data points used for training\n",
        "n1 = len(y_treino)\n",
        "print(n1)\n",
        "#compute the number of data points used for testing\n",
        "n2 = len(y_teste)\n",
        "print(n2)\n",
        "#compute the total number of data points\n",
        "n = len(y)\n",
        "print(n)\n",
        "#compute the modified variance\n",
        "sigma2_mod = sigma2 * (1/n + n2/n1)\n",
        "print(sigma2_mod)\n",
        "#compute the t_static\n",
        "t_static =  d_bar / np.sqrt(sigma2_mod)\n",
        "print(t_static)\n",
        "from scipy.stats import t\n",
        "#Compute p-value and plot the results\n",
        "print(t.cdf(t_static, n-1))\n",
        "Pvalue = ((1 - t.cdf(t_static, n-1))*200)\n",
        "Pvalue"
      ]
    },
    {
      "cell_type": "markdown",
      "source": [
        "Comparar K-Nearest Neighbors com MLP"
      ],
      "metadata": {
        "id": "LOMTsKZq280G"
      }
    },
    {
      "cell_type": "code",
      "execution_count": null,
      "metadata": {
        "id": "PN1wARTH280G",
        "colab": {
          "base_uri": "https://localhost:8080/"
        },
        "outputId": "34bf5c09-64a0-41b4-cd15-d7fee1f604d1"
      },
      "outputs": [
        {
          "output_type": "stream",
          "name": "stdout",
          "text": [
            "0.769700332963374\n",
            "0.00019247327854979374\n",
            "12579\n",
            "18078\n",
            "90387\n",
            "0.0002766164811027279\n",
            "46.27885957170006\n",
            "1.0\n"
          ]
        },
        {
          "output_type": "execute_result",
          "data": {
            "text/plain": [
              "0.0"
            ]
          },
          "metadata": {},
          "execution_count": 56
        }
      ],
      "source": [
        "import numpy as np\n",
        "#Compute the difference between the results\n",
        "diff = [relatorio_Kmeans, relatorio_MLP]\n",
        "#Comopute the mean of differences\n",
        "d_bar = np.mean(diff)\n",
        "print(d_bar)\n",
        "#compute the variance of differences\n",
        "sigma2 = np.var(diff)\n",
        "print(sigma2)\n",
        "#compute the number of data points used for training\n",
        "n1 = len(y_treino)\n",
        "print(n1)\n",
        "#compute the number of data points used for testing\n",
        "n2 = len(y_teste)\n",
        "print(n2)\n",
        "#compute the total number of data points\n",
        "n = len(y)\n",
        "print(n)\n",
        "#compute the modified variance\n",
        "sigma2_mod = sigma2 * (1/n + n2/n1)\n",
        "print(sigma2_mod)\n",
        "#compute the t_static\n",
        "t_static =  d_bar / np.sqrt(sigma2_mod)\n",
        "print(t_static)\n",
        "from scipy.stats import t\n",
        "#Compute p-value and plot the results\n",
        "print(t.cdf(t_static, n-1))\n",
        "Pvalue = ((1 - t.cdf(t_static, n-1))*200)\n",
        "Pvalue"
      ]
    },
    {
      "cell_type": "markdown",
      "source": [
        "Comparar K-Nearest Neighbors com Random Forest"
      ],
      "metadata": {
        "id": "uBZOcPcl3DNV"
      }
    },
    {
      "cell_type": "code",
      "execution_count": null,
      "metadata": {
        "id": "pxpuhMTZ3DNV",
        "colab": {
          "base_uri": "https://localhost:8080/"
        },
        "outputId": "45cbdc93-cc52-4938-fe77-9341e0f7cca6"
      },
      "outputs": [
        {
          "output_type": "stream",
          "name": "stdout",
          "text": [
            "0.7702552719200888\n",
            "0.00020817909807945543\n",
            "12579\n",
            "18078\n",
            "90387\n",
            "0.00029918838596070836\n",
            "44.530986277466525\n",
            "1.0\n"
          ]
        },
        {
          "output_type": "execute_result",
          "data": {
            "text/plain": [
              "0.0"
            ]
          },
          "metadata": {},
          "execution_count": 58
        }
      ],
      "source": [
        "import numpy as np\n",
        "#Compute the difference between the results\n",
        "diff = [relatorio_Kmeans, relatorio_random_forest]\n",
        "#Comopute the mean of differences\n",
        "d_bar = np.mean(diff)\n",
        "print(d_bar)\n",
        "#compute the variance of differences\n",
        "sigma2 = np.var(diff)\n",
        "print(sigma2)\n",
        "#compute the number of data points used for training\n",
        "n1 = len(y_treino)\n",
        "print(n1)\n",
        "#compute the number of data points used for testing\n",
        "n2 = len(y_teste)\n",
        "print(n2)\n",
        "#compute the total number of data points\n",
        "n = len(y)\n",
        "print(n)\n",
        "#compute the modified variance\n",
        "sigma2_mod = sigma2 * (1/n + n2/n1)\n",
        "print(sigma2_mod)\n",
        "#compute the t_static\n",
        "t_static =  d_bar / np.sqrt(sigma2_mod)\n",
        "print(t_static)\n",
        "from scipy.stats import t\n",
        "#Compute p-value and plot the results\n",
        "print(t.cdf(t_static, n-1))\n",
        "Pvalue = ((1 - t.cdf(t_static, n-1))*200)\n",
        "Pvalue"
      ]
    },
    {
      "cell_type": "markdown",
      "source": [
        "Comparar Random Forest com MLP"
      ],
      "metadata": {
        "id": "G9AkAbCj3GnH"
      }
    },
    {
      "cell_type": "code",
      "execution_count": null,
      "metadata": {
        "id": "LQtHpErn3GnH",
        "colab": {
          "base_uri": "https://localhost:8080/"
        },
        "outputId": "802c253d-527c-458e-e2d1-ee45a5ec5c95"
      },
      "outputs": [
        {
          "output_type": "stream",
          "name": "stdout",
          "text": [
            "0.7841287458379578\n",
            "3.079572456796133e-07\n",
            "12579\n",
            "18078\n",
            "90387\n",
            "4.425863697642832e-07\n",
            "1178.6594912548342\n",
            "1.0\n"
          ]
        },
        {
          "output_type": "execute_result",
          "data": {
            "text/plain": [
              "0.0"
            ]
          },
          "metadata": {},
          "execution_count": 60
        }
      ],
      "source": [
        "import numpy as np\n",
        "#Compute the difference between the results\n",
        "diff = [relatorio_MLP, relatorio_random_forest]\n",
        "#Comopute the mean of differences\n",
        "d_bar = np.mean(diff)\n",
        "print(d_bar)\n",
        "#compute the variance of differences\n",
        "sigma2 = np.var(diff)\n",
        "print(sigma2)\n",
        "#compute the number of data points used for training\n",
        "n1 = len(y_treino)\n",
        "print(n1)\n",
        "#compute the number of data points used for testing\n",
        "n2 = len(y_teste)\n",
        "print(n2)\n",
        "#compute the total number of data points\n",
        "n = len(y)\n",
        "print(n)\n",
        "#compute the modified variance\n",
        "sigma2_mod = sigma2 * (1/n + n2/n1)\n",
        "print(sigma2_mod)\n",
        "#compute the t_static\n",
        "t_static =  d_bar / np.sqrt(sigma2_mod)\n",
        "print(t_static)\n",
        "from scipy.stats import t\n",
        "#Compute p-value and plot the results\n",
        "print(t.cdf(t_static, n-1))\n",
        "Pvalue = ((1 - t.cdf(t_static, n-1))*200)\n",
        "Pvalue"
      ]
    }
  ]
}
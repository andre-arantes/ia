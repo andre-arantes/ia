{
  "nbformat": 4,
  "nbformat_minor": 0,
  "metadata": {
    "colab": {
      "provenance": [],
      "authorship_tag": "ABX9TyP+OtcGQph8CL41N1muL4qx"
    },
    "kernelspec": {
      "name": "python3",
      "display_name": "Python 3"
    },
    "language_info": {
      "name": "python"
    }
  },
  "cells": [
    {
      "cell_type": "code",
      "source": [
        "# installing chefboost\n",
        "pip install chefboost"
      ],
      "metadata": {
        "colab": {
          "base_uri": "https://localhost:8080/"
        },
        "id": "_YcvUZxC5atq",
        "outputId": "025dc0e0-4bd4-40d6-b411-15500ab9f323"
      },
      "execution_count": 27,
      "outputs": [
        {
          "output_type": "stream",
          "name": "stdout",
          "text": [
            "Requirement already satisfied: chefboost in /usr/local/lib/python3.10/dist-packages (0.0.17)\n",
            "Requirement already satisfied: pandas>=0.22.0 in /usr/local/lib/python3.10/dist-packages (from chefboost) (1.5.3)\n",
            "Requirement already satisfied: numpy>=1.14.0 in /usr/local/lib/python3.10/dist-packages (from chefboost) (1.23.5)\n",
            "Requirement already satisfied: tqdm>=4.30.0 in /usr/local/lib/python3.10/dist-packages (from chefboost) (4.66.1)\n",
            "Requirement already satisfied: psutil>=5.4.3 in /usr/local/lib/python3.10/dist-packages (from chefboost) (5.9.5)\n",
            "Requirement already satisfied: python-dateutil>=2.8.1 in /usr/local/lib/python3.10/dist-packages (from pandas>=0.22.0->chefboost) (2.8.2)\n",
            "Requirement already satisfied: pytz>=2020.1 in /usr/local/lib/python3.10/dist-packages (from pandas>=0.22.0->chefboost) (2023.3.post1)\n",
            "Requirement already satisfied: six>=1.5 in /usr/local/lib/python3.10/dist-packages (from python-dateutil>=2.8.1->pandas>=0.22.0->chefboost) (1.16.0)\n"
          ]
        }
      ]
    },
    {
      "cell_type": "code",
      "execution_count": 28,
      "metadata": {
        "id": "Mtde7t2u5EXD"
      },
      "outputs": [],
      "source": [
        "# importing chefboost and pandas\n",
        "import pandas as pd\n",
        "from chefboost import Chefboost as chef"
      ]
    },
    {
      "cell_type": "code",
      "source": [
        "# importing the db\n",
        "df = pd.read_csv('sample_data/credit.csv', sep=';')\n",
        "df.head()"
      ],
      "metadata": {
        "id": "NDo6Lnl95g5L",
        "colab": {
          "base_uri": "https://localhost:8080/",
          "height": 206
        },
        "outputId": "97519dc9-74d0-4916-b49a-6bbc997a84c3"
      },
      "execution_count": 29,
      "outputs": [
        {
          "output_type": "execute_result",
          "data": {
            "text/plain": [
              "  Historia do credito Divida Garantias        Renda anual     Risco\n",
              "0                Ruim   Alta   Nenhuma             <15000      Alto\n",
              "1        Desconhecida   Alta   Nenhuma  >=15000 a <=35000      Alto\n",
              "2        Desconhecida  Baixa   Nenhuma  >=15000 a <=35000  Moderado\n",
              "3        Desconhecida  Baixa   Nenhuma             >35000      Alto\n",
              "4        Desconhecida  Baixa   Nenhuma             >35000     Baixo"
            ],
            "text/html": [
              "\n",
              "  <div id=\"df-f532882b-0feb-4209-8b02-dfb98eb6ee27\" class=\"colab-df-container\">\n",
              "    <div>\n",
              "<style scoped>\n",
              "    .dataframe tbody tr th:only-of-type {\n",
              "        vertical-align: middle;\n",
              "    }\n",
              "\n",
              "    .dataframe tbody tr th {\n",
              "        vertical-align: top;\n",
              "    }\n",
              "\n",
              "    .dataframe thead th {\n",
              "        text-align: right;\n",
              "    }\n",
              "</style>\n",
              "<table border=\"1\" class=\"dataframe\">\n",
              "  <thead>\n",
              "    <tr style=\"text-align: right;\">\n",
              "      <th></th>\n",
              "      <th>Historia do credito</th>\n",
              "      <th>Divida</th>\n",
              "      <th>Garantias</th>\n",
              "      <th>Renda anual</th>\n",
              "      <th>Risco</th>\n",
              "    </tr>\n",
              "  </thead>\n",
              "  <tbody>\n",
              "    <tr>\n",
              "      <th>0</th>\n",
              "      <td>Ruim</td>\n",
              "      <td>Alta</td>\n",
              "      <td>Nenhuma</td>\n",
              "      <td>&lt;15000</td>\n",
              "      <td>Alto</td>\n",
              "    </tr>\n",
              "    <tr>\n",
              "      <th>1</th>\n",
              "      <td>Desconhecida</td>\n",
              "      <td>Alta</td>\n",
              "      <td>Nenhuma</td>\n",
              "      <td>&gt;=15000 a &lt;=35000</td>\n",
              "      <td>Alto</td>\n",
              "    </tr>\n",
              "    <tr>\n",
              "      <th>2</th>\n",
              "      <td>Desconhecida</td>\n",
              "      <td>Baixa</td>\n",
              "      <td>Nenhuma</td>\n",
              "      <td>&gt;=15000 a &lt;=35000</td>\n",
              "      <td>Moderado</td>\n",
              "    </tr>\n",
              "    <tr>\n",
              "      <th>3</th>\n",
              "      <td>Desconhecida</td>\n",
              "      <td>Baixa</td>\n",
              "      <td>Nenhuma</td>\n",
              "      <td>&gt;35000</td>\n",
              "      <td>Alto</td>\n",
              "    </tr>\n",
              "    <tr>\n",
              "      <th>4</th>\n",
              "      <td>Desconhecida</td>\n",
              "      <td>Baixa</td>\n",
              "      <td>Nenhuma</td>\n",
              "      <td>&gt;35000</td>\n",
              "      <td>Baixo</td>\n",
              "    </tr>\n",
              "  </tbody>\n",
              "</table>\n",
              "</div>\n",
              "    <div class=\"colab-df-buttons\">\n",
              "\n",
              "  <div class=\"colab-df-container\">\n",
              "    <button class=\"colab-df-convert\" onclick=\"convertToInteractive('df-f532882b-0feb-4209-8b02-dfb98eb6ee27')\"\n",
              "            title=\"Convert this dataframe to an interactive table.\"\n",
              "            style=\"display:none;\">\n",
              "\n",
              "  <svg xmlns=\"http://www.w3.org/2000/svg\" height=\"24px\" viewBox=\"0 -960 960 960\">\n",
              "    <path d=\"M120-120v-720h720v720H120Zm60-500h600v-160H180v160Zm220 220h160v-160H400v160Zm0 220h160v-160H400v160ZM180-400h160v-160H180v160Zm440 0h160v-160H620v160ZM180-180h160v-160H180v160Zm440 0h160v-160H620v160Z\"/>\n",
              "  </svg>\n",
              "    </button>\n",
              "\n",
              "  <style>\n",
              "    .colab-df-container {\n",
              "      display:flex;\n",
              "      gap: 12px;\n",
              "    }\n",
              "\n",
              "    .colab-df-convert {\n",
              "      background-color: #E8F0FE;\n",
              "      border: none;\n",
              "      border-radius: 50%;\n",
              "      cursor: pointer;\n",
              "      display: none;\n",
              "      fill: #1967D2;\n",
              "      height: 32px;\n",
              "      padding: 0 0 0 0;\n",
              "      width: 32px;\n",
              "    }\n",
              "\n",
              "    .colab-df-convert:hover {\n",
              "      background-color: #E2EBFA;\n",
              "      box-shadow: 0px 1px 2px rgba(60, 64, 67, 0.3), 0px 1px 3px 1px rgba(60, 64, 67, 0.15);\n",
              "      fill: #174EA6;\n",
              "    }\n",
              "\n",
              "    .colab-df-buttons div {\n",
              "      margin-bottom: 4px;\n",
              "    }\n",
              "\n",
              "    [theme=dark] .colab-df-convert {\n",
              "      background-color: #3B4455;\n",
              "      fill: #D2E3FC;\n",
              "    }\n",
              "\n",
              "    [theme=dark] .colab-df-convert:hover {\n",
              "      background-color: #434B5C;\n",
              "      box-shadow: 0px 1px 3px 1px rgba(0, 0, 0, 0.15);\n",
              "      filter: drop-shadow(0px 1px 2px rgba(0, 0, 0, 0.3));\n",
              "      fill: #FFFFFF;\n",
              "    }\n",
              "  </style>\n",
              "\n",
              "    <script>\n",
              "      const buttonEl =\n",
              "        document.querySelector('#df-f532882b-0feb-4209-8b02-dfb98eb6ee27 button.colab-df-convert');\n",
              "      buttonEl.style.display =\n",
              "        google.colab.kernel.accessAllowed ? 'block' : 'none';\n",
              "\n",
              "      async function convertToInteractive(key) {\n",
              "        const element = document.querySelector('#df-f532882b-0feb-4209-8b02-dfb98eb6ee27');\n",
              "        const dataTable =\n",
              "          await google.colab.kernel.invokeFunction('convertToInteractive',\n",
              "                                                    [key], {});\n",
              "        if (!dataTable) return;\n",
              "\n",
              "        const docLinkHtml = 'Like what you see? Visit the ' +\n",
              "          '<a target=\"_blank\" href=https://colab.research.google.com/notebooks/data_table.ipynb>data table notebook</a>'\n",
              "          + ' to learn more about interactive tables.';\n",
              "        element.innerHTML = '';\n",
              "        dataTable['output_type'] = 'display_data';\n",
              "        await google.colab.output.renderOutput(dataTable, element);\n",
              "        const docLink = document.createElement('div');\n",
              "        docLink.innerHTML = docLinkHtml;\n",
              "        element.appendChild(docLink);\n",
              "      }\n",
              "    </script>\n",
              "  </div>\n",
              "\n",
              "\n",
              "<div id=\"df-261cc849-0452-4e81-95cc-167cd66c3ac4\">\n",
              "  <button class=\"colab-df-quickchart\" onclick=\"quickchart('df-261cc849-0452-4e81-95cc-167cd66c3ac4')\"\n",
              "            title=\"Suggest charts.\"\n",
              "            style=\"display:none;\">\n",
              "\n",
              "<svg xmlns=\"http://www.w3.org/2000/svg\" height=\"24px\"viewBox=\"0 0 24 24\"\n",
              "     width=\"24px\">\n",
              "    <g>\n",
              "        <path d=\"M19 3H5c-1.1 0-2 .9-2 2v14c0 1.1.9 2 2 2h14c1.1 0 2-.9 2-2V5c0-1.1-.9-2-2-2zM9 17H7v-7h2v7zm4 0h-2V7h2v10zm4 0h-2v-4h2v4z\"/>\n",
              "    </g>\n",
              "</svg>\n",
              "  </button>\n",
              "\n",
              "<style>\n",
              "  .colab-df-quickchart {\n",
              "      --bg-color: #E8F0FE;\n",
              "      --fill-color: #1967D2;\n",
              "      --hover-bg-color: #E2EBFA;\n",
              "      --hover-fill-color: #174EA6;\n",
              "      --disabled-fill-color: #AAA;\n",
              "      --disabled-bg-color: #DDD;\n",
              "  }\n",
              "\n",
              "  [theme=dark] .colab-df-quickchart {\n",
              "      --bg-color: #3B4455;\n",
              "      --fill-color: #D2E3FC;\n",
              "      --hover-bg-color: #434B5C;\n",
              "      --hover-fill-color: #FFFFFF;\n",
              "      --disabled-bg-color: #3B4455;\n",
              "      --disabled-fill-color: #666;\n",
              "  }\n",
              "\n",
              "  .colab-df-quickchart {\n",
              "    background-color: var(--bg-color);\n",
              "    border: none;\n",
              "    border-radius: 50%;\n",
              "    cursor: pointer;\n",
              "    display: none;\n",
              "    fill: var(--fill-color);\n",
              "    height: 32px;\n",
              "    padding: 0;\n",
              "    width: 32px;\n",
              "  }\n",
              "\n",
              "  .colab-df-quickchart:hover {\n",
              "    background-color: var(--hover-bg-color);\n",
              "    box-shadow: 0 1px 2px rgba(60, 64, 67, 0.3), 0 1px 3px 1px rgba(60, 64, 67, 0.15);\n",
              "    fill: var(--button-hover-fill-color);\n",
              "  }\n",
              "\n",
              "  .colab-df-quickchart-complete:disabled,\n",
              "  .colab-df-quickchart-complete:disabled:hover {\n",
              "    background-color: var(--disabled-bg-color);\n",
              "    fill: var(--disabled-fill-color);\n",
              "    box-shadow: none;\n",
              "  }\n",
              "\n",
              "  .colab-df-spinner {\n",
              "    border: 2px solid var(--fill-color);\n",
              "    border-color: transparent;\n",
              "    border-bottom-color: var(--fill-color);\n",
              "    animation:\n",
              "      spin 1s steps(1) infinite;\n",
              "  }\n",
              "\n",
              "  @keyframes spin {\n",
              "    0% {\n",
              "      border-color: transparent;\n",
              "      border-bottom-color: var(--fill-color);\n",
              "      border-left-color: var(--fill-color);\n",
              "    }\n",
              "    20% {\n",
              "      border-color: transparent;\n",
              "      border-left-color: var(--fill-color);\n",
              "      border-top-color: var(--fill-color);\n",
              "    }\n",
              "    30% {\n",
              "      border-color: transparent;\n",
              "      border-left-color: var(--fill-color);\n",
              "      border-top-color: var(--fill-color);\n",
              "      border-right-color: var(--fill-color);\n",
              "    }\n",
              "    40% {\n",
              "      border-color: transparent;\n",
              "      border-right-color: var(--fill-color);\n",
              "      border-top-color: var(--fill-color);\n",
              "    }\n",
              "    60% {\n",
              "      border-color: transparent;\n",
              "      border-right-color: var(--fill-color);\n",
              "    }\n",
              "    80% {\n",
              "      border-color: transparent;\n",
              "      border-right-color: var(--fill-color);\n",
              "      border-bottom-color: var(--fill-color);\n",
              "    }\n",
              "    90% {\n",
              "      border-color: transparent;\n",
              "      border-bottom-color: var(--fill-color);\n",
              "    }\n",
              "  }\n",
              "</style>\n",
              "\n",
              "  <script>\n",
              "    async function quickchart(key) {\n",
              "      const quickchartButtonEl =\n",
              "        document.querySelector('#' + key + ' button');\n",
              "      quickchartButtonEl.disabled = true;  // To prevent multiple clicks.\n",
              "      quickchartButtonEl.classList.add('colab-df-spinner');\n",
              "      try {\n",
              "        const charts = await google.colab.kernel.invokeFunction(\n",
              "            'suggestCharts', [key], {});\n",
              "      } catch (error) {\n",
              "        console.error('Error during call to suggestCharts:', error);\n",
              "      }\n",
              "      quickchartButtonEl.classList.remove('colab-df-spinner');\n",
              "      quickchartButtonEl.classList.add('colab-df-quickchart-complete');\n",
              "    }\n",
              "    (() => {\n",
              "      let quickchartButtonEl =\n",
              "        document.querySelector('#df-261cc849-0452-4e81-95cc-167cd66c3ac4 button');\n",
              "      quickchartButtonEl.style.display =\n",
              "        google.colab.kernel.accessAllowed ? 'block' : 'none';\n",
              "    })();\n",
              "  </script>\n",
              "</div>\n",
              "    </div>\n",
              "  </div>\n"
            ]
          },
          "metadata": {},
          "execution_count": 29
        }
      ]
    },
    {
      "cell_type": "code",
      "source": [
        "# running c4.5\n",
        "config = {'algorithm': 'C4.5'}\n",
        "modelC45 = chef.fit(df, config = config, target_label = 'Risco')"
      ],
      "metadata": {
        "colab": {
          "base_uri": "https://localhost:8080/"
        },
        "id": "1u6ENA3x5nsL",
        "outputId": "4fb0b862-a2ba-480f-c4dd-ce5114d5503a"
      },
      "execution_count": 30,
      "outputs": [
        {
          "output_type": "stream",
          "name": "stdout",
          "text": [
            "[INFO]:  1 CPU cores will be allocated in parallel running\n",
            "C4.5  tree is going to be built...\n",
            "-------------------------\n",
            "finished in  1.2149639129638672  seconds\n",
            "-------------------------\n",
            "Evaluate  train set\n",
            "-------------------------\n",
            "Accuracy:  92.85714285714286 % on  14  instances\n",
            "Labels:  ['Alto' 'Moderado' 'Baixo']\n",
            "Confusion matrix:  [[6, 0, 1], [0, 3, 0], [0, 0, 4]]\n",
            "Decision  Alto  => Accuray:  92.8571 %, Precision:  85.7143 %, Recall:  100.0 %, F1:  92.3077 %\n",
            "Decision  Moderado  => Accuray:  100.0 %, Precision:  100.0 %, Recall:  100.0 %, F1:  100.0 %\n",
            "Decision  Baixo  => Accuray:  92.8571 %, Precision:  100.0 %, Recall:  80.0 %, F1:  88.8889 %\n"
          ]
        }
      ]
    },
    {
      "cell_type": "code",
      "source": [
        "# testing a prediction method\n",
        "chef.predict(modelC45, ['Ruim', 'Alta', 'Nenhuma', '<15000'])"
      ],
      "metadata": {
        "id": "afZ0P7KqBSgZ",
        "colab": {
          "base_uri": "https://localhost:8080/",
          "height": 36
        },
        "outputId": "5934817f-f0d9-4e72-c62f-bed3f305c6d5"
      },
      "execution_count": 41,
      "outputs": [
        {
          "output_type": "execute_result",
          "data": {
            "text/plain": [
              "'Alto'"
            ],
            "application/vnd.google.colaboratory.intrinsic+json": {
              "type": "string"
            }
          },
          "metadata": {},
          "execution_count": 41
        }
      ]
    },
    {
      "cell_type": "code",
      "source": [
        "# comparing the inputs and the outputs\n",
        "for index, instance in df.iterrows():\n",
        "  prediction = chef.predict(modelC45, instance)\n",
        "  actual = instance['Risco']\n",
        "  print(prediction, \" vs \", actual)"
      ],
      "metadata": {
        "id": "oGBHeqg5Boev",
        "colab": {
          "base_uri": "https://localhost:8080/"
        },
        "outputId": "4f8b7297-2a38-4905-dc5a-d9b464de28fd"
      },
      "execution_count": 42,
      "outputs": [
        {
          "output_type": "stream",
          "name": "stdout",
          "text": [
            "Alto  vs  Alto\n",
            "Alto  vs  Alto\n",
            "Moderado  vs  Moderado\n",
            "Alto  vs  Alto\n",
            "Alto  vs  Baixo\n",
            "Baixo  vs  Baixo\n",
            "Alto  vs  Alto\n",
            "Moderado  vs  Moderado\n",
            "Baixo  vs  Baixo\n",
            "Baixo  vs  Baixo\n",
            "Alto  vs  Alto\n",
            "Moderado  vs  Moderado\n",
            "Baixo  vs  Baixo\n",
            "Alto  vs  Alto\n"
          ]
        }
      ]
    },
    {
      "cell_type": "code",
      "source": [
        "# running id3\n",
        "config = {'algorithm' : 'ID3'}\n",
        "modelID3 = chef.fit(df, config = config, target_label = 'Risco')"
      ],
      "metadata": {
        "id": "G9cdB3XNC184",
        "colab": {
          "base_uri": "https://localhost:8080/"
        },
        "outputId": "6c5e4864-9867-4988-e7fe-62c9e10ad5e8"
      },
      "execution_count": 40,
      "outputs": [
        {
          "output_type": "stream",
          "name": "stdout",
          "text": [
            "[INFO]:  1 CPU cores will be allocated in parallel running\n",
            "ID3  tree is going to be built...\n",
            "-------------------------\n",
            "finished in  1.1083428859710693  seconds\n",
            "-------------------------\n",
            "Evaluate  train set\n",
            "-------------------------\n",
            "Accuracy:  92.85714285714286 % on  14  instances\n",
            "Labels:  ['Alto' 'Moderado' 'Baixo']\n",
            "Confusion matrix:  [[6, 0, 1], [0, 3, 0], [0, 0, 4]]\n",
            "Decision  Alto  => Accuray:  92.8571 %, Precision:  85.7143 %, Recall:  100.0 %, F1:  92.3077 %\n",
            "Decision  Moderado  => Accuray:  100.0 %, Precision:  100.0 %, Recall:  100.0 %, F1:  100.0 %\n",
            "Decision  Baixo  => Accuray:  92.8571 %, Precision:  100.0 %, Recall:  80.0 %, F1:  88.8889 %\n"
          ]
        }
      ]
    },
    {
      "cell_type": "code",
      "source": [
        "# running cart\n",
        "config = {'algorithm': 'CART'}\n",
        "modelCART = chef.fit(df, config = config, target_label = 'Risco')"
      ],
      "metadata": {
        "id": "MpBq8wGbDH43",
        "colab": {
          "base_uri": "https://localhost:8080/"
        },
        "outputId": "1b3b0ed2-937a-4328-8ad3-02af0c9b022d"
      },
      "execution_count": 44,
      "outputs": [
        {
          "output_type": "stream",
          "name": "stdout",
          "text": [
            "[INFO]:  1 CPU cores will be allocated in parallel running\n",
            "CART  tree is going to be built...\n",
            "-------------------------\n",
            "finished in  1.1130998134613037  seconds\n",
            "-------------------------\n",
            "Evaluate  train set\n",
            "-------------------------\n",
            "Accuracy:  92.85714285714286 % on  14  instances\n",
            "Labels:  ['Alto' 'Moderado' 'Baixo']\n",
            "Confusion matrix:  [[6, 0, 1], [0, 3, 0], [0, 0, 4]]\n",
            "Decision  Alto  => Accuray:  92.8571 %, Precision:  85.7143 %, Recall:  100.0 %, F1:  92.3077 %\n",
            "Decision  Moderado  => Accuray:  100.0 %, Precision:  100.0 %, Recall:  100.0 %, F1:  100.0 %\n",
            "Decision  Baixo  => Accuray:  92.8571 %, Precision:  100.0 %, Recall:  80.0 %, F1:  88.8889 %\n"
          ]
        }
      ]
    }
  ]
}